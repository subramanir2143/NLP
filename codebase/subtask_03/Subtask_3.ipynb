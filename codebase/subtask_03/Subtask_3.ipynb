{
  "cells": [
    {
      "cell_type": "code",
      "execution_count": 1,
      "metadata": {
        "id": "TWrhaODMlRnU",
        "colab": {
          "base_uri": "https://localhost:8080/"
        },
        "outputId": "8c0cb575-551b-414c-d1a8-8b3f7020a61e"
      },
      "outputs": [
        {
          "output_type": "stream",
          "name": "stdout",
          "text": [
            "Collecting transformers\n",
            "  Downloading transformers-4.19.0-py3-none-any.whl (4.2 MB)\n",
            "\u001b[K     |████████████████████████████████| 4.2 MB 7.0 MB/s \n",
            "\u001b[?25hRequirement already satisfied: importlib-metadata in /usr/local/lib/python3.7/dist-packages (from transformers) (4.11.3)\n",
            "Requirement already satisfied: regex!=2019.12.17 in /usr/local/lib/python3.7/dist-packages (from transformers) (2019.12.20)\n",
            "Requirement already satisfied: tqdm>=4.27 in /usr/local/lib/python3.7/dist-packages (from transformers) (4.64.0)\n",
            "Collecting pyyaml>=5.1\n",
            "  Downloading PyYAML-6.0-cp37-cp37m-manylinux_2_5_x86_64.manylinux1_x86_64.manylinux_2_12_x86_64.manylinux2010_x86_64.whl (596 kB)\n",
            "\u001b[K     |████████████████████████████████| 596 kB 52.0 MB/s \n",
            "\u001b[?25hCollecting huggingface-hub<1.0,>=0.1.0\n",
            "  Downloading huggingface_hub-0.6.0-py3-none-any.whl (84 kB)\n",
            "\u001b[K     |████████████████████████████████| 84 kB 3.4 MB/s \n",
            "\u001b[?25hRequirement already satisfied: requests in /usr/local/lib/python3.7/dist-packages (from transformers) (2.23.0)\n",
            "Requirement already satisfied: numpy>=1.17 in /usr/local/lib/python3.7/dist-packages (from transformers) (1.21.6)\n",
            "Collecting tokenizers!=0.11.3,<0.13,>=0.11.1\n",
            "  Downloading tokenizers-0.12.1-cp37-cp37m-manylinux_2_12_x86_64.manylinux2010_x86_64.whl (6.6 MB)\n",
            "\u001b[K     |████████████████████████████████| 6.6 MB 40.2 MB/s \n",
            "\u001b[?25hRequirement already satisfied: filelock in /usr/local/lib/python3.7/dist-packages (from transformers) (3.6.0)\n",
            "Requirement already satisfied: packaging>=20.0 in /usr/local/lib/python3.7/dist-packages (from transformers) (21.3)\n",
            "Requirement already satisfied: typing-extensions>=3.7.4.3 in /usr/local/lib/python3.7/dist-packages (from huggingface-hub<1.0,>=0.1.0->transformers) (4.2.0)\n",
            "Requirement already satisfied: pyparsing!=3.0.5,>=2.0.2 in /usr/local/lib/python3.7/dist-packages (from packaging>=20.0->transformers) (3.0.8)\n",
            "Requirement already satisfied: zipp>=0.5 in /usr/local/lib/python3.7/dist-packages (from importlib-metadata->transformers) (3.8.0)\n",
            "Requirement already satisfied: idna<3,>=2.5 in /usr/local/lib/python3.7/dist-packages (from requests->transformers) (2.10)\n",
            "Requirement already satisfied: chardet<4,>=3.0.2 in /usr/local/lib/python3.7/dist-packages (from requests->transformers) (3.0.4)\n",
            "Requirement already satisfied: urllib3!=1.25.0,!=1.25.1,<1.26,>=1.21.1 in /usr/local/lib/python3.7/dist-packages (from requests->transformers) (1.24.3)\n",
            "Requirement already satisfied: certifi>=2017.4.17 in /usr/local/lib/python3.7/dist-packages (from requests->transformers) (2021.10.8)\n",
            "Installing collected packages: pyyaml, tokenizers, huggingface-hub, transformers\n",
            "  Attempting uninstall: pyyaml\n",
            "    Found existing installation: PyYAML 3.13\n",
            "    Uninstalling PyYAML-3.13:\n",
            "      Successfully uninstalled PyYAML-3.13\n",
            "Successfully installed huggingface-hub-0.6.0 pyyaml-6.0 tokenizers-0.12.1 transformers-4.19.0\n"
          ]
        }
      ],
      "source": [
        "### INSTALL TRANSFORMERS PACKAGE\n",
        "!pip install transformers"
      ]
    },
    {
      "cell_type": "code",
      "execution_count": 2,
      "metadata": {
        "id": "5JDCXea4ljJ1"
      },
      "outputs": [],
      "source": [
        "### IMPORT REQUIRED PACKAGES\n",
        "import torch\n",
        "import torch.nn as nn\n",
        "import torch.nn.functional as F\n",
        "import numpy as np\n",
        "import pandas as pd\n",
        "from sklearn.preprocessing import MinMaxScaler, LabelEncoder, StandardScaler\n",
        "from sklearn import metrics\n",
        "from transformers import BertTokenizer, BertModel\n",
        "from torch.utils.data import TensorDataset, DataLoader, RandomSampler, SequentialSampler\n",
        "import time\n",
        "from tqdm import tqdm\n",
        "import math\n",
        "from keras import layers, Model\n",
        "from keras import backend as K\n",
        "import tensorflow as tf\n",
        "from torch.utils.data import TensorDataset, random_split\n",
        "from sklearn.model_selection import train_test_split\n",
        "import seaborn as sns\n",
        "import matplotlib.pyplot as plt\n",
        "from torch.utils.data import Dataset"
      ]
    },
    {
      "cell_type": "code",
      "execution_count": 33,
      "metadata": {
        "colab": {
          "base_uri": "https://localhost:8080/"
        },
        "id": "ePHw5ncxl_1y",
        "outputId": "193ab983-18c5-4e54-e69f-b3101c8c317f"
      },
      "outputs": [
        {
          "output_type": "stream",
          "name": "stderr",
          "text": [
            "Some weights of the model checkpoint at bert-base-uncased were not used when initializing BertModel: ['cls.seq_relationship.bias', 'cls.predictions.transform.dense.weight', 'cls.predictions.bias', 'cls.predictions.decoder.weight', 'cls.predictions.transform.dense.bias', 'cls.predictions.transform.LayerNorm.bias', 'cls.seq_relationship.weight', 'cls.predictions.transform.LayerNorm.weight']\n",
            "- This IS expected if you are initializing BertModel from the checkpoint of a model trained on another task or with another architecture (e.g. initializing a BertForSequenceClassification model from a BertForPreTraining model).\n",
            "- This IS NOT expected if you are initializing BertModel from the checkpoint of a model that you expect to be exactly identical (initializing a BertForSequenceClassification model from a BertForSequenceClassification model).\n"
          ]
        }
      ],
      "source": [
        "# cuda device\n",
        "device = torch.device('cuda' if torch.cuda.is_available() else 'cpu')\n",
        "\n",
        "# Load pre-trained model tokenizer (vocabulary)\n",
        "tokenizer = BertTokenizer.from_pretrained('bert-base-uncased')\n",
        "\n",
        "# Load pre-trained model (weights)\n",
        "model = BertModel.from_pretrained('bert-base-uncased', output_hidden_states = True) # Whether the model returns all hidden-states.\n",
        "\n",
        "categorical_features = ['INTER1', 'INTER2', 'INTERACTION', 'ADMIN1', 'SOURCE', 'SOURCE_SCALE', 'FATALITIES']"
      ]
    },
    {
      "cell_type": "code",
      "execution_count": 34,
      "metadata": {
        "colab": {
          "base_uri": "https://localhost:8080/"
        },
        "id": "YBjsnz8GoLzY",
        "outputId": "d43779f0-7215-4edc-c19d-576b065d7d8a"
      },
      "outputs": [
        {
          "output_type": "stream",
          "name": "stdout",
          "text": [
            "There are 1 GPU(s) available.\n",
            "We will use the GPU: Tesla T4\n"
          ]
        }
      ],
      "source": [
        "if torch.cuda.is_available():    \n",
        "\n",
        "    # Tell PyTorch to use the GPU.    \n",
        "    device = torch.device(\"cuda\")\n",
        "\n",
        "    print('There are %d GPU(s) available.' % torch.cuda.device_count())\n",
        "\n",
        "    print('We will use the GPU:', torch.cuda.get_device_name(0))\n",
        "    model.to(device)\n",
        "\n",
        "# If not...\n",
        "else:\n",
        "    print('No GPU available, using the CPU instead.')\n",
        "    device = torch.device(\"cpu\")"
      ]
    },
    {
      "cell_type": "code",
      "execution_count": 38,
      "metadata": {
        "id": "beK7Vu88wB7B"
      },
      "outputs": [],
      "source": [
        "# Multi Column Label Encoder for encoding labels across multiple columns\n",
        "class MultiColumnLabelEncoder:\n",
        "    def __init__(self,columns = None):\n",
        "        self.columns = columns # array of column names to encode\n",
        "\n",
        "    def fit(self,X,y=None):\n",
        "        return self # not relevant here\n",
        "\n",
        "    def transform(self,X):\n",
        "        '''\n",
        "        Transforms columns of X specified in self.columns using\n",
        "        LabelEncoder(). If no columns specified, transforms all\n",
        "        columns in X.\n",
        "        '''\n",
        "        output = X.copy()\n",
        "        if self.columns is not None:\n",
        "            for col in self.columns:\n",
        "                output[col] = LabelEncoder().fit_transform(output[col])\n",
        "        else:\n",
        "            for colname,col in output.iteritems():\n",
        "                output[colname] = LabelEncoder().fit_transform(col)\n",
        "        return output\n",
        "\n",
        "    def fit_transform(self,X,y=None):\n",
        "        return self.fit(X,y).transform(X)"
      ]
    },
    {
      "cell_type": "code",
      "execution_count": 39,
      "metadata": {
        "colab": {
          "base_uri": "https://localhost:8080/"
        },
        "id": "fY0yOpjKnBm_",
        "outputId": "a934d812-d667-4656-fd45-ece25afc39f9"
      },
      "outputs": [
        {
          "output_type": "stream",
          "name": "stderr",
          "text": [
            "/usr/local/lib/python3.7/dist-packages/IPython/core/interactiveshell.py:2882: DtypeWarning: Columns (2,19) have mixed types.Specify dtype option on import or set low_memory=False.\n",
            "  exec(code_obj, self.user_global_ns, self.user_ns)\n"
          ]
        }
      ],
      "source": [
        "# LOAD DATAFRAME\n",
        "filename = '/content/task_3_event_prediction.tsv'\n",
        "dataframe = pd.read_csv(filename, delimiter='\\t')\n",
        "\n",
        "# DATA PREPROCESSING\n",
        "\n",
        "# taking only data for India\n",
        "dataframe = dataframe[dataframe['COUNTRY'] == 'India']\n",
        "\n",
        "# taking only EVENT_DATE, EVENT_TYPE, INTER1, INTER2, INTERACTION, ADMIN1, SOURCE, SOURCE_SCALE, NOTES, FATALITIES\n",
        "dataframe = dataframe[['EVENT_DATE', 'EVENT_TYPE', 'INTER1', 'INTER2', 'INTERACTION', 'ADMIN1', 'SOURCE', \n",
        "                       'SOURCE_SCALE', 'NOTES', 'FATALITIES']]\n",
        "\n",
        "# drop nan values\n",
        "dataframe = dataframe.dropna()\n",
        "dataframe = dataframe.reset_index(drop=True)\n",
        "\n",
        "# convert date to pd.datetime\n",
        "dataframe['EVENT_DATE'] = pd.to_datetime(dataframe['EVENT_DATE'])\n",
        "\n",
        "# encode event type as Protests = 1, Others = 0\n",
        "dataframe['EVENT_TYPE'] = np.where(dataframe['EVENT_TYPE'] == 'Protests', 1, 0)\n",
        "\n",
        "# reducing Inter1 by 1 to make minimum as 0\n",
        "dataframe['INTER1'] = dataframe['INTER1'] - 1\n",
        "\n",
        "# updating values in Interaction\n",
        "# MinMaxScaler to normalize numerical values to between 0 and 1\n",
        "scaler = MinMaxScaler(feature_range=(0, dataframe['INTERACTION'].nunique()))\n",
        "dataframe[['INTERACTION']] = scaler.fit_transform(dataframe[['INTERACTION']])\n",
        "\n",
        "# label encode the admin1, source, source_scale columns\n",
        "dataframe = MultiColumnLabelEncoder(columns = ['ADMIN1', 'SOURCE', 'SOURCE_SCALE']).fit_transform(dataframe)\n",
        "\n",
        "# normalize Fatalities as well. But there are values missing in here. What to do?\n",
        "# MinMaxScaler to normalize numerical values to between 0 and 1\n",
        "scaler = MinMaxScaler(feature_range=(0,dataframe['FATALITIES'].nunique()))\n",
        "dataframe[['FATALITIES']] = scaler.fit_transform(dataframe[['FATALITIES']])"
      ]
    },
    {
      "cell_type": "code",
      "execution_count": 40,
      "metadata": {
        "colab": {
          "base_uri": "https://localhost:8080/"
        },
        "id": "R5aLYhtnuDOl",
        "outputId": "ff145387-ce76-4dfe-d6ce-e8bc10f253f6"
      },
      "outputs": [
        {
          "output_type": "execute_result",
          "data": {
            "text/plain": [
              "(77892, 10)"
            ]
          },
          "metadata": {},
          "execution_count": 40
        }
      ],
      "source": [
        "### DATAFRAME SHAPE: (77892 * 10)\n",
        "dataframe.shape"
      ]
    },
    {
      "cell_type": "code",
      "source": [
        "def get_notes_embeddings(df_notes):\n",
        "  '''\n",
        "  using bert base uncased pretrained model, retrieve the embedding for the notes column\n",
        "  '''\n",
        "  sentence_embeddings = None\n",
        "  for note in df_notes:\n",
        "      # Tokenize our sentence with the BERT tokenizer.\n",
        "      tokenized_text = tokenizer.tokenize(note)\n",
        "      # Map the token strings to their vocabulary indeces.\n",
        "      indexed_tokens = tokenizer.convert_tokens_to_ids(tokenized_text)\n",
        "      segments_ids = [1] * len(tokenized_text)\n",
        "\n",
        "      # Convert inputs to PyTorch tensors\n",
        "      tokens_tensor = torch.tensor([indexed_tokens]).to(device)\n",
        "      segments_tensors = torch.tensor([segments_ids]).to(device)\n",
        "      # Run the text through BERT, and collect all of the hidden states produced\n",
        "      # from all 12 layers. \n",
        "      with torch.no_grad():\n",
        "          outputs = model(tokens_tensor, segments_tensors)\n",
        "\n",
        "          # Evaluating the model will return a different number of objects based on \n",
        "          # how it's  configured in the `from_pretrained` call earlier. In this case, \n",
        "          # becase we set `output_hidden_states = True`, the third item will be the \n",
        "          # hidden states from all layers. See the documentation for more details:\n",
        "          # https://huggingface.co/transformers/model_doc/bert.html#bertmodel\n",
        "          hidden_states = outputs[2]\n",
        "\n",
        "      # Concatenate the tensors for all layers. We use `stack` here to\n",
        "      # create a new dimension in the tensor.\n",
        "      token_embeddings = torch.stack(hidden_states, dim=0)\n",
        "\n",
        "      token_embeddings.size()\n",
        "      # `hidden_states` has shape [13 x 1 x 22 x 768]\n",
        "\n",
        "      # `token_vecs` is a tensor with shape [22 x 768]\n",
        "      token_vecs = hidden_states[-2][0]\n",
        "\n",
        "      # Calculate the average of all 22 token vectors.\n",
        "      sentence_embedding = torch.mean(token_vecs, dim=0)\n",
        "      sentence_embedding = sentence_embedding.view(1, sentence_embedding.size(0))\n",
        "      if sentence_embeddings is None:\n",
        "        sentence_embeddings = sentence_embedding        \n",
        "      else:\n",
        "        sentence_embeddings = torch.cat((sentence_embeddings, sentence_embedding), dim=0)        \n",
        "    \n",
        "  return sentence_embeddings"
      ],
      "metadata": {
        "id": "X-L35KA8u3VD"
      },
      "execution_count": 41,
      "outputs": []
    },
    {
      "cell_type": "code",
      "execution_count": 42,
      "metadata": {
        "id": "SePcvgxNvSEp"
      },
      "outputs": [],
      "source": [
        "def get_entity_embedding_model(df, categorical_columns):\n",
        "  '''\n",
        "  Model to fit an embedded vector of the categorical columns to the event type column.\n",
        "  '''\n",
        "  inputs = []\n",
        "  outputs = []\n",
        "  for c in categorical_columns:\n",
        "    num_unique_vals = int(df[c].nunique())\n",
        "    embed_dim = int(min(np.ceil(num_unique_vals / 2), 50))\n",
        "    inp = layers.Input(shape=(1, ))\n",
        "    out = layers.Embedding(num_unique_vals + 1, embed_dim, name=c)(inp)\n",
        "    #apply dropout here\n",
        "    out = layers.Reshape(target_shape=(embed_dim, ))(out)\n",
        "    inputs.append(inp)\n",
        "    outputs.append(out)\n",
        "  x = layers.Concatenate()(outputs)\n",
        "  x = layers.Dense(300, activation='relu')(x)\n",
        "  x = layers.Dropout(0.3)(x)\n",
        "  y = layers.Dense(1, activation='sigmoid')(x)\n",
        "  model = Model(inputs=inputs, outputs = y)\n",
        "\n",
        "  return model"
      ]
    },
    {
      "cell_type": "code",
      "execution_count": 43,
      "metadata": {
        "colab": {
          "base_uri": "https://localhost:8080/"
        },
        "id": "p4MnC9Rbwsib",
        "outputId": "83fb44ed-a757-4e00-94ee-915c6cc702c7"
      },
      "outputs": [
        {
          "output_type": "stream",
          "name": "stdout",
          "text": [
            "4869/4869 [==============================] - 32s 6ms/step - loss: 0.0054\n"
          ]
        },
        {
          "output_type": "execute_result",
          "data": {
            "text/plain": [
              "<keras.callbacks.History at 0x7fbbecd5d1d0>"
            ]
          },
          "metadata": {},
          "execution_count": 43
        }
      ],
      "source": [
        "############### CATEGORICAL EMBEDDING MODEL TRAINING\n",
        "entity_embed_model = get_entity_embedding_model(dataframe, categorical_features)\n",
        "entity_embed_model.compile(loss='binary_crossentropy', optimizer='adam')\n",
        "entity_embed_model.fit(x = [dataframe.loc[:, f] for f in categorical_features], y = dataframe['EVENT_TYPE'].values, batch_size=16)"
      ]
    },
    {
      "cell_type": "code",
      "source": [
        "def get_embeddings(tgt_df, seq_len):\n",
        "  '''\n",
        "    Function to concatenate the categorical embedding and notes embedding\n",
        "    tgt_df: target dataframe for which the we are finding the embedding\n",
        "    seq_len: sequence length to zero pad the embedding\n",
        "  '''\n",
        "  ############### EMBEDDINGS FOR CATEGORICAL FEATURES\n",
        "  intermediate_layer_model = Model(inputs = entity_embed_model.input,\n",
        "                                       outputs = entity_embed_model.get_layer(index=-4).output)\n",
        "\n",
        "  categorical_embeddings = intermediate_layer_model([K.constant(tgt_df.loc[:, f]) for f in categorical_features])\n",
        "  categorical_embeddings = torch.tensor(categorical_embeddings.numpy())\n",
        "  categorical_embeddings = categorical_embeddings.to(device)\n",
        "\n",
        "  ############### GET BERT EMBEDDINGS FOR NOTES\n",
        "  notes_embeddings = get_notes_embeddings(tgt_df['NOTES'])  \n",
        "\n",
        "  ############### CONCAT CATEGORICAL EMBEDDING AND NOTES EMBEDDING\n",
        "  embedded_tensor = torch.cat((categorical_embeddings, notes_embeddings), dim=1)\n",
        "\n",
        "  ############### ZERO PADDING IF LENGTH LESS THAN SEQUENCE LENGTH\n",
        "  original_length = embedded_tensor.shape[0]\n",
        "  if(embedded_tensor.shape[0] < seq_len):\n",
        "    rows_count_to_append = seq_len - embedded_tensor.shape[0]\n",
        "    print(f'Notes embedding size: {notes_embeddings.size()}, Categorical embedding size: {categorical_embeddings.size()}, Rows to append: {rows_count_to_append}')\n",
        "    cols = embedded_tensor.shape[1]\n",
        "    new_rows_tensor = torch.zeros(rows_count_to_append, cols).to(device)\n",
        "    embedded_tensor = torch.cat((embedded_tensor, new_rows_tensor), dim=0)\n",
        "  else:\n",
        "    print(f'Notes embedding size: {notes_embeddings.size()}, Categorical embedding size: {categorical_embeddings.size()}')\n",
        "\n",
        "  return embedded_tensor, original_length"
      ],
      "metadata": {
        "id": "dlochPeBSlcg"
      },
      "execution_count": 44,
      "outputs": []
    },
    {
      "cell_type": "code",
      "source": [
        "############### ROW COUNTS OF DATA GROUPED BY EVENT DATE TO INITIALISE A VALUE FOR SEQUENCE LENGTH\n",
        "event_date_grouping_row_counts = []\n",
        "\n",
        "for label, df in dataframe.groupby('EVENT_DATE'):\n",
        "  event_date_grouping_row_counts.append(df.shape[0])\n",
        "\n",
        "############### DENSITY DISTRIBUTION PLOT OF THE ROW COUNT\n",
        "plt.figure(figsize=(15,5))\n",
        "plt.subplot(1,2,1)\n",
        "sns.distplot(event_date_grouping_row_counts)\n",
        "plt.subplot(1,2,2)\n",
        "sns.distplot([i for i in event_date_grouping_row_counts if i <= 200])\n",
        "plt.show()"
      ],
      "metadata": {
        "colab": {
          "base_uri": "https://localhost:8080/",
          "height": 409
        },
        "id": "Gr61qCfSRg0V",
        "outputId": "c26b8efb-b857-4010-cf1d-10f2dd064e39"
      },
      "execution_count": 45,
      "outputs": [
        {
          "output_type": "stream",
          "name": "stderr",
          "text": [
            "/usr/local/lib/python3.7/dist-packages/seaborn/distributions.py:2619: FutureWarning: `distplot` is a deprecated function and will be removed in a future version. Please adapt your code to use either `displot` (a figure-level function with similar flexibility) or `histplot` (an axes-level function for histograms).\n",
            "  warnings.warn(msg, FutureWarning)\n",
            "/usr/local/lib/python3.7/dist-packages/seaborn/distributions.py:2619: FutureWarning: `distplot` is a deprecated function and will be removed in a future version. Please adapt your code to use either `displot` (a figure-level function with similar flexibility) or `histplot` (an axes-level function for histograms).\n",
            "  warnings.warn(msg, FutureWarning)\n"
          ]
        },
        {
          "output_type": "display_data",
          "data": {
            "text/plain": [
              "<Figure size 1080x360 with 2 Axes>"
            ],
            "image/png": "[encoded data removed]"
          },
          "metadata": {
            "needs_background": "light"
          }
        }
      ]
    },
    {
      "cell_type": "code",
      "source": [
        "########### CALCULATE VALUES FOR EVENT_DATE, PROTEST_COUNTS, TARGET CLASS (index which is mapped to a target class dict), \n",
        "########### EMBEDDING TARGET (mapped to an embedding dict), AND EMBEDDINGS_DICT FOR EACH UNIQUE EVENT_DATE\n",
        "\n",
        "#######################################################\n",
        "#### DICTIONARY OF THE TARGET CLASSES\n",
        "target_classes_dict = dict()\n",
        "i = 0\n",
        "while i<=150:\n",
        "  target_classes_dict[int(i/10)] = f'[{i}, {i+10})'\n",
        "  i = i+10\n",
        "\n",
        "#######################################################\n",
        "\n",
        "min_sequence_length = 10\n",
        "max_sequence_length = 90\n",
        "\n",
        "event_dates = []\n",
        "protest_counts = []\n",
        "target_classes = []\n",
        "embedding_target = []\n",
        "embeddings_dict = dict()\n",
        "i = 0\n",
        "\n",
        "for label, df in dataframe.groupby('EVENT_DATE'):\n",
        "  if(df.shape[0] > max_sequence_length or df.shape[0] < min_sequence_length):\n",
        "    continue\n",
        "  event_dates.append(label.strftime('%m/%d/%Y'))\n",
        "  protest_counts.append(df['EVENT_TYPE'].sum())\n",
        "  target_classes.append(int(df['EVENT_TYPE'].sum()/10))\n",
        "  embedding_target.append(i)\n",
        "  embeddding, seq_len = get_embeddings(df, max_sequence_length)\n",
        "  embeddings_dict[i] = (embeddding, seq_len)\n",
        "  i = i+1"
      ],
      "metadata": {
        "id": "cDDqqGcn0JJ7"
      },
      "execution_count": null,
      "outputs": []
    },
    {
      "cell_type": "code",
      "source": [
        "###### EMBEDDING SHAPE SHOULD BE SAME FOR ALL THE EMBEDDINGS AS WE HAVE PADDED THEM WITH ZEROS (seq_len = 90)\n",
        "for idx, i in enumerate(embedding_target):\n",
        "  print(f'embedding shape for {idx} is {((embeddings_dict[i])[0]).shape}')"
      ],
      "metadata": {
        "id": "T73obI7_W9bW"
      },
      "execution_count": null,
      "outputs": []
    },
    {
      "cell_type": "code",
      "source": [
        "final_df = pd.DataFrame(list(zip(event_dates, protest_counts, embedding_target, target_classes)), \n",
        "                        columns =['EVENT_DATE', 'PROTEST_COUNTS', 'EMBEDDING_KEY', 'TARGET_CLASS_KEY'])\n",
        "\n",
        "###### FINAL DATAFRAME, SHAPE: 1368 * 4\n",
        "final_df"
      ],
      "metadata": {
        "colab": {
          "base_uri": "https://localhost:8080/",
          "height": 424
        },
        "id": "zp_KeJAHXTpj",
        "outputId": "f360e002-b484-490b-930d-c71fea965441"
      },
      "execution_count": 49,
      "outputs": [
        {
          "output_type": "execute_result",
          "data": {
            "text/plain": [
              "      EVENT_DATE  PROTEST_COUNTS  EMBEDDING_KEY  TARGET_CLASS_KEY\n",
              "0     01/01/2018              19              0                 1\n",
              "1     01/02/2018              36              1                 3\n",
              "2     01/03/2018              44              2                 4\n",
              "3     01/04/2018              22              3                 2\n",
              "4     01/05/2018              30              4                 3\n",
              "...          ...             ...            ...               ...\n",
              "1363  01/17/2022              18           1363                 1\n",
              "1364  01/18/2022              29           1364                 2\n",
              "1365  01/19/2022              27           1365                 2\n",
              "1366  01/20/2022              33           1366                 3\n",
              "1367  01/21/2022              13           1367                 1\n",
              "\n",
              "[1368 rows x 4 columns]"
            ],
            "text/html": [
              "\n",
              "  <div id=\"df-328fb561-7c1a-480a-b5c5-4327e16eb6fd\">\n",
              "    <div class=\"colab-df-container\">\n",
              "      <div>\n",
              "<style scoped>\n",
              "    .dataframe tbody tr th:only-of-type {\n",
              "        vertical-align: middle;\n",
              "    }\n",
              "\n",
              "    .dataframe tbody tr th {\n",
              "        vertical-align: top;\n",
              "    }\n",
              "\n",
              "    .dataframe thead th {\n",
              "        text-align: right;\n",
              "    }\n",
              "</style>\n",
              "<table border=\"1\" class=\"dataframe\">\n",
              "  <thead>\n",
              "    <tr style=\"text-align: right;\">\n",
              "      <th></th>\n",
              "      <th>EVENT_DATE</th>\n",
              "      <th>PROTEST_COUNTS</th>\n",
              "      <th>EMBEDDING_KEY</th>\n",
              "      <th>TARGET_CLASS_KEY</th>\n",
              "    </tr>\n",
              "  </thead>\n",
              "  <tbody>\n",
              "    <tr>\n",
              "      <th>0</th>\n",
              "      <td>01/01/2018</td>\n",
              "      <td>19</td>\n",
              "      <td>0</td>\n",
              "      <td>1</td>\n",
              "    </tr>\n",
              "    <tr>\n",
              "      <th>1</th>\n",
              "      <td>01/02/2018</td>\n",
              "      <td>36</td>\n",
              "      <td>1</td>\n",
              "      <td>3</td>\n",
              "    </tr>\n",
              "    <tr>\n",
              "      <th>2</th>\n",
              "      <td>01/03/2018</td>\n",
              "      <td>44</td>\n",
              "      <td>2</td>\n",
              "      <td>4</td>\n",
              "    </tr>\n",
              "    <tr>\n",
              "      <th>3</th>\n",
              "      <td>01/04/2018</td>\n",
              "      <td>22</td>\n",
              "      <td>3</td>\n",
              "      <td>2</td>\n",
              "    </tr>\n",
              "    <tr>\n",
              "      <th>4</th>\n",
              "      <td>01/05/2018</td>\n",
              "      <td>30</td>\n",
              "      <td>4</td>\n",
              "      <td>3</td>\n",
              "    </tr>\n",
              "    <tr>\n",
              "      <th>...</th>\n",
              "      <td>...</td>\n",
              "      <td>...</td>\n",
              "      <td>...</td>\n",
              "      <td>...</td>\n",
              "    </tr>\n",
              "    <tr>\n",
              "      <th>1363</th>\n",
              "      <td>01/17/2022</td>\n",
              "      <td>18</td>\n",
              "      <td>1363</td>\n",
              "      <td>1</td>\n",
              "    </tr>\n",
              "    <tr>\n",
              "      <th>1364</th>\n",
              "      <td>01/18/2022</td>\n",
              "      <td>29</td>\n",
              "      <td>1364</td>\n",
              "      <td>2</td>\n",
              "    </tr>\n",
              "    <tr>\n",
              "      <th>1365</th>\n",
              "      <td>01/19/2022</td>\n",
              "      <td>27</td>\n",
              "      <td>1365</td>\n",
              "      <td>2</td>\n",
              "    </tr>\n",
              "    <tr>\n",
              "      <th>1366</th>\n",
              "      <td>01/20/2022</td>\n",
              "      <td>33</td>\n",
              "      <td>1366</td>\n",
              "      <td>3</td>\n",
              "    </tr>\n",
              "    <tr>\n",
              "      <th>1367</th>\n",
              "      <td>01/21/2022</td>\n",
              "      <td>13</td>\n",
              "      <td>1367</td>\n",
              "      <td>1</td>\n",
              "    </tr>\n",
              "  </tbody>\n",
              "</table>\n",
              "<p>1368 rows × 4 columns</p>\n",
              "</div>\n",
              "      <button class=\"colab-df-convert\" onclick=\"convertToInteractive('df-328fb561-7c1a-480a-b5c5-4327e16eb6fd')\"\n",
              "              title=\"Convert this dataframe to an interactive table.\"\n",
              "              style=\"display:none;\">\n",
              "        \n",
              "  <svg xmlns=\"http://www.w3.org/2000/svg\" height=\"24px\"viewBox=\"0 0 24 24\"\n",
              "       width=\"24px\">\n",
              "    <path d=\"M0 0h24v24H0V0z\" fill=\"none\"/>\n",
              "    <path d=\"M18.56 5.44l.94 2.06.94-2.06 2.06-.94-2.06-.94-.94-2.06-.94 2.06-2.06.94zm-11 1L8.5 8.5l.94-2.06 2.06-.94-2.06-.94L8.5 2.5l-.94 2.06-2.06.94zm10 10l.94 2.06.94-2.06 2.06-.94-2.06-.94-.94-2.06-.94 2.06-2.06.94z\"/><path d=\"M17.41 7.96l-1.37-1.37c-.4-.4-.92-.59-1.43-.59-.52 0-1.04.2-1.43.59L10.3 9.45l-7.72 7.72c-.78.78-.78 2.05 0 2.83L4 21.41c.39.39.9.59 1.41.59.51 0 1.02-.2 1.41-.59l7.78-7.78 2.81-2.81c.8-.78.8-2.07 0-2.86zM5.41 20L4 18.59l7.72-7.72 1.47 1.35L5.41 20z\"/>\n",
              "  </svg>\n",
              "      </button>\n",
              "      \n",
              "  <style>\n",
              "    .colab-df-container {\n",
              "      display:flex;\n",
              "      flex-wrap:wrap;\n",
              "      gap: 12px;\n",
              "    }\n",
              "\n",
              "    .colab-df-convert {\n",
              "      background-color: #E8F0FE;\n",
              "      border: none;\n",
              "      border-radius: 50%;\n",
              "      cursor: pointer;\n",
              "      display: none;\n",
              "      fill: #1967D2;\n",
              "      height: 32px;\n",
              "      padding: 0 0 0 0;\n",
              "      width: 32px;\n",
              "    }\n",
              "\n",
              "    .colab-df-convert:hover {\n",
              "      background-color: #E2EBFA;\n",
              "      box-shadow: 0px 1px 2px rgba(60, 64, 67, 0.3), 0px 1px 3px 1px rgba(60, 64, 67, 0.15);\n",
              "      fill: #174EA6;\n",
              "    }\n",
              "\n",
              "    [theme=dark] .colab-df-convert {\n",
              "      background-color: #3B4455;\n",
              "      fill: #D2E3FC;\n",
              "    }\n",
              "\n",
              "    [theme=dark] .colab-df-convert:hover {\n",
              "      background-color: #434B5C;\n",
              "      box-shadow: 0px 1px 3px 1px rgba(0, 0, 0, 0.15);\n",
              "      filter: drop-shadow(0px 1px 2px rgba(0, 0, 0, 0.3));\n",
              "      fill: #FFFFFF;\n",
              "    }\n",
              "  </style>\n",
              "\n",
              "      <script>\n",
              "        const buttonEl =\n",
              "          document.querySelector('#df-328fb561-7c1a-480a-b5c5-4327e16eb6fd button.colab-df-convert');\n",
              "        buttonEl.style.display =\n",
              "          google.colab.kernel.accessAllowed ? 'block' : 'none';\n",
              "\n",
              "        async function convertToInteractive(key) {\n",
              "          const element = document.querySelector('#df-328fb561-7c1a-480a-b5c5-4327e16eb6fd');\n",
              "          const dataTable =\n",
              "            await google.colab.kernel.invokeFunction('convertToInteractive',\n",
              "                                                     [key], {});\n",
              "          if (!dataTable) return;\n",
              "\n",
              "          const docLinkHtml = 'Like what you see? Visit the ' +\n",
              "            '<a target=\"_blank\" href=https://colab.research.google.com/notebooks/data_table.ipynb>data table notebook</a>'\n",
              "            + ' to learn more about interactive tables.';\n",
              "          element.innerHTML = '';\n",
              "          dataTable['output_type'] = 'display_data';\n",
              "          await google.colab.output.renderOutput(dataTable, element);\n",
              "          const docLink = document.createElement('div');\n",
              "          docLink.innerHTML = docLinkHtml;\n",
              "          element.appendChild(docLink);\n",
              "        }\n",
              "      </script>\n",
              "    </div>\n",
              "  </div>\n",
              "  "
            ]
          },
          "metadata": {},
          "execution_count": 49
        }
      ]
    },
    {
      "cell_type": "code",
      "source": [
        "for idx, i in enumerate(protest_counts):\n",
        "  print(f'Protests count for day {idx+1}: {i}, Class Interval: {target_classes_dict[target_classes[idx]]}, Target Class: {target_classes[idx]}')"
      ],
      "metadata": {
        "id": "U1jPGOPWRlSi"
      },
      "execution_count": null,
      "outputs": []
    },
    {
      "cell_type": "code",
      "source": [
        "#### splitting into input (embed key) and output data (target class key)\n",
        "X_data, Y_data = final_df['EMBEDDING_KEY'], torch.tensor(final_df['TARGET_CLASS_KEY']).to(device)"
      ],
      "metadata": {
        "id": "06K4QCbH4tl7"
      },
      "execution_count": 291,
      "outputs": []
    },
    {
      "cell_type": "code",
      "execution_count": 292,
      "metadata": {
        "id": "ExxquiAKUlKb"
      },
      "outputs": [],
      "source": [
        "### BATCH SIZE USED IN GRU1 AND GRU2\n",
        "dataloader_batch_size = 16\n",
        "\n",
        "def get_dataloader(x, x_len, y):\n",
        "  '''\n",
        "  Creates the dataloader using the input x, input length x_len and output y.\n",
        "  '''\n",
        "  data = TensorDataset(x, x_len, y)\n",
        "  dataloader = DataLoader(data, batch_size=dataloader_batch_size)\n",
        "  return dataloader\n",
        "\n",
        "def load_data_for_dataloader(x, y):\n",
        "  '''\n",
        "  Load the data into X as seq_len * embedding size.\n",
        "  Returns X, its unpadded length, and Y.\n",
        "  '''\n",
        "  x_embedded_tensors = None\n",
        "  y_embedded_tensors = None\n",
        "  x_len = []\n",
        "  for idx, i in enumerate(x):\n",
        "    embed_dict_tuple = embeddings_dict[i]\n",
        "    embedding_t = (embed_dict_tuple[0])[None, :, :]\n",
        "    y_train = y[idx].repeat(embedding_t.size(0))\n",
        "    if x_embedded_tensors is None:\n",
        "      x_embedded_tensors = embedding_t\n",
        "    else:\n",
        "      x_embedded_tensors = torch.cat((x_embedded_tensors, embedding_t), dim=0)\n",
        "    x_len.append(embed_dict_tuple[1])\n",
        "    if y_embedded_tensors is None:\n",
        "      y_embedded_tensors = y_train\n",
        "    else:\n",
        "      y_embedded_tensors = torch.cat((y_embedded_tensors, y_train), dim=0)\n",
        "  \n",
        "  return x_embedded_tensors, torch.tensor(x_len), y_embedded_tensors\n",
        "\n",
        "split_ratio = 0.80\n",
        "### LOAD THE DATA IN REQD FORMAT TO CREATE THE DATALOADER\n",
        "flatten_x_train, flatten_x_len, flatten_y_train = load_data_for_dataloader(X_data, Y_data)\n",
        "\n",
        "#### TRAINING SET\n",
        "X_training_set = flatten_x_train[:int(flatten_x_train.shape[0]*split_ratio)]\n",
        "X_train_len = flatten_x_len[:int(flatten_x_train.shape[0]*split_ratio)]\n",
        "Y_training_set = flatten_y_train[:int(flatten_x_train.shape[0]*split_ratio)]\n",
        "\n",
        "#### VALIDATION SET\n",
        "X_test_set = flatten_x_train[int(flatten_x_train.shape[0]*split_ratio):]\n",
        "X_test_len = flatten_x_len[int(flatten_x_train.shape[0]*split_ratio):]\n",
        "Y_test_set = flatten_y_train[int(flatten_x_train.shape[0]*split_ratio):]\n",
        "\n",
        "#### TRAIN AND TEST DATALOADERS\n",
        "train_dataloader = get_dataloader(X_training_set.to(device), X_train_len, Y_training_set)\n",
        "test_dataloader = get_dataloader(X_test_set.to(device), X_test_len, Y_test_set)"
      ]
    },
    {
      "cell_type": "code",
      "source": [
        "for batch in train_dataloader:\n",
        "  x, x_len, y = batch\n",
        "  print(x.shape, x_len.shape, y.shape)\n",
        "  break"
      ],
      "metadata": {
        "colab": {
          "base_uri": "https://localhost:8080/"
        },
        "id": "zAYf9FLsuRKN",
        "outputId": "72338d47-d454-4668-9ff8-7ec59141fdbb"
      },
      "execution_count": 293,
      "outputs": [
        {
          "output_type": "stream",
          "name": "stdout",
          "text": [
            "torch.Size([16, 90, 885]) torch.Size([16]) torch.Size([16])\n"
          ]
        }
      ]
    },
    {
      "cell_type": "code",
      "execution_count": 294,
      "metadata": {
        "id": "WtVPknOzVthY"
      },
      "outputs": [],
      "source": [
        "### GRU MODEL 1 WHICH GIVES THE VECTOR REPRESENTATION OF ONE SINGLE DAY.\n",
        "class GRUClassifier1(nn.Module):\n",
        "    def __init__(self, \n",
        "                 input_size_1, \n",
        "                 hidden_size_1, \n",
        "                 num_layers_1, \n",
        "                 dropout_1,\n",
        "                 directions_1, \n",
        "                 bidirectional_1,\n",
        "                 batch_size_1):\n",
        "        super().__init__()\n",
        "        ###############################################################\n",
        "        self.input_size_1 = input_size_1\n",
        "        self.dropout_1 = nn.Dropout(dropout_1)\n",
        "        self.directions_1 = directions_1\n",
        "        self.num_layers_1 = num_layers_1\n",
        "        self.hidden_dim_1 = hidden_size_1\n",
        "        self.gru_1 = nn.GRU(input_size=self.input_size_1,\n",
        "                          hidden_size=self.hidden_dim_1,\n",
        "                          num_layers=self.num_layers_1,\n",
        "                          dropout=dropout_1,\n",
        "                          bidirectional=bidirectional_1)        \n",
        "    \n",
        "    def forward(self, x, x_lens):        \n",
        "        ###############################################################\n",
        "        x_1 = x\n",
        "        # x_1: [batch, seq len, emb dim] => [5 * 80 * 810]\n",
        "\n",
        "        # GRU 1\n",
        "        x_1 = x_1.permute(1, 0, 2) # [seq len, batch, emb dim] ==> [80 * 5 * 810]\n",
        "\n",
        "        # Pack padded batch of sequences for RNN module\n",
        "        packed = nn.utils.rnn.pack_padded_sequence(x_1, x_lens.to('cpu'), batch_first=False, enforce_sorted=False)        \n",
        "        \n",
        "        output_1, h_n_1 = self.gru_1(packed)\n",
        "        h_n_1 = self.dropout_1(h_n_1[-1, :, :])\n",
        "        # output_1 => [seq len * batch * hidden dim] ... [80 * 5 * 256]\n",
        "        # h_n_1 => [num layers * batch * hidden dim] ... [2 * 5 * 256]\n",
        "        # print(f'output dim 1: {output_1.shape}, h_n dim 1: {h_n_1.shape}')\n",
        "\n",
        "        return h_n_1"
      ]
    },
    {
      "cell_type": "code",
      "source": [
        "### GRU MODEL 2 WHICH TAKES THE VECTOR REPRESENTATION FOR EVERY DAY IN THE BATCH AND PREDICTS OUTPUT FOR Nth DAY.\n",
        "class GRUClassifier2(nn.Module):\n",
        "  def __init__(self,\n",
        "                input_size_2,\n",
        "                hidden_size_2,\n",
        "                num_layers_2, \n",
        "                dropout_2,\n",
        "                directions_2, \n",
        "                bidirectional_2,\n",
        "                batch_size_2,\n",
        "                classes=2):\n",
        "    super().__init__()\n",
        "    ###############################################################\n",
        "    self.input_size_2 = input_size_2\n",
        "    self.dropout_2 = nn.Dropout(dropout_2)\n",
        "    self.directions_2 = directions_2\n",
        "    self.num_layers_2 = num_layers_2\n",
        "    self.hidden_dim_2 = hidden_size_2\n",
        "    self.gru_2 = nn.GRU(input_size=self.input_size_2,\n",
        "                      hidden_size=self.hidden_dim_2,\n",
        "                      num_layers=self.num_layers_2,\n",
        "                      dropout=dropout_2,\n",
        "                      bidirectional=bidirectional_2)\n",
        "    ###############################################################\n",
        "    self.fc = nn.Linear(self.hidden_dim_2, classes)\n",
        "\n",
        "  def forward(self, x):\n",
        "    ###############################################################\n",
        "    #x_2 = (h_n_1[-1, :, :])[None, :, :] # x_2: [batch, seq len, emb dim] => [1 * 5 * 256]\n",
        "    x_2 = x\n",
        "    # GRU 2\n",
        "\n",
        "    # print(f'x_2 initial dim: {x_2.shape}')\n",
        "    x_2 = x_2.permute(1, 0, 2) # [seq len, batch, emb dim] => [5 * 1 * 256]\n",
        "\n",
        "    output_2, h_n_2 = self.gru_2(x_2)\n",
        "    h_n_2 = self.dropout_2(h_n_2[-1, :, :])\n",
        "    # output_2 => [seq len * batch * hidden dim] ... [5 * 1 * 128]\n",
        "    # h_n_2 => [num layers * batch * hidden dim] ... [2 * 1 * 128]\n",
        "    # print(f'output dim 2: {output_2.shape}, h_n dim 2: {h_n_2.shape}')\n",
        "\n",
        "    ###############################################################\n",
        "    fc_input = h_n_2 # [1 * 128]\n",
        "    # print(f'fc input dim: {fc_input.shape}')\n",
        "    out = self.fc(fc_input) # [1 * 6]\n",
        "    # print(f'out shape: {out}')\n",
        "\n",
        "    return out"
      ],
      "metadata": {
        "id": "u-tk1UMFU4mA"
      },
      "execution_count": 295,
      "outputs": []
    },
    {
      "cell_type": "code",
      "source": [
        "### CLASSIFIER MODULE COMBINING GRU 1 AND GRU 2\n",
        "class GRUClassifier(nn.Module):\n",
        "  def __init__(self, \n",
        "               gru_model_1, \n",
        "               gru_model_2,\n",
        "               n_past,\n",
        "               n_future):\n",
        "      super().__init__()\n",
        "      ###############################################################\n",
        "      self.gru_model_1 = gru_model_1\n",
        "      self.gru_model_2 = gru_model_2\n",
        "      self.n_past = n_past\n",
        "      self.n_future = n_future\n",
        "      self.epoch_no = -1\n",
        "      self.unprocessed_x_train = None\n",
        "\n",
        "  def to_sequence(self, gru_1_out):\n",
        "    X_train = None\n",
        "    if(self.unprocessed_x_train is not None):\n",
        "      # dummy_tensor = (torch.zeros(self.unprocessed_x_train.size())).to(device)\n",
        "      dummy_tensor = (self.unprocessed_x_train.clone().detach()).to(device)\n",
        "      gru_1_out = torch.cat((dummy_tensor, gru_1_out), dim=0)\n",
        "      self.unprocessed_x_train = None\n",
        "    \n",
        "    for i in range(self.n_past, gru_1_out.size(0) - self.n_future + 1):\n",
        "      x_train_past = (gru_1_out[(i - self.n_past) : i, :])[None, :, :]\n",
        "      if X_train is None:\n",
        "        X_train = x_train_past\n",
        "      else:\n",
        "        X_train = torch.cat((X_train, x_train_past), dim=0)\n",
        "\n",
        "    row_size = gru_1_out.size(0)\n",
        "    self.unprocessed_x_train = gru_1_out[(row_size - self.n_past - self.n_future + 1):, :]\n",
        "\n",
        "    # X_train = torch.tensor(X_train)\n",
        "    # print(f'X_train size: {X_train.size()}')\n",
        "    return X_train\n",
        "  \n",
        "  def forward(self, x, x_lens, epoch_no):\n",
        "    if self.epoch_no != epoch_no:\n",
        "      self.unprocessed_x_train = None\n",
        "      self.epoch_no = epoch_no\n",
        "\n",
        "    gru_1_out = self.gru_model_1(x, x_lens) # batch size * hidden dim ===> 5 * 256\n",
        "    #print(f'############### GRU MODEL 1 OUTPUT SHAPE: {gru_1_out.shape} ###############')\n",
        "\n",
        "    gru_2_in = self.to_sequence(gru_1_out) # for n_past = 2, n_future = 1; gru_2_in ===> 3 * 2 * 256 ===> seq len = 2, batch size = 3    \n",
        "    #print(f'############### GRU MODEL 2 INPUT SHAPE: {gru_2_in.shape} ###############')\n",
        "\n",
        "    gru_2_out = self.gru_model_2(gru_2_in) # 3 * 6\n",
        "    #print(f'############### GRU MODEL 2 OUTPUT SHAPE: {gru_2_out.shape} ###############')\n",
        "\n",
        "    return gru_2_out"
      ],
      "metadata": {
        "id": "y8zdV_mJA515"
      },
      "execution_count": 296,
      "outputs": []
    },
    {
      "cell_type": "code",
      "execution_count": 305,
      "metadata": {
        "id": "tXPl5OFxXeli"
      },
      "outputs": [],
      "source": [
        "# number of past days we want to use to predict into the future\n",
        "global_n_past=3\n",
        "# number of days we want to predict into the future  \n",
        "# must be less than batch size\n",
        "# LEAD TIME\n",
        "global_n_future=3\n",
        "\n",
        "##########################################\n",
        "input_size_1 = X_training_set.shape[2]\n",
        "hidden_size_1 = 256\n",
        "num_layers_1 = 2\n",
        "dropout_1 = 0.3\n",
        "directions_1 = 1\n",
        "bidirectional_1 = False\n",
        "batch_size_1 = dataloader_batch_size\n",
        "##########################################\n",
        "input_size_2 = hidden_size_1\n",
        "hidden_size_2 = 128\n",
        "num_layers_2 = 2\n",
        "dropout_2 = 0.4\n",
        "directions_2 = 1\n",
        "bidirectional_2 = False\n",
        "batch_size_2 = dataloader_batch_size\n",
        "##########################################\n",
        "classes = max(final_df['TARGET_CLASS_KEY'])+1\n",
        "##########################################\n",
        "gru_model_1 = GRUClassifier1(input_size_1, hidden_size_1, num_layers_1, dropout_1, directions_1, bidirectional_1, batch_size_1)\n",
        "##########################################\n",
        "gru_model_2 = GRUClassifier2(input_size_2, hidden_size_2, num_layers_2, dropout_2, directions_2, bidirectional_2, batch_size_2,\n",
        "                          classes)\n",
        "##########################################\n",
        "gru_model = GRUClassifier(gru_model_1, gru_model_2, global_n_past, global_n_future)\n",
        "if torch.cuda.is_available():\n",
        "   gru_model.cuda()"
      ]
    },
    {
      "cell_type": "code",
      "source": [
        "gru_model"
      ],
      "metadata": {
        "colab": {
          "base_uri": "https://localhost:8080/"
        },
        "id": "0SfxhWQKYXyn",
        "outputId": "6ef0b071-6252-4868-db64-375e14b5b9a5"
      },
      "execution_count": 306,
      "outputs": [
        {
          "output_type": "execute_result",
          "data": {
            "text/plain": [
              "GRUClassifier(\n",
              "  (gru_model_1): GRUClassifier1(\n",
              "    (dropout_1): Dropout(p=0.3, inplace=False)\n",
              "    (gru_1): GRU(885, 256, num_layers=2, dropout=0.3)\n",
              "  )\n",
              "  (gru_model_2): GRUClassifier2(\n",
              "    (dropout_2): Dropout(p=0.4, inplace=False)\n",
              "    (gru_2): GRU(256, 128, num_layers=2, dropout=0.4)\n",
              "    (fc): Linear(in_features=128, out_features=9, bias=True)\n",
              "  )\n",
              ")"
            ]
          },
          "metadata": {},
          "execution_count": 306
        }
      ]
    },
    {
      "cell_type": "code",
      "execution_count": 307,
      "metadata": {
        "colab": {
          "base_uri": "https://localhost:8080/"
        },
        "id": "ANS8EE4hXnUL",
        "outputId": "a638592e-e271-47b5-e19e-35d52d8c1114"
      },
      "outputs": [
        {
          "output_type": "stream",
          "name": "stdout",
          "text": [
            "The GRU model has 1,521,033 trainable parameters\n"
          ]
        }
      ],
      "source": [
        "def count_parameters(model):\n",
        "  return sum(p.numel() for p in model.parameters() if p.requires_grad)\n",
        "\n",
        "print(f'The GRU model has {count_parameters(gru_model):,} trainable parameters')"
      ]
    },
    {
      "cell_type": "code",
      "execution_count": 308,
      "metadata": {
        "id": "M9vTJrPjXpG9"
      },
      "outputs": [],
      "source": [
        "criterion = torch.nn.CrossEntropyLoss()\n",
        "optim = torch.optim.AdamW(gru_model.parameters(), lr = 2e-4)"
      ]
    },
    {
      "cell_type": "code",
      "execution_count": 309,
      "metadata": {
        "id": "StswMbxsX0Bu"
      },
      "outputs": [],
      "source": [
        "# Training function: Performs forward propagation, backpropagation & optimization.\n",
        "# We also implement gradient clipping, which prevents the gradients from exploding\n",
        "def to_sequence(y_train, unprocessed_y_train):\n",
        "  Ytrain = None\n",
        "\n",
        "  if(unprocessed_y_train is not None):\n",
        "    y_train = torch.cat((unprocessed_y_train, y_train), dim=0)\n",
        "\n",
        "  for i in range(global_n_past, y_train.size(0) - global_n_future + 1):\n",
        "    y_train_past = y_train[i + global_n_future - 1: i + global_n_future]\n",
        "    if Ytrain is None:\n",
        "      Ytrain = y_train_past \n",
        "    else:\n",
        "      Ytrain = torch.cat((Ytrain, y_train_past), dim=0)\n",
        "  \n",
        "  row_size = y_train.size(0)\n",
        "  unprocessed_y_train = y_train[(row_size - global_n_past - global_n_future + 1):]\n",
        "\n",
        "  return Ytrain, unprocessed_y_train\n",
        "\n",
        "def train(gru_model, dataloader, optimizer, criterion, epoch_no, clip=1.0):\n",
        "\n",
        "    gru_model.train()\n",
        "\n",
        "    ep_t_loss = 0\n",
        "    batch_num  = 0\n",
        "    pred, tgt = [], []\n",
        "    unprocessed_y_train = None\n",
        "    \n",
        "    for ix, batch in enumerate(dataloader):\n",
        "        x, x_lens, y = batch        \n",
        "        x = x.to(device)\n",
        "        x_lens = x_lens.to(device)\n",
        "        y = y.to(device)\n",
        "        \n",
        "        #print(f'\\n############### ITERATION {ix} ###############')\n",
        "\n",
        "        optimizer.zero_grad()\n",
        "        output_pred = gru_model(x, x_lens, epoch_no)\n",
        "        #print(f'############### OUTPUT PRED SHAPE: {output_pred.shape} ###############')\n",
        "        y_train, unprocessed_y_train = to_sequence(y, unprocessed_y_train)\n",
        "        #print(f'############### Y_TRAIN MODIFIED SHAPE: {y_train.shape} ###############')\n",
        "        # y_train = y\n",
        "        #print(f'Iteration {ix}; Y_Train size: {y_train.size()}')\n",
        "        loss = criterion(output_pred, y_train)\n",
        "        loss.backward()\n",
        "\n",
        "        #gradient clipping\n",
        "        torch.nn.utils.clip_grad_norm_(gru_model.parameters(), clip)\n",
        "        optimizer.step()\n",
        "\n",
        "        #print(f'############### END OF ITERATION {ix} ###############')\n",
        "        ep_t_loss += loss.item()\n",
        "        batch_num += 1\n",
        "        pred.extend(torch.argmax(output_pred, -1).tolist())\n",
        "        tgt.extend(y_train.tolist())\n",
        "\n",
        "    return ep_t_loss/batch_num, metrics.f1_score(tgt, pred, average='macro')"
      ]
    },
    {
      "cell_type": "code",
      "source": [
        "# Evaluation function: Calculates loss on the validation data.\n",
        "from sklearn import metrics\n",
        "\n",
        "def evaluate(gru_model, dataloader, criterion, optimizer, epoch_no):\n",
        "\n",
        "    model.eval()\n",
        "    ep_t_loss = 0\n",
        "    batch_num  = 0\n",
        "    pred, tgt = [], []\n",
        "    unprocessed_y_test = None\n",
        "    for ix, batch in enumerate(dataloader):\n",
        "        x, x_lens, y = batch\n",
        "        x = x.to(device)\n",
        "        x_lens = x_lens.to(device)\n",
        "        y = y.to(device)\n",
        "        \n",
        "        optimizer.zero_grad()\n",
        "\n",
        "        with torch.no_grad():\n",
        "            output = gru_model(x, x_lens, epoch_no)\n",
        "            y_test, unprocessed_y_test = to_sequence(y, unprocessed_y_test)\n",
        "            loss = criterion(output, y_test)\n",
        "\n",
        "            ep_t_loss += loss.item()\n",
        "            batch_num += 1\n",
        "            pred.extend(torch.argmax(output, -1).tolist())\n",
        "            tgt.extend(y_test.tolist())\n",
        "        \n",
        "    return ep_t_loss/batch_num, metrics.f1_score(tgt, pred, average='macro'), pred, tgt"
      ],
      "metadata": {
        "id": "ktjkGywk5z1l"
      },
      "execution_count": 310,
      "outputs": []
    },
    {
      "cell_type": "code",
      "execution_count": 311,
      "metadata": {
        "id": "tcQNjS0JYI-g",
        "colab": {
          "base_uri": "https://localhost:8080/"
        },
        "outputId": "263dc14e-c98c-48ec-f734-a63c398d460d"
      },
      "outputs": [
        {
          "output_type": "stream",
          "name": "stderr",
          "text": [
            "  1%|          | 1/100 [00:00<01:32,  1.07it/s]"
          ]
        },
        {
          "output_type": "stream",
          "name": "stdout",
          "text": [
            "\n",
            "\n",
            "Epoch: 01\n",
            "\tTrain Total Loss: 2.037 | Train F1: 0.078\n",
            "\tVal. Total Loss: 1.980 | Valid F1: 0.082\n",
            "_________________________________________________________________\n"
          ]
        },
        {
          "output_type": "stream",
          "name": "stderr",
          "text": [
            "\r  2%|▏         | 2/100 [00:01<01:30,  1.08it/s]"
          ]
        },
        {
          "output_type": "stream",
          "name": "stdout",
          "text": [
            "\n",
            "\n",
            "Epoch: 02\n",
            "\tTrain Total Loss: 1.950 | Train F1: 0.084\n",
            "\tVal. Total Loss: 1.961 | Valid F1: 0.084\n",
            "_________________________________________________________________\n"
          ]
        },
        {
          "output_type": "stream",
          "name": "stderr",
          "text": [
            "\r  3%|▎         | 3/100 [00:02<01:28,  1.10it/s]"
          ]
        },
        {
          "output_type": "stream",
          "name": "stdout",
          "text": [
            "\n",
            "\n",
            "Epoch: 03\n",
            "\tTrain Total Loss: 1.934 | Train F1: 0.082\n",
            "\tVal. Total Loss: 1.958 | Valid F1: 0.088\n",
            "_________________________________________________________________\n"
          ]
        },
        {
          "output_type": "stream",
          "name": "stderr",
          "text": [
            "\r  4%|▍         | 4/100 [00:03<01:26,  1.10it/s]"
          ]
        },
        {
          "output_type": "stream",
          "name": "stdout",
          "text": [
            "\n",
            "\n",
            "Epoch: 04\n",
            "\tTrain Total Loss: 1.943 | Train F1: 0.077\n",
            "\tVal. Total Loss: 1.948 | Valid F1: 0.084\n",
            "_________________________________________________________________\n"
          ]
        },
        {
          "output_type": "stream",
          "name": "stderr",
          "text": [
            "\r  5%|▌         | 5/100 [00:04<01:25,  1.11it/s]"
          ]
        },
        {
          "output_type": "stream",
          "name": "stdout",
          "text": [
            "\n",
            "\n",
            "Epoch: 05\n",
            "\tTrain Total Loss: 1.935 | Train F1: 0.078\n",
            "\tVal. Total Loss: 1.938 | Valid F1: 0.084\n",
            "_________________________________________________________________\n"
          ]
        },
        {
          "output_type": "stream",
          "name": "stderr",
          "text": [
            "\r  6%|▌         | 6/100 [00:05<01:24,  1.12it/s]"
          ]
        },
        {
          "output_type": "stream",
          "name": "stdout",
          "text": [
            "\n",
            "\n",
            "Epoch: 06\n",
            "\tTrain Total Loss: 1.939 | Train F1: 0.072\n",
            "\tVal. Total Loss: 1.927 | Valid F1: 0.101\n",
            "_________________________________________________________________\n"
          ]
        },
        {
          "output_type": "stream",
          "name": "stderr",
          "text": [
            "\r  7%|▋         | 7/100 [00:06<01:23,  1.11it/s]"
          ]
        },
        {
          "output_type": "stream",
          "name": "stdout",
          "text": [
            "\n",
            "\n",
            "Epoch: 07\n",
            "\tTrain Total Loss: 1.920 | Train F1: 0.077\n",
            "\tVal. Total Loss: 1.942 | Valid F1: 0.089\n",
            "_________________________________________________________________\n"
          ]
        },
        {
          "output_type": "stream",
          "name": "stderr",
          "text": [
            "\r  8%|▊         | 8/100 [00:07<01:22,  1.11it/s]"
          ]
        },
        {
          "output_type": "stream",
          "name": "stdout",
          "text": [
            "\n",
            "\n",
            "Epoch: 08\n",
            "\tTrain Total Loss: 1.934 | Train F1: 0.078\n",
            "\tVal. Total Loss: 1.938 | Valid F1: 0.101\n",
            "_________________________________________________________________\n"
          ]
        },
        {
          "output_type": "stream",
          "name": "stderr",
          "text": [
            "\r  9%|▉         | 9/100 [00:08<01:21,  1.11it/s]"
          ]
        },
        {
          "output_type": "stream",
          "name": "stdout",
          "text": [
            "\n",
            "\n",
            "Epoch: 09\n",
            "\tTrain Total Loss: 1.925 | Train F1: 0.078\n",
            "\tVal. Total Loss: 1.960 | Valid F1: 0.081\n",
            "_________________________________________________________________\n"
          ]
        },
        {
          "output_type": "stream",
          "name": "stderr",
          "text": [
            "\r 10%|█         | 10/100 [00:09<01:21,  1.11it/s]"
          ]
        },
        {
          "output_type": "stream",
          "name": "stdout",
          "text": [
            "\n",
            "\n",
            "Epoch: 10\n",
            "\tTrain Total Loss: 1.928 | Train F1: 0.071\n",
            "\tVal. Total Loss: 1.948 | Valid F1: 0.067\n",
            "_________________________________________________________________\n"
          ]
        },
        {
          "output_type": "stream",
          "name": "stderr",
          "text": [
            "\r 11%|█         | 11/100 [00:09<01:20,  1.10it/s]"
          ]
        },
        {
          "output_type": "stream",
          "name": "stdout",
          "text": [
            "\n",
            "\n",
            "Epoch: 11\n",
            "\tTrain Total Loss: 1.917 | Train F1: 0.082\n",
            "\tVal. Total Loss: 1.946 | Valid F1: 0.087\n",
            "_________________________________________________________________\n"
          ]
        },
        {
          "output_type": "stream",
          "name": "stderr",
          "text": [
            "\r 12%|█▏        | 12/100 [00:10<01:19,  1.11it/s]"
          ]
        },
        {
          "output_type": "stream",
          "name": "stdout",
          "text": [
            "\n",
            "\n",
            "Epoch: 12\n",
            "\tTrain Total Loss: 1.918 | Train F1: 0.070\n",
            "\tVal. Total Loss: 1.950 | Valid F1: 0.075\n",
            "_________________________________________________________________\n"
          ]
        },
        {
          "output_type": "stream",
          "name": "stderr",
          "text": [
            "\r 13%|█▎        | 13/100 [00:11<01:17,  1.12it/s]"
          ]
        },
        {
          "output_type": "stream",
          "name": "stdout",
          "text": [
            "\n",
            "\n",
            "Epoch: 13\n",
            "\tTrain Total Loss: 1.925 | Train F1: 0.079\n",
            "\tVal. Total Loss: 1.940 | Valid F1: 0.092\n",
            "_________________________________________________________________\n"
          ]
        },
        {
          "output_type": "stream",
          "name": "stderr",
          "text": [
            "\r 14%|█▍        | 14/100 [00:12<01:16,  1.12it/s]"
          ]
        },
        {
          "output_type": "stream",
          "name": "stdout",
          "text": [
            "\n",
            "\n",
            "Epoch: 14\n",
            "\tTrain Total Loss: 1.921 | Train F1: 0.077\n",
            "\tVal. Total Loss: 1.959 | Valid F1: 0.067\n",
            "_________________________________________________________________\n"
          ]
        },
        {
          "output_type": "stream",
          "name": "stderr",
          "text": [
            "\r 15%|█▌        | 15/100 [00:13<01:16,  1.11it/s]"
          ]
        },
        {
          "output_type": "stream",
          "name": "stdout",
          "text": [
            "\n",
            "\n",
            "Epoch: 15\n",
            "\tTrain Total Loss: 1.913 | Train F1: 0.076\n",
            "\tVal. Total Loss: 1.939 | Valid F1: 0.062\n",
            "_________________________________________________________________\n"
          ]
        },
        {
          "output_type": "stream",
          "name": "stderr",
          "text": [
            "\r 16%|█▌        | 16/100 [00:14<01:15,  1.11it/s]"
          ]
        },
        {
          "output_type": "stream",
          "name": "stdout",
          "text": [
            "\n",
            "\n",
            "Epoch: 16\n",
            "\tTrain Total Loss: 1.923 | Train F1: 0.066\n",
            "\tVal. Total Loss: 1.932 | Valid F1: 0.078\n",
            "_________________________________________________________________\n"
          ]
        },
        {
          "output_type": "stream",
          "name": "stderr",
          "text": [
            "\r 17%|█▋        | 17/100 [00:15<01:14,  1.11it/s]"
          ]
        },
        {
          "output_type": "stream",
          "name": "stdout",
          "text": [
            "\n",
            "\n",
            "Epoch: 17\n",
            "\tTrain Total Loss: 1.915 | Train F1: 0.074\n",
            "\tVal. Total Loss: 1.922 | Valid F1: 0.072\n",
            "_________________________________________________________________\n"
          ]
        },
        {
          "output_type": "stream",
          "name": "stderr",
          "text": [
            "\r 18%|█▊        | 18/100 [00:16<01:13,  1.12it/s]"
          ]
        },
        {
          "output_type": "stream",
          "name": "stdout",
          "text": [
            "\n",
            "\n",
            "Epoch: 18\n",
            "\tTrain Total Loss: 1.920 | Train F1: 0.075\n",
            "\tVal. Total Loss: 1.954 | Valid F1: 0.102\n",
            "_________________________________________________________________\n"
          ]
        },
        {
          "output_type": "stream",
          "name": "stderr",
          "text": [
            "\r 19%|█▉        | 19/100 [00:17<01:12,  1.11it/s]"
          ]
        },
        {
          "output_type": "stream",
          "name": "stdout",
          "text": [
            "\n",
            "\n",
            "Epoch: 19\n",
            "\tTrain Total Loss: 1.913 | Train F1: 0.076\n",
            "\tVal. Total Loss: 1.939 | Valid F1: 0.071\n",
            "_________________________________________________________________\n"
          ]
        },
        {
          "output_type": "stream",
          "name": "stderr",
          "text": [
            "\r 20%|██        | 20/100 [00:18<01:11,  1.12it/s]"
          ]
        },
        {
          "output_type": "stream",
          "name": "stdout",
          "text": [
            "\n",
            "\n",
            "Epoch: 20\n",
            "\tTrain Total Loss: 1.912 | Train F1: 0.073\n",
            "\tVal. Total Loss: 1.939 | Valid F1: 0.071\n",
            "_________________________________________________________________\n"
          ]
        },
        {
          "output_type": "stream",
          "name": "stderr",
          "text": [
            "\r 21%|██        | 21/100 [00:18<01:10,  1.12it/s]"
          ]
        },
        {
          "output_type": "stream",
          "name": "stdout",
          "text": [
            "\n",
            "\n",
            "Epoch: 21\n",
            "\tTrain Total Loss: 1.902 | Train F1: 0.074\n",
            "\tVal. Total Loss: 1.945 | Valid F1: 0.086\n",
            "_________________________________________________________________\n"
          ]
        },
        {
          "output_type": "stream",
          "name": "stderr",
          "text": [
            "\r 22%|██▏       | 22/100 [00:19<01:09,  1.12it/s]"
          ]
        },
        {
          "output_type": "stream",
          "name": "stdout",
          "text": [
            "\n",
            "\n",
            "Epoch: 22\n",
            "\tTrain Total Loss: 1.894 | Train F1: 0.080\n",
            "\tVal. Total Loss: 1.952 | Valid F1: 0.084\n",
            "_________________________________________________________________\n"
          ]
        },
        {
          "output_type": "stream",
          "name": "stderr",
          "text": [
            "\r 23%|██▎       | 23/100 [00:20<01:08,  1.12it/s]"
          ]
        },
        {
          "output_type": "stream",
          "name": "stdout",
          "text": [
            "\n",
            "\n",
            "Epoch: 23\n",
            "\tTrain Total Loss: 1.881 | Train F1: 0.085\n",
            "\tVal. Total Loss: 1.966 | Valid F1: 0.089\n",
            "_________________________________________________________________\n"
          ]
        },
        {
          "output_type": "stream",
          "name": "stderr",
          "text": [
            "\r 24%|██▍       | 24/100 [00:21<01:07,  1.12it/s]"
          ]
        },
        {
          "output_type": "stream",
          "name": "stdout",
          "text": [
            "\n",
            "\n",
            "Epoch: 24\n",
            "\tTrain Total Loss: 1.859 | Train F1: 0.085\n",
            "\tVal. Total Loss: 1.966 | Valid F1: 0.085\n",
            "_________________________________________________________________\n"
          ]
        },
        {
          "output_type": "stream",
          "name": "stderr",
          "text": [
            "\r 25%|██▌       | 25/100 [00:22<01:06,  1.12it/s]"
          ]
        },
        {
          "output_type": "stream",
          "name": "stdout",
          "text": [
            "\n",
            "\n",
            "Epoch: 25\n",
            "\tTrain Total Loss: 1.843 | Train F1: 0.110\n",
            "\tVal. Total Loss: 1.934 | Valid F1: 0.101\n",
            "_________________________________________________________________\n"
          ]
        },
        {
          "output_type": "stream",
          "name": "stderr",
          "text": [
            "\r 26%|██▌       | 26/100 [00:23<01:06,  1.12it/s]"
          ]
        },
        {
          "output_type": "stream",
          "name": "stdout",
          "text": [
            "\n",
            "\n",
            "Epoch: 26\n",
            "\tTrain Total Loss: 1.803 | Train F1: 0.132\n",
            "\tVal. Total Loss: 1.867 | Valid F1: 0.148\n",
            "_________________________________________________________________\n"
          ]
        },
        {
          "output_type": "stream",
          "name": "stderr",
          "text": [
            "\r 27%|██▋       | 27/100 [00:24<01:05,  1.12it/s]"
          ]
        },
        {
          "output_type": "stream",
          "name": "stdout",
          "text": [
            "\n",
            "\n",
            "Epoch: 27\n",
            "\tTrain Total Loss: 1.775 | Train F1: 0.186\n",
            "\tVal. Total Loss: 1.881 | Valid F1: 0.153\n",
            "_________________________________________________________________\n"
          ]
        },
        {
          "output_type": "stream",
          "name": "stderr",
          "text": [
            "\r 28%|██▊       | 28/100 [00:25<01:04,  1.11it/s]"
          ]
        },
        {
          "output_type": "stream",
          "name": "stdout",
          "text": [
            "\n",
            "\n",
            "Epoch: 28\n",
            "\tTrain Total Loss: 1.762 | Train F1: 0.182\n",
            "\tVal. Total Loss: 1.930 | Valid F1: 0.123\n",
            "_________________________________________________________________\n"
          ]
        },
        {
          "output_type": "stream",
          "name": "stderr",
          "text": [
            "\r 29%|██▉       | 29/100 [00:26<01:04,  1.10it/s]"
          ]
        },
        {
          "output_type": "stream",
          "name": "stdout",
          "text": [
            "\n",
            "\n",
            "Epoch: 29\n",
            "\tTrain Total Loss: 1.763 | Train F1: 0.175\n",
            "\tVal. Total Loss: 1.905 | Valid F1: 0.150\n",
            "_________________________________________________________________\n"
          ]
        },
        {
          "output_type": "stream",
          "name": "stderr",
          "text": [
            "\r 30%|███       | 30/100 [00:26<01:02,  1.11it/s]"
          ]
        },
        {
          "output_type": "stream",
          "name": "stdout",
          "text": [
            "\n",
            "\n",
            "Epoch: 30\n",
            "\tTrain Total Loss: 1.738 | Train F1: 0.210\n",
            "\tVal. Total Loss: 2.003 | Valid F1: 0.104\n",
            "_________________________________________________________________\n"
          ]
        },
        {
          "output_type": "stream",
          "name": "stderr",
          "text": [
            "\r 31%|███       | 31/100 [00:27<01:01,  1.12it/s]"
          ]
        },
        {
          "output_type": "stream",
          "name": "stdout",
          "text": [
            "\n",
            "\n",
            "Epoch: 31\n",
            "\tTrain Total Loss: 1.707 | Train F1: 0.225\n",
            "\tVal. Total Loss: 1.999 | Valid F1: 0.125\n",
            "_________________________________________________________________\n"
          ]
        },
        {
          "output_type": "stream",
          "name": "stderr",
          "text": [
            "\r 32%|███▏      | 32/100 [00:28<01:00,  1.12it/s]"
          ]
        },
        {
          "output_type": "stream",
          "name": "stdout",
          "text": [
            "\n",
            "\n",
            "Epoch: 32\n",
            "\tTrain Total Loss: 1.676 | Train F1: 0.239\n",
            "\tVal. Total Loss: 2.002 | Valid F1: 0.094\n",
            "_________________________________________________________________\n"
          ]
        },
        {
          "output_type": "stream",
          "name": "stderr",
          "text": [
            "\r 33%|███▎      | 33/100 [00:29<00:59,  1.12it/s]"
          ]
        },
        {
          "output_type": "stream",
          "name": "stdout",
          "text": [
            "\n",
            "\n",
            "Epoch: 33\n",
            "\tTrain Total Loss: 1.666 | Train F1: 0.260\n",
            "\tVal. Total Loss: 2.027 | Valid F1: 0.111\n",
            "_________________________________________________________________\n"
          ]
        },
        {
          "output_type": "stream",
          "name": "stderr",
          "text": [
            "\r 34%|███▍      | 34/100 [00:30<00:59,  1.12it/s]"
          ]
        },
        {
          "output_type": "stream",
          "name": "stdout",
          "text": [
            "\n",
            "\n",
            "Epoch: 34\n",
            "\tTrain Total Loss: 1.648 | Train F1: 0.273\n",
            "\tVal. Total Loss: 1.938 | Valid F1: 0.134\n",
            "_________________________________________________________________\n"
          ]
        },
        {
          "output_type": "stream",
          "name": "stderr",
          "text": [
            "\r 35%|███▌      | 35/100 [00:31<00:58,  1.12it/s]"
          ]
        },
        {
          "output_type": "stream",
          "name": "stdout",
          "text": [
            "\n",
            "\n",
            "Epoch: 35\n",
            "\tTrain Total Loss: 1.641 | Train F1: 0.270\n",
            "\tVal. Total Loss: 1.926 | Valid F1: 0.141\n",
            "_________________________________________________________________\n"
          ]
        },
        {
          "output_type": "stream",
          "name": "stderr",
          "text": [
            "\r 36%|███▌      | 36/100 [00:32<00:57,  1.11it/s]"
          ]
        },
        {
          "output_type": "stream",
          "name": "stdout",
          "text": [
            "\n",
            "\n",
            "Epoch: 36\n",
            "\tTrain Total Loss: 1.611 | Train F1: 0.298\n",
            "\tVal. Total Loss: 2.061 | Valid F1: 0.081\n",
            "_________________________________________________________________\n"
          ]
        },
        {
          "output_type": "stream",
          "name": "stderr",
          "text": [
            "\r 37%|███▋      | 37/100 [00:33<00:56,  1.11it/s]"
          ]
        },
        {
          "output_type": "stream",
          "name": "stdout",
          "text": [
            "\n",
            "\n",
            "Epoch: 37\n",
            "\tTrain Total Loss: 1.642 | Train F1: 0.260\n",
            "\tVal. Total Loss: 1.963 | Valid F1: 0.131\n",
            "_________________________________________________________________\n"
          ]
        },
        {
          "output_type": "stream",
          "name": "stderr",
          "text": [
            "\r 38%|███▊      | 38/100 [00:34<00:55,  1.11it/s]"
          ]
        },
        {
          "output_type": "stream",
          "name": "stdout",
          "text": [
            "\n",
            "\n",
            "Epoch: 38\n",
            "\tTrain Total Loss: 1.563 | Train F1: 0.350\n",
            "\tVal. Total Loss: 1.947 | Valid F1: 0.144\n",
            "_________________________________________________________________\n"
          ]
        },
        {
          "output_type": "stream",
          "name": "stderr",
          "text": [
            "\r 39%|███▉      | 39/100 [00:35<00:54,  1.12it/s]"
          ]
        },
        {
          "output_type": "stream",
          "name": "stdout",
          "text": [
            "\n",
            "\n",
            "Epoch: 39\n",
            "\tTrain Total Loss: 1.530 | Train F1: 0.387\n",
            "\tVal. Total Loss: 2.023 | Valid F1: 0.120\n",
            "_________________________________________________________________\n"
          ]
        },
        {
          "output_type": "stream",
          "name": "stderr",
          "text": [
            "\r 40%|████      | 40/100 [00:35<00:53,  1.12it/s]"
          ]
        },
        {
          "output_type": "stream",
          "name": "stdout",
          "text": [
            "\n",
            "\n",
            "Epoch: 40\n",
            "\tTrain Total Loss: 1.505 | Train F1: 0.339\n",
            "\tVal. Total Loss: 2.092 | Valid F1: 0.128\n",
            "_________________________________________________________________\n"
          ]
        },
        {
          "output_type": "stream",
          "name": "stderr",
          "text": [
            "\r 41%|████      | 41/100 [00:36<00:52,  1.12it/s]"
          ]
        },
        {
          "output_type": "stream",
          "name": "stdout",
          "text": [
            "\n",
            "\n",
            "Epoch: 41\n",
            "\tTrain Total Loss: 1.501 | Train F1: 0.368\n",
            "\tVal. Total Loss: 2.255 | Valid F1: 0.106\n",
            "_________________________________________________________________\n"
          ]
        },
        {
          "output_type": "stream",
          "name": "stderr",
          "text": [
            "\r 42%|████▏     | 42/100 [00:37<00:51,  1.12it/s]"
          ]
        },
        {
          "output_type": "stream",
          "name": "stdout",
          "text": [
            "\n",
            "\n",
            "Epoch: 42\n",
            "\tTrain Total Loss: 1.460 | Train F1: 0.362\n",
            "\tVal. Total Loss: 2.343 | Valid F1: 0.084\n",
            "_________________________________________________________________\n"
          ]
        },
        {
          "output_type": "stream",
          "name": "stderr",
          "text": [
            "\r 43%|████▎     | 43/100 [00:38<00:50,  1.12it/s]"
          ]
        },
        {
          "output_type": "stream",
          "name": "stdout",
          "text": [
            "\n",
            "\n",
            "Epoch: 43\n",
            "\tTrain Total Loss: 1.458 | Train F1: 0.380\n",
            "\tVal. Total Loss: 2.320 | Valid F1: 0.124\n",
            "_________________________________________________________________\n"
          ]
        },
        {
          "output_type": "stream",
          "name": "stderr",
          "text": [
            "\r 44%|████▍     | 44/100 [00:39<00:50,  1.11it/s]"
          ]
        },
        {
          "output_type": "stream",
          "name": "stdout",
          "text": [
            "\n",
            "\n",
            "Epoch: 44\n",
            "\tTrain Total Loss: 1.462 | Train F1: 0.390\n",
            "\tVal. Total Loss: 2.341 | Valid F1: 0.096\n",
            "_________________________________________________________________\n"
          ]
        },
        {
          "output_type": "stream",
          "name": "stderr",
          "text": [
            "\r 45%|████▌     | 45/100 [00:40<00:49,  1.11it/s]"
          ]
        },
        {
          "output_type": "stream",
          "name": "stdout",
          "text": [
            "\n",
            "\n",
            "Epoch: 45\n",
            "\tTrain Total Loss: 1.396 | Train F1: 0.396\n",
            "\tVal. Total Loss: 2.310 | Valid F1: 0.094\n",
            "_________________________________________________________________\n"
          ]
        },
        {
          "output_type": "stream",
          "name": "stderr",
          "text": [
            "\r 46%|████▌     | 46/100 [00:41<00:48,  1.11it/s]"
          ]
        },
        {
          "output_type": "stream",
          "name": "stdout",
          "text": [
            "\n",
            "\n",
            "Epoch: 46\n",
            "\tTrain Total Loss: 1.355 | Train F1: 0.461\n",
            "\tVal. Total Loss: 2.406 | Valid F1: 0.096\n",
            "_________________________________________________________________\n"
          ]
        },
        {
          "output_type": "stream",
          "name": "stderr",
          "text": [
            "\r 47%|████▋     | 47/100 [00:42<00:47,  1.11it/s]"
          ]
        },
        {
          "output_type": "stream",
          "name": "stdout",
          "text": [
            "\n",
            "\n",
            "Epoch: 47\n",
            "\tTrain Total Loss: 1.309 | Train F1: 0.441\n",
            "\tVal. Total Loss: 2.576 | Valid F1: 0.075\n",
            "_________________________________________________________________\n"
          ]
        },
        {
          "output_type": "stream",
          "name": "stderr",
          "text": [
            "\r 48%|████▊     | 48/100 [00:43<00:46,  1.11it/s]"
          ]
        },
        {
          "output_type": "stream",
          "name": "stdout",
          "text": [
            "\n",
            "\n",
            "Epoch: 48\n",
            "\tTrain Total Loss: 1.280 | Train F1: 0.487\n",
            "\tVal. Total Loss: 2.417 | Valid F1: 0.110\n",
            "_________________________________________________________________\n"
          ]
        },
        {
          "output_type": "stream",
          "name": "stderr",
          "text": [
            "\r 49%|████▉     | 49/100 [00:44<00:45,  1.12it/s]"
          ]
        },
        {
          "output_type": "stream",
          "name": "stdout",
          "text": [
            "\n",
            "\n",
            "Epoch: 49\n",
            "\tTrain Total Loss: 1.200 | Train F1: 0.517\n",
            "\tVal. Total Loss: 2.350 | Valid F1: 0.148\n",
            "_________________________________________________________________\n"
          ]
        },
        {
          "output_type": "stream",
          "name": "stderr",
          "text": [
            "\r 50%|█████     | 50/100 [00:44<00:44,  1.12it/s]"
          ]
        },
        {
          "output_type": "stream",
          "name": "stdout",
          "text": [
            "\n",
            "\n",
            "Epoch: 50\n",
            "\tTrain Total Loss: 1.158 | Train F1: 0.546\n",
            "\tVal. Total Loss: 2.307 | Valid F1: 0.147\n",
            "_________________________________________________________________\n"
          ]
        },
        {
          "output_type": "stream",
          "name": "stderr",
          "text": [
            "\r 51%|█████     | 51/100 [00:45<00:44,  1.11it/s]"
          ]
        },
        {
          "output_type": "stream",
          "name": "stdout",
          "text": [
            "\n",
            "\n",
            "Epoch: 51\n",
            "\tTrain Total Loss: 1.166 | Train F1: 0.515\n",
            "\tVal. Total Loss: 2.308 | Valid F1: 0.154\n",
            "_________________________________________________________________\n"
          ]
        },
        {
          "output_type": "stream",
          "name": "stderr",
          "text": [
            "\r 52%|█████▏    | 52/100 [00:46<00:43,  1.11it/s]"
          ]
        },
        {
          "output_type": "stream",
          "name": "stdout",
          "text": [
            "\n",
            "\n",
            "Epoch: 52\n",
            "\tTrain Total Loss: 1.102 | Train F1: 0.523\n",
            "\tVal. Total Loss: 2.397 | Valid F1: 0.193\n",
            "_________________________________________________________________\n"
          ]
        },
        {
          "output_type": "stream",
          "name": "stderr",
          "text": [
            "\r 53%|█████▎    | 53/100 [00:47<00:42,  1.11it/s]"
          ]
        },
        {
          "output_type": "stream",
          "name": "stdout",
          "text": [
            "\n",
            "\n",
            "Epoch: 53\n",
            "\tTrain Total Loss: 1.052 | Train F1: 0.560\n",
            "\tVal. Total Loss: 2.436 | Valid F1: 0.160\n",
            "_________________________________________________________________\n"
          ]
        },
        {
          "output_type": "stream",
          "name": "stderr",
          "text": [
            "\r 54%|█████▍    | 54/100 [00:48<00:41,  1.12it/s]"
          ]
        },
        {
          "output_type": "stream",
          "name": "stdout",
          "text": [
            "\n",
            "\n",
            "Epoch: 54\n",
            "\tTrain Total Loss: 1.031 | Train F1: 0.557\n",
            "\tVal. Total Loss: 2.475 | Valid F1: 0.144\n",
            "_________________________________________________________________\n"
          ]
        },
        {
          "output_type": "stream",
          "name": "stderr",
          "text": [
            "\r 55%|█████▌    | 55/100 [00:49<00:40,  1.12it/s]"
          ]
        },
        {
          "output_type": "stream",
          "name": "stdout",
          "text": [
            "\n",
            "\n",
            "Epoch: 55\n",
            "\tTrain Total Loss: 1.018 | Train F1: 0.549\n",
            "\tVal. Total Loss: 2.625 | Valid F1: 0.133\n",
            "_________________________________________________________________\n"
          ]
        },
        {
          "output_type": "stream",
          "name": "stderr",
          "text": [
            "\r 56%|█████▌    | 56/100 [00:50<00:39,  1.12it/s]"
          ]
        },
        {
          "output_type": "stream",
          "name": "stdout",
          "text": [
            "\n",
            "\n",
            "Epoch: 56\n",
            "\tTrain Total Loss: 0.993 | Train F1: 0.552\n",
            "\tVal. Total Loss: 2.649 | Valid F1: 0.131\n",
            "_________________________________________________________________\n"
          ]
        },
        {
          "output_type": "stream",
          "name": "stderr",
          "text": [
            "\r 57%|█████▋    | 57/100 [00:51<00:38,  1.11it/s]"
          ]
        },
        {
          "output_type": "stream",
          "name": "stdout",
          "text": [
            "\n",
            "\n",
            "Epoch: 57\n",
            "\tTrain Total Loss: 1.003 | Train F1: 0.574\n",
            "\tVal. Total Loss: 2.617 | Valid F1: 0.129\n",
            "_________________________________________________________________\n"
          ]
        },
        {
          "output_type": "stream",
          "name": "stderr",
          "text": [
            "\r 58%|█████▊    | 58/100 [00:52<00:37,  1.12it/s]"
          ]
        },
        {
          "output_type": "stream",
          "name": "stdout",
          "text": [
            "\n",
            "\n",
            "Epoch: 58\n",
            "\tTrain Total Loss: 0.967 | Train F1: 0.624\n",
            "\tVal. Total Loss: 2.512 | Valid F1: 0.190\n",
            "_________________________________________________________________\n"
          ]
        },
        {
          "output_type": "stream",
          "name": "stderr",
          "text": [
            "\r 59%|█████▉    | 59/100 [00:52<00:36,  1.12it/s]"
          ]
        },
        {
          "output_type": "stream",
          "name": "stdout",
          "text": [
            "\n",
            "\n",
            "Epoch: 59\n",
            "\tTrain Total Loss: 0.911 | Train F1: 0.603\n",
            "\tVal. Total Loss: 2.675 | Valid F1: 0.129\n",
            "_________________________________________________________________\n"
          ]
        },
        {
          "output_type": "stream",
          "name": "stderr",
          "text": [
            "\r 60%|██████    | 60/100 [00:53<00:35,  1.12it/s]"
          ]
        },
        {
          "output_type": "stream",
          "name": "stdout",
          "text": [
            "\n",
            "\n",
            "Epoch: 60\n",
            "\tTrain Total Loss: 0.903 | Train F1: 0.607\n",
            "\tVal. Total Loss: 2.646 | Valid F1: 0.154\n",
            "_________________________________________________________________\n"
          ]
        },
        {
          "output_type": "stream",
          "name": "stderr",
          "text": [
            "\r 61%|██████    | 61/100 [00:54<00:34,  1.12it/s]"
          ]
        },
        {
          "output_type": "stream",
          "name": "stdout",
          "text": [
            "\n",
            "\n",
            "Epoch: 61\n",
            "\tTrain Total Loss: 0.894 | Train F1: 0.628\n",
            "\tVal. Total Loss: 2.870 | Valid F1: 0.103\n",
            "_________________________________________________________________\n"
          ]
        },
        {
          "output_type": "stream",
          "name": "stderr",
          "text": [
            "\r 62%|██████▏   | 62/100 [00:55<00:34,  1.11it/s]"
          ]
        },
        {
          "output_type": "stream",
          "name": "stdout",
          "text": [
            "\n",
            "\n",
            "Epoch: 62\n",
            "\tTrain Total Loss: 0.905 | Train F1: 0.592\n",
            "\tVal. Total Loss: 3.011 | Valid F1: 0.125\n",
            "_________________________________________________________________\n"
          ]
        },
        {
          "output_type": "stream",
          "name": "stderr",
          "text": [
            "\r 63%|██████▎   | 63/100 [00:56<00:33,  1.11it/s]"
          ]
        },
        {
          "output_type": "stream",
          "name": "stdout",
          "text": [
            "\n",
            "\n",
            "Epoch: 63\n",
            "\tTrain Total Loss: 0.840 | Train F1: 0.630\n",
            "\tVal. Total Loss: 2.833 | Valid F1: 0.134\n",
            "_________________________________________________________________\n"
          ]
        },
        {
          "output_type": "stream",
          "name": "stderr",
          "text": [
            "\r 64%|██████▍   | 64/100 [00:57<00:32,  1.12it/s]"
          ]
        },
        {
          "output_type": "stream",
          "name": "stdout",
          "text": [
            "\n",
            "\n",
            "Epoch: 64\n",
            "\tTrain Total Loss: 0.819 | Train F1: 0.666\n",
            "\tVal. Total Loss: 2.739 | Valid F1: 0.166\n",
            "_________________________________________________________________\n"
          ]
        },
        {
          "output_type": "stream",
          "name": "stderr",
          "text": [
            "\r 65%|██████▌   | 65/100 [00:58<00:31,  1.12it/s]"
          ]
        },
        {
          "output_type": "stream",
          "name": "stdout",
          "text": [
            "\n",
            "\n",
            "Epoch: 65\n",
            "\tTrain Total Loss: 0.808 | Train F1: 0.662\n",
            "\tVal. Total Loss: 2.596 | Valid F1: 0.160\n",
            "_________________________________________________________________\n"
          ]
        },
        {
          "output_type": "stream",
          "name": "stderr",
          "text": [
            "\r 66%|██████▌   | 66/100 [00:59<00:30,  1.13it/s]"
          ]
        },
        {
          "output_type": "stream",
          "name": "stdout",
          "text": [
            "\n",
            "\n",
            "Epoch: 66\n",
            "\tTrain Total Loss: 0.757 | Train F1: 0.680\n",
            "\tVal. Total Loss: 2.843 | Valid F1: 0.208\n",
            "_________________________________________________________________\n"
          ]
        },
        {
          "output_type": "stream",
          "name": "stderr",
          "text": [
            "\r 67%|██████▋   | 67/100 [01:00<00:29,  1.13it/s]"
          ]
        },
        {
          "output_type": "stream",
          "name": "stdout",
          "text": [
            "\n",
            "\n",
            "Epoch: 67\n",
            "\tTrain Total Loss: 0.742 | Train F1: 0.695\n",
            "\tVal. Total Loss: 3.003 | Valid F1: 0.165\n",
            "_________________________________________________________________\n"
          ]
        },
        {
          "output_type": "stream",
          "name": "stderr",
          "text": [
            "\r 68%|██████▊   | 68/100 [01:00<00:28,  1.12it/s]"
          ]
        },
        {
          "output_type": "stream",
          "name": "stdout",
          "text": [
            "\n",
            "\n",
            "Epoch: 68\n",
            "\tTrain Total Loss: 0.733 | Train F1: 0.732\n",
            "\tVal. Total Loss: 3.041 | Valid F1: 0.137\n",
            "_________________________________________________________________\n"
          ]
        },
        {
          "output_type": "stream",
          "name": "stderr",
          "text": [
            "\r 69%|██████▉   | 69/100 [01:01<00:27,  1.12it/s]"
          ]
        },
        {
          "output_type": "stream",
          "name": "stdout",
          "text": [
            "\n",
            "\n",
            "Epoch: 69\n",
            "\tTrain Total Loss: 0.706 | Train F1: 0.764\n",
            "\tVal. Total Loss: 2.934 | Valid F1: 0.117\n",
            "_________________________________________________________________\n"
          ]
        },
        {
          "output_type": "stream",
          "name": "stderr",
          "text": [
            "\r 70%|███████   | 70/100 [01:02<00:26,  1.12it/s]"
          ]
        },
        {
          "output_type": "stream",
          "name": "stdout",
          "text": [
            "\n",
            "\n",
            "Epoch: 70\n",
            "\tTrain Total Loss: 0.679 | Train F1: 0.715\n",
            "\tVal. Total Loss: 2.928 | Valid F1: 0.126\n",
            "_________________________________________________________________\n"
          ]
        },
        {
          "output_type": "stream",
          "name": "stderr",
          "text": [
            "\r 71%|███████   | 71/100 [01:03<00:25,  1.12it/s]"
          ]
        },
        {
          "output_type": "stream",
          "name": "stdout",
          "text": [
            "\n",
            "\n",
            "Epoch: 71\n",
            "\tTrain Total Loss: 0.675 | Train F1: 0.712\n",
            "\tVal. Total Loss: 2.891 | Valid F1: 0.131\n",
            "_________________________________________________________________\n"
          ]
        },
        {
          "output_type": "stream",
          "name": "stderr",
          "text": [
            "\r 72%|███████▏  | 72/100 [01:04<00:25,  1.11it/s]"
          ]
        },
        {
          "output_type": "stream",
          "name": "stdout",
          "text": [
            "\n",
            "\n",
            "Epoch: 72\n",
            "\tTrain Total Loss: 0.662 | Train F1: 0.773\n",
            "\tVal. Total Loss: 2.944 | Valid F1: 0.130\n",
            "_________________________________________________________________\n"
          ]
        },
        {
          "output_type": "stream",
          "name": "stderr",
          "text": [
            "\r 73%|███████▎  | 73/100 [01:05<00:24,  1.11it/s]"
          ]
        },
        {
          "output_type": "stream",
          "name": "stdout",
          "text": [
            "\n",
            "\n",
            "Epoch: 73\n",
            "\tTrain Total Loss: 0.695 | Train F1: 0.778\n",
            "\tVal. Total Loss: 3.087 | Valid F1: 0.170\n",
            "_________________________________________________________________\n"
          ]
        },
        {
          "output_type": "stream",
          "name": "stderr",
          "text": [
            "\r 74%|███████▍  | 74/100 [01:06<00:23,  1.12it/s]"
          ]
        },
        {
          "output_type": "stream",
          "name": "stdout",
          "text": [
            "\n",
            "\n",
            "Epoch: 74\n",
            "\tTrain Total Loss: 0.643 | Train F1: 0.804\n",
            "\tVal. Total Loss: 3.084 | Valid F1: 0.148\n",
            "_________________________________________________________________\n"
          ]
        },
        {
          "output_type": "stream",
          "name": "stderr",
          "text": [
            "\r 75%|███████▌  | 75/100 [01:07<00:22,  1.12it/s]"
          ]
        },
        {
          "output_type": "stream",
          "name": "stdout",
          "text": [
            "\n",
            "\n",
            "Epoch: 75\n",
            "\tTrain Total Loss: 0.625 | Train F1: 0.783\n",
            "\tVal. Total Loss: 3.143 | Valid F1: 0.124\n",
            "_________________________________________________________________\n"
          ]
        },
        {
          "output_type": "stream",
          "name": "stderr",
          "text": [
            "\r 76%|███████▌  | 76/100 [01:08<00:21,  1.11it/s]"
          ]
        },
        {
          "output_type": "stream",
          "name": "stdout",
          "text": [
            "\n",
            "\n",
            "Epoch: 76\n",
            "\tTrain Total Loss: 0.638 | Train F1: 0.780\n",
            "\tVal. Total Loss: 2.965 | Valid F1: 0.140\n",
            "_________________________________________________________________\n"
          ]
        },
        {
          "output_type": "stream",
          "name": "stderr",
          "text": [
            "\r 77%|███████▋  | 77/100 [01:09<00:20,  1.11it/s]"
          ]
        },
        {
          "output_type": "stream",
          "name": "stdout",
          "text": [
            "\n",
            "\n",
            "Epoch: 77\n",
            "\tTrain Total Loss: 0.648 | Train F1: 0.802\n",
            "\tVal. Total Loss: 2.980 | Valid F1: 0.152\n",
            "_________________________________________________________________\n"
          ]
        },
        {
          "output_type": "stream",
          "name": "stderr",
          "text": [
            "\r 78%|███████▊  | 78/100 [01:10<00:19,  1.11it/s]"
          ]
        },
        {
          "output_type": "stream",
          "name": "stdout",
          "text": [
            "\n",
            "\n",
            "Epoch: 78\n",
            "\tTrain Total Loss: 0.610 | Train F1: 0.776\n",
            "\tVal. Total Loss: 3.074 | Valid F1: 0.121\n",
            "_________________________________________________________________\n"
          ]
        },
        {
          "output_type": "stream",
          "name": "stderr",
          "text": [
            "\r 79%|███████▉  | 79/100 [01:10<00:18,  1.11it/s]"
          ]
        },
        {
          "output_type": "stream",
          "name": "stdout",
          "text": [
            "\n",
            "\n",
            "Epoch: 79\n",
            "\tTrain Total Loss: 0.601 | Train F1: 0.829\n",
            "\tVal. Total Loss: 2.877 | Valid F1: 0.131\n",
            "_________________________________________________________________\n"
          ]
        },
        {
          "output_type": "stream",
          "name": "stderr",
          "text": [
            "\r 80%|████████  | 80/100 [01:11<00:18,  1.11it/s]"
          ]
        },
        {
          "output_type": "stream",
          "name": "stdout",
          "text": [
            "\n",
            "\n",
            "Epoch: 80\n",
            "\tTrain Total Loss: 0.583 | Train F1: 0.791\n",
            "\tVal. Total Loss: 3.058 | Valid F1: 0.143\n",
            "_________________________________________________________________\n"
          ]
        },
        {
          "output_type": "stream",
          "name": "stderr",
          "text": [
            "\r 81%|████████  | 81/100 [01:12<00:17,  1.11it/s]"
          ]
        },
        {
          "output_type": "stream",
          "name": "stdout",
          "text": [
            "\n",
            "\n",
            "Epoch: 81\n",
            "\tTrain Total Loss: 0.597 | Train F1: 0.783\n",
            "\tVal. Total Loss: 2.985 | Valid F1: 0.147\n",
            "_________________________________________________________________\n"
          ]
        },
        {
          "output_type": "stream",
          "name": "stderr",
          "text": [
            "\r 82%|████████▏ | 82/100 [01:13<00:16,  1.11it/s]"
          ]
        },
        {
          "output_type": "stream",
          "name": "stdout",
          "text": [
            "\n",
            "\n",
            "Epoch: 82\n",
            "\tTrain Total Loss: 0.564 | Train F1: 0.849\n",
            "\tVal. Total Loss: 2.971 | Valid F1: 0.155\n",
            "_________________________________________________________________\n"
          ]
        },
        {
          "output_type": "stream",
          "name": "stderr",
          "text": [
            "\r 83%|████████▎ | 83/100 [01:14<00:15,  1.11it/s]"
          ]
        },
        {
          "output_type": "stream",
          "name": "stdout",
          "text": [
            "\n",
            "\n",
            "Epoch: 83\n",
            "\tTrain Total Loss: 0.569 | Train F1: 0.813\n",
            "\tVal. Total Loss: 2.990 | Valid F1: 0.144\n",
            "_________________________________________________________________\n"
          ]
        },
        {
          "output_type": "stream",
          "name": "stderr",
          "text": [
            "\r 84%|████████▍ | 84/100 [01:15<00:14,  1.11it/s]"
          ]
        },
        {
          "output_type": "stream",
          "name": "stdout",
          "text": [
            "\n",
            "\n",
            "Epoch: 84\n",
            "\tTrain Total Loss: 0.531 | Train F1: 0.797\n",
            "\tVal. Total Loss: 3.089 | Valid F1: 0.108\n",
            "_________________________________________________________________\n"
          ]
        },
        {
          "output_type": "stream",
          "name": "stderr",
          "text": [
            "\r 85%|████████▌ | 85/100 [01:16<00:13,  1.11it/s]"
          ]
        },
        {
          "output_type": "stream",
          "name": "stdout",
          "text": [
            "\n",
            "\n",
            "Epoch: 85\n",
            "\tTrain Total Loss: 0.558 | Train F1: 0.849\n",
            "\tVal. Total Loss: 3.231 | Valid F1: 0.157\n",
            "_________________________________________________________________\n"
          ]
        },
        {
          "output_type": "stream",
          "name": "stderr",
          "text": [
            "\r 86%|████████▌ | 86/100 [01:17<00:12,  1.11it/s]"
          ]
        },
        {
          "output_type": "stream",
          "name": "stdout",
          "text": [
            "\n",
            "\n",
            "Epoch: 86\n",
            "\tTrain Total Loss: 0.518 | Train F1: 0.844\n",
            "\tVal. Total Loss: 3.138 | Valid F1: 0.173\n",
            "_________________________________________________________________\n"
          ]
        },
        {
          "output_type": "stream",
          "name": "stderr",
          "text": [
            "\r 87%|████████▋ | 87/100 [01:18<00:11,  1.11it/s]"
          ]
        },
        {
          "output_type": "stream",
          "name": "stdout",
          "text": [
            "\n",
            "\n",
            "Epoch: 87\n",
            "\tTrain Total Loss: 0.545 | Train F1: 0.835\n",
            "\tVal. Total Loss: 2.964 | Valid F1: 0.146\n",
            "_________________________________________________________________\n"
          ]
        },
        {
          "output_type": "stream",
          "name": "stderr",
          "text": [
            "\r 88%|████████▊ | 88/100 [01:18<00:10,  1.11it/s]"
          ]
        },
        {
          "output_type": "stream",
          "name": "stdout",
          "text": [
            "\n",
            "\n",
            "Epoch: 88\n",
            "\tTrain Total Loss: 0.562 | Train F1: 0.823\n",
            "\tVal. Total Loss: 3.083 | Valid F1: 0.114\n",
            "_________________________________________________________________\n"
          ]
        },
        {
          "output_type": "stream",
          "name": "stderr",
          "text": [
            "\r 89%|████████▉ | 89/100 [01:19<00:09,  1.12it/s]"
          ]
        },
        {
          "output_type": "stream",
          "name": "stdout",
          "text": [
            "\n",
            "\n",
            "Epoch: 89\n",
            "\tTrain Total Loss: 0.528 | Train F1: 0.800\n",
            "\tVal. Total Loss: 2.988 | Valid F1: 0.145\n",
            "_________________________________________________________________\n"
          ]
        },
        {
          "output_type": "stream",
          "name": "stderr",
          "text": [
            "\r 90%|█████████ | 90/100 [01:20<00:08,  1.12it/s]"
          ]
        },
        {
          "output_type": "stream",
          "name": "stdout",
          "text": [
            "\n",
            "\n",
            "Epoch: 90\n",
            "\tTrain Total Loss: 0.516 | Train F1: 0.832\n",
            "\tVal. Total Loss: 3.049 | Valid F1: 0.144\n",
            "_________________________________________________________________\n"
          ]
        },
        {
          "output_type": "stream",
          "name": "stderr",
          "text": [
            "\r 91%|█████████ | 91/100 [01:21<00:08,  1.11it/s]"
          ]
        },
        {
          "output_type": "stream",
          "name": "stdout",
          "text": [
            "\n",
            "\n",
            "Epoch: 91\n",
            "\tTrain Total Loss: 0.510 | Train F1: 0.840\n",
            "\tVal. Total Loss: 3.059 | Valid F1: 0.170\n",
            "_________________________________________________________________\n"
          ]
        },
        {
          "output_type": "stream",
          "name": "stderr",
          "text": [
            "\r 92%|█████████▏| 92/100 [01:22<00:07,  1.10it/s]"
          ]
        },
        {
          "output_type": "stream",
          "name": "stdout",
          "text": [
            "\n",
            "\n",
            "Epoch: 92\n",
            "\tTrain Total Loss: 0.483 | Train F1: 0.871\n",
            "\tVal. Total Loss: 3.240 | Valid F1: 0.145\n",
            "_________________________________________________________________\n"
          ]
        },
        {
          "output_type": "stream",
          "name": "stderr",
          "text": [
            "\r 93%|█████████▎| 93/100 [01:23<00:06,  1.10it/s]"
          ]
        },
        {
          "output_type": "stream",
          "name": "stdout",
          "text": [
            "\n",
            "\n",
            "Epoch: 93\n",
            "\tTrain Total Loss: 0.476 | Train F1: 0.868\n",
            "\tVal. Total Loss: 3.063 | Valid F1: 0.171\n",
            "_________________________________________________________________\n"
          ]
        },
        {
          "output_type": "stream",
          "name": "stderr",
          "text": [
            "\r 94%|█████████▍| 94/100 [01:24<00:05,  1.10it/s]"
          ]
        },
        {
          "output_type": "stream",
          "name": "stdout",
          "text": [
            "\n",
            "\n",
            "Epoch: 94\n",
            "\tTrain Total Loss: 0.502 | Train F1: 0.868\n",
            "\tVal. Total Loss: 3.019 | Valid F1: 0.146\n",
            "_________________________________________________________________\n"
          ]
        },
        {
          "output_type": "stream",
          "name": "stderr",
          "text": [
            "\r 95%|█████████▌| 95/100 [01:25<00:04,  1.11it/s]"
          ]
        },
        {
          "output_type": "stream",
          "name": "stdout",
          "text": [
            "\n",
            "\n",
            "Epoch: 95\n",
            "\tTrain Total Loss: 0.490 | Train F1: 0.867\n",
            "\tVal. Total Loss: 3.227 | Valid F1: 0.172\n",
            "_________________________________________________________________\n"
          ]
        },
        {
          "output_type": "stream",
          "name": "stderr",
          "text": [
            "\r 96%|█████████▌| 96/100 [01:26<00:03,  1.11it/s]"
          ]
        },
        {
          "output_type": "stream",
          "name": "stdout",
          "text": [
            "\n",
            "\n",
            "Epoch: 96\n",
            "\tTrain Total Loss: 0.477 | Train F1: 0.863\n",
            "\tVal. Total Loss: 3.159 | Valid F1: 0.116\n",
            "_________________________________________________________________\n"
          ]
        },
        {
          "output_type": "stream",
          "name": "stderr",
          "text": [
            "\r 97%|█████████▋| 97/100 [01:27<00:02,  1.11it/s]"
          ]
        },
        {
          "output_type": "stream",
          "name": "stdout",
          "text": [
            "\n",
            "\n",
            "Epoch: 97\n",
            "\tTrain Total Loss: 0.476 | Train F1: 0.848\n",
            "\tVal. Total Loss: 3.144 | Valid F1: 0.154\n",
            "_________________________________________________________________\n"
          ]
        },
        {
          "output_type": "stream",
          "name": "stderr",
          "text": [
            "\r 98%|█████████▊| 98/100 [01:28<00:01,  1.11it/s]"
          ]
        },
        {
          "output_type": "stream",
          "name": "stdout",
          "text": [
            "\n",
            "\n",
            "Epoch: 98\n",
            "\tTrain Total Loss: 0.445 | Train F1: 0.844\n",
            "\tVal. Total Loss: 3.058 | Valid F1: 0.158\n",
            "_________________________________________________________________\n"
          ]
        },
        {
          "output_type": "stream",
          "name": "stderr",
          "text": [
            "\r 99%|█████████▉| 99/100 [01:28<00:00,  1.11it/s]"
          ]
        },
        {
          "output_type": "stream",
          "name": "stdout",
          "text": [
            "\n",
            "\n",
            "Epoch: 99\n",
            "\tTrain Total Loss: 0.474 | Train F1: 0.882\n",
            "\tVal. Total Loss: 3.013 | Valid F1: 0.141\n",
            "_________________________________________________________________\n"
          ]
        },
        {
          "output_type": "stream",
          "name": "stderr",
          "text": [
            "100%|██████████| 100/100 [01:29<00:00,  1.11it/s]"
          ]
        },
        {
          "output_type": "stream",
          "name": "stdout",
          "text": [
            "\n",
            "\n",
            "Epoch: 100\n",
            "\tTrain Total Loss: 0.432 | Train F1: 0.879\n",
            "\tVal. Total Loss: 3.198 | Valid F1: 0.136\n",
            "_________________________________________________________________\n"
          ]
        },
        {
          "output_type": "stream",
          "name": "stderr",
          "text": [
            "\n"
          ]
        }
      ],
      "source": [
        "best_valid_loss = float('inf')\n",
        "tot_t_loss, tot_v_loss =[],[]\n",
        "tr_f1_score, val_f1_score = [], []\n",
        "N_EPOCHS = 100\n",
        "\n",
        "for epoch in tqdm(range(N_EPOCHS)): \n",
        "\n",
        "    tr_l, tr_f1= train(gru_model, train_dataloader, optim, criterion, epoch/2)\n",
        "    tot_t_loss.append(tr_l)\n",
        "    tr_f1_score.append(tr_f1)\n",
        "\n",
        "    val_l, val_f1, pred, tgt = evaluate(gru_model, test_dataloader, criterion, optim, (epoch/2)+1)\n",
        "    tot_v_loss.append(val_l)\n",
        "    val_f1_score.append(val_f1)\n",
        "    \n",
        "    # if val_l < best_valid_loss:\n",
        "    #     best_valid_loss = val_l\n",
        "    #     best_pred, best_tgt = pred, tgt\n",
        "    #     torch.save(model.state_dict(), 'model_least_loss.pt')\n",
        "    #     print(\"\\nBest Model Saved !!\")\n",
        "    # elif epoch % 3 == 0:\n",
        "    #     torch.save(model.state_dict(), 'model_checkpoint_'+str(epoch)+'.pt')\n",
        "    #     print(\"\\Checkpoint Model Saved !!\")\n",
        "\n",
        "    print(\"\\n\")\n",
        "    print(f'Epoch: {epoch+1:02}')\n",
        "    print(f'\\tTrain Total Loss: {tr_l:.3f} | Train F1: {tr_f1:.3f}')\n",
        "    print(f'\\tVal. Total Loss: {val_l:.3f} | Valid F1: {val_f1:.3f}')\n",
        "    print(\"_________________________________________________________________\")"
      ]
    },
    {
      "cell_type": "code",
      "source": [
        "max(val_f1_score), val_f1_score.index(max(val_f1_score))"
      ],
      "metadata": {
        "colab": {
          "base_uri": "https://localhost:8080/"
        },
        "id": "_ev2Mu-F6QiA",
        "outputId": "2207e9b2-b2e9-4337-fec5-480f406f6da1"
      },
      "execution_count": 312,
      "outputs": [
        {
          "output_type": "execute_result",
          "data": {
            "text/plain": [
              "(0.20766308754924667, 65)"
            ]
          },
          "metadata": {},
          "execution_count": 312
        }
      ]
    },
    {
      "cell_type": "code",
      "source": [
        "tr_f1_score[val_f1_score.index(max(val_f1_score))]"
      ],
      "metadata": {
        "colab": {
          "base_uri": "https://localhost:8080/"
        },
        "id": "_RbBUCLS7c5q",
        "outputId": "ad8e2590-6ee4-465e-f5e8-5940a4508934"
      },
      "execution_count": 313,
      "outputs": [
        {
          "output_type": "execute_result",
          "data": {
            "text/plain": [
              "0.6802822052875399"
            ]
          },
          "metadata": {},
          "execution_count": 313
        }
      ]
    },
    {
      "cell_type": "code",
      "source": [
        "plt.plot(tot_t_loss, label='tot_t_loss')\n",
        "plt.plot(tot_v_loss, label = 'tot_v_loss')\n",
        "plt.legend()"
      ],
      "metadata": {
        "colab": {
          "base_uri": "https://localhost:8080/",
          "height": 282
        },
        "id": "_62cOUBXmqKt",
        "outputId": "d8bed2c4-2efa-48e4-98ec-c28eb0b82ec6"
      },
      "execution_count": 314,
      "outputs": [
        {
          "output_type": "execute_result",
          "data": {
            "text/plain": [
              "<matplotlib.legend.Legend at 0x7fbc094f9b50>"
            ]
          },
          "metadata": {},
          "execution_count": 314
        },
        {
          "output_type": "display_data",
          "data": {
            "text/plain": [
              "<Figure size 432x288 with 1 Axes>"
            ],
            "image/png": "[encoded data removed]"
          },
          "metadata": {
            "needs_background": "light"
          }
        }
      ]
    },
    {
      "cell_type": "code",
      "source": [
        ""
      ],
      "metadata": {
        "id": "NHtK2GIbZk6t"
      },
      "execution_count": null,
      "outputs": []
    }
  ],
  "metadata": {
    "accelerator": "GPU",
    "colab": {
      "name": "NLP_Subtask3.ipynb",
      "provenance": [],
      "collapsed_sections": []
    },
    "kernelspec": {
      "display_name": "Python 3",
      "name": "python3"
    },
    "language_info": {
      "name": "python"
    }
  },
  "nbformat": 4,
  "nbformat_minor": 0
}