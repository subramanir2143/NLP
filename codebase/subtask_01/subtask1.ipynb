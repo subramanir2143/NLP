{
 "cells": [
  {
   "cell_type": "code",
   "execution_count": 160,
   "metadata": {
    "id": "xPUafCmJICY6"
   },
   "outputs": [
    {
     "name": "stdout",
     "output_type": "stream",
     "text": [
      "C:\\Users\\paulv\n"
     ]
    }
   ],
   "source": [
    "import pandas as pd\n",
    "import numpy as np\n",
    "import matplotlib.pyplot as plt\n",
    "import seaborn as sns\n",
    "from sklearn.feature_extraction.text import TfidfVectorizer\n",
    "from sklearn.feature_selection import chi2\n",
    "import pickle\n",
    "from sklearn.model_selection import train_test_split\n",
    "from sklearn.feature_extraction.text import TfidfTransformer\n",
    "from sklearn.naive_bayes import MultinomialNB\n",
    "from sklearn.linear_model import LogisticRegression\n",
    "from sklearn.ensemble import RandomForestClassifier\n",
    "from sklearn.svm import LinearSVC\n",
    "from sklearn.model_selection import cross_val_score\n",
    "from sklearn.metrics import confusion_matrix\n",
    "from sklearn import metrics\n",
    "import os\n",
    "import requests\n",
    "\n",
    "print(os.getcwd())"
   ]
  },
  {
   "cell_type": "code",
   "execution_count": 7,
   "metadata": {
    "id": "VJGl_4vkISGW"
   },
   "outputs": [],
   "source": [
    "pd.set_option('display.max_colwidth', None)\n",
    "data = pd.read_csv(\"D:/CSE635 - NLP/SocialUnrestPrediction/project_2_data/project_2_data/task_1/task_1_information_extraction_train.tsv\", delimiter='\\t')"
   ]
  },
  {
   "cell_type": "code",
   "execution_count": 8,
   "metadata": {
    "colab": {
     "base_uri": "https://localhost:8080/"
    },
    "id": "E-Imo25eIy_p",
    "outputId": "65a16eec-3702-43f5-ca07-545a0cf2e578"
   },
   "outputs": [
    {
     "name": "stdout",
     "output_type": "stream",
     "text": [
      "NOTES\n",
      "EVENT_DATE\n",
      "SOURCE\n",
      "FATALITIES\n",
      "EVENT_TYPE\n",
      "SUB_EVENT_TYPE\n",
      "ACTOR1\n",
      "INTER1\n",
      "ACTOR2\n",
      "INTER2\n",
      "INTERACTION\n",
      "LOCATION\n"
     ]
    }
   ],
   "source": [
    "for col in data.columns:\n",
    "  print(col)"
   ]
  },
  {
   "cell_type": "code",
   "execution_count": 9,
   "metadata": {
    "colab": {
     "base_uri": "https://localhost:8080/"
    },
    "id": "3b0SXucuJcS5",
    "outputId": "9bd17ceb-a993-4981-915d-43982b08f0a2"
   },
   "outputs": [
    {
     "name": "stdout",
     "output_type": "stream",
     "text": [
      "Three people were killed while 27 others injured when a Peshawar-bound train hit a bomb planted by unidentified militants on railway tracks in Tul town in Jacobabad district in Sindh.\n",
      "29-August-2012\n"
     ]
    }
   ],
   "source": [
    "print(data['NOTES'][0])\n",
    "print(data['EVENT_DATE'][0])"
   ]
  },
  {
   "cell_type": "code",
   "execution_count": 10,
   "metadata": {
    "colab": {
     "base_uri": "https://localhost:8080/",
     "height": 556
    },
    "id": "mv2eszMBKAYn",
    "outputId": "8db895d4-4058-4bc3-8c06-c76516ebec4e"
   },
   "outputs": [
    {
     "data": {
      "text/html": [
       "<div>\n",
       "<style scoped>\n",
       "    .dataframe tbody tr th:only-of-type {\n",
       "        vertical-align: middle;\n",
       "    }\n",
       "\n",
       "    .dataframe tbody tr th {\n",
       "        vertical-align: top;\n",
       "    }\n",
       "\n",
       "    .dataframe thead th {\n",
       "        text-align: right;\n",
       "    }\n",
       "</style>\n",
       "<table border=\"1\" class=\"dataframe\">\n",
       "  <thead>\n",
       "    <tr style=\"text-align: right;\">\n",
       "      <th></th>\n",
       "      <th>0</th>\n",
       "      <th>1</th>\n",
       "      <th>2</th>\n",
       "    </tr>\n",
       "  </thead>\n",
       "  <tbody>\n",
       "    <tr>\n",
       "      <th>NOTES</th>\n",
       "      <td>Three people were killed while 27 others injured when a Peshawar-bound train hit a bomb planted by unidentified militants on railway tracks in Tul town in Jacobabad district in Sindh.</td>\n",
       "      <td>Government security forces opened fire at a private residential house in Berdale neighbourhood (Baidoa) in the evening of 03/05. The motive behind the shooting is currently unclear. The house belongs to a local businessman but was not in at the time of the shooting.</td>\n",
       "      <td>Al Shabaab forces attacked government forces backed by Ethiopian forces.</td>\n",
       "    </tr>\n",
       "    <tr>\n",
       "      <th>EVENT_DATE</th>\n",
       "      <td>29-August-2012</td>\n",
       "      <td>03-May-2014</td>\n",
       "      <td>01-May-2012</td>\n",
       "    </tr>\n",
       "    <tr>\n",
       "      <th>SOURCE</th>\n",
       "      <td>Statesman (Pakistan)</td>\n",
       "      <td>Undisclosed Source</td>\n",
       "      <td>All Africa</td>\n",
       "    </tr>\n",
       "    <tr>\n",
       "      <th>FATALITIES</th>\n",
       "      <td>3</td>\n",
       "      <td>0</td>\n",
       "      <td>11</td>\n",
       "    </tr>\n",
       "    <tr>\n",
       "      <th>EVENT_TYPE</th>\n",
       "      <td>Explosions/Remote violence</td>\n",
       "      <td>Violence against civilians</td>\n",
       "      <td>Battles</td>\n",
       "    </tr>\n",
       "    <tr>\n",
       "      <th>SUB_EVENT_TYPE</th>\n",
       "      <td>Remote explosive/landmine/IED</td>\n",
       "      <td>Attack</td>\n",
       "      <td>Armed clash</td>\n",
       "    </tr>\n",
       "    <tr>\n",
       "      <th>ACTOR1</th>\n",
       "      <td>Unidentified Armed Group (Pakistan)</td>\n",
       "      <td>Military Forces of Somalia (2012-2017)</td>\n",
       "      <td>Al Shabaab</td>\n",
       "    </tr>\n",
       "    <tr>\n",
       "      <th>INTER1</th>\n",
       "      <td>3</td>\n",
       "      <td>1</td>\n",
       "      <td>2</td>\n",
       "    </tr>\n",
       "    <tr>\n",
       "      <th>ACTOR2</th>\n",
       "      <td>Civilians (Pakistan)</td>\n",
       "      <td>Civilians (Somalia)</td>\n",
       "      <td>Military Forces of Somalia (2004-2012)</td>\n",
       "    </tr>\n",
       "    <tr>\n",
       "      <th>INTER2</th>\n",
       "      <td>7</td>\n",
       "      <td>7</td>\n",
       "      <td>1</td>\n",
       "    </tr>\n",
       "    <tr>\n",
       "      <th>INTERACTION</th>\n",
       "      <td>37</td>\n",
       "      <td>17</td>\n",
       "      <td>12</td>\n",
       "    </tr>\n",
       "    <tr>\n",
       "      <th>LOCATION</th>\n",
       "      <td>Jacobabad</td>\n",
       "      <td>Baidoa</td>\n",
       "      <td>Hudur</td>\n",
       "    </tr>\n",
       "  </tbody>\n",
       "</table>\n",
       "</div>"
      ],
      "text/plain": [
       "                                                                                                                                                                                                      0  \\\n",
       "NOTES           Three people were killed while 27 others injured when a Peshawar-bound train hit a bomb planted by unidentified militants on railway tracks in Tul town in Jacobabad district in Sindh.   \n",
       "EVENT_DATE                                                                                                                                                                               29-August-2012   \n",
       "SOURCE                                                                                                                                                                             Statesman (Pakistan)   \n",
       "FATALITIES                                                                                                                                                                                            3   \n",
       "EVENT_TYPE                                                                                                                                                                   Explosions/Remote violence   \n",
       "SUB_EVENT_TYPE                                                                                                                                                            Remote explosive/landmine/IED   \n",
       "ACTOR1                                                                                                                                                              Unidentified Armed Group (Pakistan)   \n",
       "INTER1                                                                                                                                                                                                3   \n",
       "ACTOR2                                                                                                                                                                             Civilians (Pakistan)   \n",
       "INTER2                                                                                                                                                                                                7   \n",
       "INTERACTION                                                                                                                                                                                          37   \n",
       "LOCATION                                                                                                                                                                                      Jacobabad   \n",
       "\n",
       "                                                                                                                                                                                                                                                                                         1  \\\n",
       "NOTES           Government security forces opened fire at a private residential house in Berdale neighbourhood (Baidoa) in the evening of 03/05. The motive behind the shooting is currently unclear. The house belongs to a local businessman but was not in at the time of the shooting.   \n",
       "EVENT_DATE                                                                                                                                                                                                                                                                     03-May-2014   \n",
       "SOURCE                                                                                                                                                                                                                                                                  Undisclosed Source   \n",
       "FATALITIES                                                                                                                                                                                                                                                                               0   \n",
       "EVENT_TYPE                                                                                                                                                                                                                                                      Violence against civilians   \n",
       "SUB_EVENT_TYPE                                                                                                                                                                                                                                                                      Attack   \n",
       "ACTOR1                                                                                                                                                                                                                                              Military Forces of Somalia (2012-2017)   \n",
       "INTER1                                                                                                                                                                                                                                                                                   1   \n",
       "ACTOR2                                                                                                                                                                                                                                                                 Civilians (Somalia)   \n",
       "INTER2                                                                                                                                                                                                                                                                                   7   \n",
       "INTERACTION                                                                                                                                                                                                                                                                             17   \n",
       "LOCATION                                                                                                                                                                                                                                                                            Baidoa   \n",
       "\n",
       "                                                                                       2  \n",
       "NOTES           Al Shabaab forces attacked government forces backed by Ethiopian forces.  \n",
       "EVENT_DATE                                                                   01-May-2012  \n",
       "SOURCE                                                                        All Africa  \n",
       "FATALITIES                                                                            11  \n",
       "EVENT_TYPE                                                                       Battles  \n",
       "SUB_EVENT_TYPE                                                               Armed clash  \n",
       "ACTOR1                                                                        Al Shabaab  \n",
       "INTER1                                                                                 2  \n",
       "ACTOR2                                            Military Forces of Somalia (2004-2012)  \n",
       "INTER2                                                                                 1  \n",
       "INTERACTION                                                                           12  \n",
       "LOCATION                                                                           Hudur  "
      ]
     },
     "execution_count": 10,
     "metadata": {},
     "output_type": "execute_result"
    }
   ],
   "source": [
    "data.head(3).T"
   ]
  },
  {
   "cell_type": "code",
   "execution_count": 11,
   "metadata": {
    "id": "VTAbtqlT1rxJ"
   },
   "outputs": [],
   "source": [
    "df1 = data[['EVENT_TYPE', 'NOTES']].copy()"
   ]
  },
  {
   "cell_type": "code",
   "execution_count": 12,
   "metadata": {
    "id": "8SgCEGUj2tIB"
   },
   "outputs": [],
   "source": [
    "df1 = df1[pd.notnull(df1['NOTES'])]"
   ]
  },
  {
   "cell_type": "code",
   "execution_count": 13,
   "metadata": {
    "id": "EdUK6p1J2xty"
   },
   "outputs": [],
   "source": [
    "df1.columns = ['EVENT_TYPE', 'NOTES']"
   ]
  },
  {
   "cell_type": "code",
   "execution_count": 14,
   "metadata": {
    "colab": {
     "base_uri": "https://localhost:8080/",
     "height": 243
    },
    "id": "PNCdJbsL22yc",
    "outputId": "391a98e9-c76f-455e-c5ad-981be371188c"
   },
   "outputs": [
    {
     "name": "stdout",
     "output_type": "stream",
     "text": [
      "(97109, 2)\n"
     ]
    },
    {
     "data": {
      "text/html": [
       "<div>\n",
       "<style scoped>\n",
       "    .dataframe tbody tr th:only-of-type {\n",
       "        vertical-align: middle;\n",
       "    }\n",
       "\n",
       "    .dataframe tbody tr th {\n",
       "        vertical-align: top;\n",
       "    }\n",
       "\n",
       "    .dataframe thead th {\n",
       "        text-align: right;\n",
       "    }\n",
       "</style>\n",
       "<table border=\"1\" class=\"dataframe\">\n",
       "  <thead>\n",
       "    <tr style=\"text-align: right;\">\n",
       "      <th></th>\n",
       "      <th>0</th>\n",
       "      <th>1</th>\n",
       "      <th>2</th>\n",
       "    </tr>\n",
       "  </thead>\n",
       "  <tbody>\n",
       "    <tr>\n",
       "      <th>EVENT_TYPE</th>\n",
       "      <td>Explosions/Remote violence</td>\n",
       "      <td>Violence against civilians</td>\n",
       "      <td>Battles</td>\n",
       "    </tr>\n",
       "    <tr>\n",
       "      <th>NOTES</th>\n",
       "      <td>Three people were killed while 27 others injured when a Peshawar-bound train hit a bomb planted by unidentified militants on railway tracks in Tul town in Jacobabad district in Sindh.</td>\n",
       "      <td>Government security forces opened fire at a private residential house in Berdale neighbourhood (Baidoa) in the evening of 03/05. The motive behind the shooting is currently unclear. The house belongs to a local businessman but was not in at the time of the shooting.</td>\n",
       "      <td>Al Shabaab forces attacked government forces backed by Ethiopian forces.</td>\n",
       "    </tr>\n",
       "  </tbody>\n",
       "</table>\n",
       "</div>"
      ],
      "text/plain": [
       "                                                                                                                                                                                                  0  \\\n",
       "EVENT_TYPE                                                                                                                                                               Explosions/Remote violence   \n",
       "NOTES       Three people were killed while 27 others injured when a Peshawar-bound train hit a bomb planted by unidentified militants on railway tracks in Tul town in Jacobabad district in Sindh.   \n",
       "\n",
       "                                                                                                                                                                                                                                                                                     1  \\\n",
       "EVENT_TYPE                                                                                                                                                                                                                                                  Violence against civilians   \n",
       "NOTES       Government security forces opened fire at a private residential house in Berdale neighbourhood (Baidoa) in the evening of 03/05. The motive behind the shooting is currently unclear. The house belongs to a local businessman but was not in at the time of the shooting.   \n",
       "\n",
       "                                                                                   2  \n",
       "EVENT_TYPE                                                                   Battles  \n",
       "NOTES       Al Shabaab forces attacked government forces backed by Ethiopian forces.  "
      ]
     },
     "execution_count": 14,
     "metadata": {},
     "output_type": "execute_result"
    }
   ],
   "source": [
    "print(df1.shape)\n",
    "df1.head(3).T"
   ]
  },
  {
   "cell_type": "code",
   "execution_count": 15,
   "metadata": {
    "colab": {
     "base_uri": "https://localhost:8080/"
    },
    "id": "5xymETw724oU",
    "outputId": "a141b355-14e9-47b3-f6b9-165f3c7b3db5"
   },
   "outputs": [
    {
     "data": {
      "text/plain": [
       "array([['Explosions/Remote violence'],\n",
       "       ['Violence against civilians'],\n",
       "       ['Battles'],\n",
       "       ['Strategic developments'],\n",
       "       ['Riots'],\n",
       "       ['Protests']], dtype=object)"
      ]
     },
     "execution_count": 15,
     "metadata": {},
     "output_type": "execute_result"
    }
   ],
   "source": [
    "pd.DataFrame(df1.EVENT_TYPE.unique()).values\n"
   ]
  },
  {
   "cell_type": "code",
   "execution_count": 16,
   "metadata": {
    "id": "iJqnXfE-3C04"
   },
   "outputs": [],
   "source": [
    "df2 = df1.sample(30000, random_state=1).copy()\n",
    "df2['category_id'] = df2['EVENT_TYPE'].factorize()[0]\n",
    "category_id_df = df2[['EVENT_TYPE', 'category_id']].drop_duplicates()"
   ]
  },
  {
   "cell_type": "code",
   "execution_count": 17,
   "metadata": {
    "colab": {
     "base_uri": "https://localhost:8080/",
     "height": 257
    },
    "id": "Z2buR3Ju3s8n",
    "outputId": "df1e77ad-c44e-4b99-f63c-ed47d77e05d0"
   },
   "outputs": [
    {
     "data": {
      "text/html": [
       "<div>\n",
       "<style scoped>\n",
       "    .dataframe tbody tr th:only-of-type {\n",
       "        vertical-align: middle;\n",
       "    }\n",
       "\n",
       "    .dataframe tbody tr th {\n",
       "        vertical-align: top;\n",
       "    }\n",
       "\n",
       "    .dataframe thead th {\n",
       "        text-align: right;\n",
       "    }\n",
       "</style>\n",
       "<table border=\"1\" class=\"dataframe\">\n",
       "  <thead>\n",
       "    <tr style=\"text-align: right;\">\n",
       "      <th></th>\n",
       "      <th>60287</th>\n",
       "      <th>66832</th>\n",
       "      <th>86133</th>\n",
       "    </tr>\n",
       "  </thead>\n",
       "  <tbody>\n",
       "    <tr>\n",
       "      <th>EVENT_TYPE</th>\n",
       "      <td>Riots</td>\n",
       "      <td>Battles</td>\n",
       "      <td>Battles</td>\n",
       "    </tr>\n",
       "    <tr>\n",
       "      <th>NOTES</th>\n",
       "      <td>Students and police clashed in Medenine. Police resorted to teargas after being assaulted by pupils who threw stones on a car of the security forces.</td>\n",
       "      <td>A serving personnel of the Nigerian Security and Civil Defence Corps (NSCDC) in Apa Local Government Area of Benue State was shot to death by unknown gunmen while at his home. The injuries on the deceaseds body suggest that he may have struggled with his assailants before he was over powered. The reasons for the attack are unknown.</td>\n",
       "      <td>Mayi Mayi Militia (Yakutumba) clashed with FARDC in Fizi. 1 Mayi Mayi &amp; 1 FARDC killed.</td>\n",
       "    </tr>\n",
       "    <tr>\n",
       "      <th>category_id</th>\n",
       "      <td>0</td>\n",
       "      <td>1</td>\n",
       "      <td>1</td>\n",
       "    </tr>\n",
       "  </tbody>\n",
       "</table>\n",
       "</div>"
      ],
      "text/plain": [
       "                                                                                                                                                             60287  \\\n",
       "EVENT_TYPE                                                                                                                                                   Riots   \n",
       "NOTES        Students and police clashed in Medenine. Police resorted to teargas after being assaulted by pupils who threw stones on a car of the security forces.   \n",
       "category_id                                                                                                                                                      0   \n",
       "\n",
       "                                                                                                                                                                                                                                                                                                                                                     66832  \\\n",
       "EVENT_TYPE                                                                                                                                                                                                                                                                                                                                         Battles   \n",
       "NOTES        A serving personnel of the Nigerian Security and Civil Defence Corps (NSCDC) in Apa Local Government Area of Benue State was shot to death by unknown gunmen while at his home. The injuries on the deceaseds body suggest that he may have struggled with his assailants before he was over powered. The reasons for the attack are unknown.   \n",
       "category_id                                                                                                                                                                                                                                                                                                                                              1   \n",
       "\n",
       "                                                                                               86133  \n",
       "EVENT_TYPE                                                                                   Battles  \n",
       "NOTES        Mayi Mayi Militia (Yakutumba) clashed with FARDC in Fizi. 1 Mayi Mayi & 1 FARDC killed.  \n",
       "category_id                                                                                        1  "
      ]
     },
     "execution_count": 17,
     "metadata": {},
     "output_type": "execute_result"
    }
   ],
   "source": [
    "df2.head(3).T"
   ]
  },
  {
   "cell_type": "code",
   "execution_count": 18,
   "metadata": {
    "id": "DrFn_l8N4AeS"
   },
   "outputs": [],
   "source": [
    "df2['category_id'] = df2['EVENT_TYPE'].factorize()[0]\n",
    "category_id_df = df2[['EVENT_TYPE', 'category_id']].drop_duplicates()"
   ]
  },
  {
   "cell_type": "code",
   "execution_count": 19,
   "metadata": {
    "colab": {
     "base_uri": "https://localhost:8080/",
     "height": 337
    },
    "id": "TpepswVV4G_v",
    "outputId": "24f2e09b-4de1-4307-d121-e43346d67a8b"
   },
   "outputs": [
    {
     "data": {
      "text/html": [
       "<div>\n",
       "<style scoped>\n",
       "    .dataframe tbody tr th:only-of-type {\n",
       "        vertical-align: middle;\n",
       "    }\n",
       "\n",
       "    .dataframe tbody tr th {\n",
       "        vertical-align: top;\n",
       "    }\n",
       "\n",
       "    .dataframe thead th {\n",
       "        text-align: right;\n",
       "    }\n",
       "</style>\n",
       "<table border=\"1\" class=\"dataframe\">\n",
       "  <thead>\n",
       "    <tr style=\"text-align: right;\">\n",
       "      <th></th>\n",
       "      <th>EVENT_TYPE</th>\n",
       "      <th>NOTES</th>\n",
       "      <th>category_id</th>\n",
       "    </tr>\n",
       "  </thead>\n",
       "  <tbody>\n",
       "    <tr>\n",
       "      <th>60287</th>\n",
       "      <td>Riots</td>\n",
       "      <td>Students and police clashed in Medenine. Police resorted to teargas after being assaulted by pupils who threw stones on a car of the security forces.</td>\n",
       "      <td>0</td>\n",
       "    </tr>\n",
       "    <tr>\n",
       "      <th>66832</th>\n",
       "      <td>Battles</td>\n",
       "      <td>A serving personnel of the Nigerian Security and Civil Defence Corps (NSCDC) in Apa Local Government Area of Benue State was shot to death by unknown gunmen while at his home. The injuries on the deceaseds body suggest that he may have struggled with his assailants before he was over powered. The reasons for the attack are unknown.</td>\n",
       "      <td>1</td>\n",
       "    </tr>\n",
       "    <tr>\n",
       "      <th>86133</th>\n",
       "      <td>Battles</td>\n",
       "      <td>Mayi Mayi Militia (Yakutumba) clashed with FARDC in Fizi. 1 Mayi Mayi &amp; 1 FARDC killed.</td>\n",
       "      <td>1</td>\n",
       "    </tr>\n",
       "    <tr>\n",
       "      <th>440</th>\n",
       "      <td>Protests</td>\n",
       "      <td>A large number of Sindh University employees and teachers staged a protest demonstration against the reinstatement of SU VC in Karachi.</td>\n",
       "      <td>2</td>\n",
       "    </tr>\n",
       "    <tr>\n",
       "      <th>85559</th>\n",
       "      <td>Battles</td>\n",
       "      <td>Three policemen and a local volunteer were killed in an encounter with the kidnappers of two police guards and the driver of a private security company in Karbogha, Hangu district when they were returning with money from the bank.</td>\n",
       "      <td>1</td>\n",
       "    </tr>\n",
       "  </tbody>\n",
       "</table>\n",
       "</div>"
      ],
      "text/plain": [
       "      EVENT_TYPE  \\\n",
       "60287      Riots   \n",
       "66832    Battles   \n",
       "86133    Battles   \n",
       "440     Protests   \n",
       "85559    Battles   \n",
       "\n",
       "                                                                                                                                                                                                                                                                                                                                               NOTES  \\\n",
       "60287                                                                                                                                                                                          Students and police clashed in Medenine. Police resorted to teargas after being assaulted by pupils who threw stones on a car of the security forces.   \n",
       "66832  A serving personnel of the Nigerian Security and Civil Defence Corps (NSCDC) in Apa Local Government Area of Benue State was shot to death by unknown gunmen while at his home. The injuries on the deceaseds body suggest that he may have struggled with his assailants before he was over powered. The reasons for the attack are unknown.   \n",
       "86133                                                                                                                                                                                                                                                        Mayi Mayi Militia (Yakutumba) clashed with FARDC in Fizi. 1 Mayi Mayi & 1 FARDC killed.   \n",
       "440                                                                                                                                                                                                          A large number of Sindh University employees and teachers staged a protest demonstration against the reinstatement of SU VC in Karachi.   \n",
       "85559                                                                                                         Three policemen and a local volunteer were killed in an encounter with the kidnappers of two police guards and the driver of a private security company in Karbogha, Hangu district when they were returning with money from the bank.   \n",
       "\n",
       "       category_id  \n",
       "60287            0  \n",
       "66832            1  \n",
       "86133            1  \n",
       "440              2  \n",
       "85559            1  "
      ]
     },
     "execution_count": 19,
     "metadata": {},
     "output_type": "execute_result"
    }
   ],
   "source": [
    "# Dictionaries for future use\n",
    "category_to_id = dict(category_id_df.values)\n",
    "id_to_category = dict(category_id_df[['category_id', 'EVENT_TYPE']].values)\n",
    "# New dataframe\n",
    "df2.head()"
   ]
  },
  {
   "cell_type": "code",
   "execution_count": 20,
   "metadata": {
    "colab": {
     "base_uri": "https://localhost:8080/",
     "height": 404
    },
    "id": "O0AXYJ_E4RX7",
    "outputId": "ff726601-fdb7-45d1-cdaa-73e30aaa69e8"
   },
   "outputs": [
    {
     "data": {
      "image/png": "[encoded data removed]",
      "text/plain": [
       "<Figure size 576x432 with 1 Axes>"
      ]
     },
     "metadata": {
      "needs_background": "light"
     },
     "output_type": "display_data"
    }
   ],
   "source": [
    "fig = plt.figure(figsize=(8,6))\n",
    "colors = ['grey','grey','grey','grey','grey','grey','grey','grey','grey',\n",
    "    'grey','darkblue','darkblue','darkblue']\n",
    "df2.groupby('EVENT_TYPE').NOTES.count().sort_values().plot.barh(\n",
    "    ylim=0, color=colors, title= 'NUMBER OF COMPLAINTS IN EACH PRODUCT CATEGORYn')\n",
    "plt.xlabel('Number of ocurrences', fontsize = 10);"
   ]
  },
  {
   "cell_type": "code",
   "execution_count": 21,
   "metadata": {
    "colab": {
     "base_uri": "https://localhost:8080/"
    },
    "id": "j0J3Pn6B4ef2",
    "outputId": "a2a22dcd-b300-4130-83b1-daa0d6d430b4"
   },
   "outputs": [
    {
     "name": "stdout",
     "output_type": "stream",
     "text": [
      "Each of the 30000 complaints is represented by 20600 features (TF-IDF score of unigrams and bigrams)\n"
     ]
    }
   ],
   "source": [
    "tfidf = TfidfVectorizer(sublinear_tf=True, min_df=5,\n",
    "                        ngram_range=(1, 2), \n",
    "                        stop_words='english')\n",
    "# We transform each complaint into a vector\n",
    "features = tfidf.fit_transform(df2.NOTES).toarray()\n",
    "labels = df2.category_id\n",
    "print(\"Each of the %d complaints is represented by %d features (TF-IDF score of unigrams and bigrams)\" %(features.shape))"
   ]
  },
  {
   "cell_type": "code",
   "execution_count": 22,
   "metadata": {
    "colab": {
     "base_uri": "https://localhost:8080/"
    },
    "id": "n6_4Y39S4wfd",
    "outputId": "c713db92-32cd-42e3-c6e1-00ed1201a48b"
   },
   "outputs": [
    {
     "name": "stderr",
     "output_type": "stream",
     "text": [
      "D:\\Tools\\Python\\lib\\site-packages\\sklearn\\utils\\deprecation.py:87: FutureWarning: Function get_feature_names is deprecated; get_feature_names is deprecated in 1.0 and will be removed in 1.2. Please use get_feature_names_out instead.\n",
      "  warnings.warn(msg, category=FutureWarning)\n"
     ]
    },
    {
     "name": "stdout",
     "output_type": "stream",
     "text": [
      "n==> Battles:\n",
      "  * Most Correlated Unigrams are: soldiers, forces, fighting\n",
      "  * Most Correlated Bigrams are: attacks ethiopian, militants killed, soldiers killed\n"
     ]
    },
    {
     "name": "stderr",
     "output_type": "stream",
     "text": [
      "D:\\Tools\\Python\\lib\\site-packages\\sklearn\\utils\\deprecation.py:87: FutureWarning: Function get_feature_names is deprecated; get_feature_names is deprecated in 1.0 and will be removed in 1.2. Please use get_feature_names_out instead.\n",
      "  warnings.warn(msg, category=FutureWarning)\n"
     ]
    },
    {
     "name": "stdout",
     "output_type": "stream",
     "text": [
      "n==> Explosions/Remote violence:\n",
      "  * Most Correlated Unigrams are: exploded, grenade, bomb\n",
      "  * Most Correlated Bigrams are: bomb blast, bomb exploded, grenade attack\n"
     ]
    },
    {
     "name": "stderr",
     "output_type": "stream",
     "text": [
      "D:\\Tools\\Python\\lib\\site-packages\\sklearn\\utils\\deprecation.py:87: FutureWarning: Function get_feature_names is deprecated; get_feature_names is deprecated in 1.0 and will be removed in 1.2. Please use get_feature_names_out instead.\n",
      "  warnings.warn(msg, category=FutureWarning)\n"
     ]
    },
    {
     "name": "stdout",
     "output_type": "stream",
     "text": [
      "n==> Protests:\n",
      "  * Most Correlated Unigrams are: demonstration, staged, protest\n",
      "  * Most Correlated Bigrams are: held protest, protest demonstration, staged protest\n"
     ]
    },
    {
     "name": "stderr",
     "output_type": "stream",
     "text": [
      "D:\\Tools\\Python\\lib\\site-packages\\sklearn\\utils\\deprecation.py:87: FutureWarning: Function get_feature_names is deprecated; get_feature_names is deprecated in 1.0 and will be removed in 1.2. Please use get_feature_names_out instead.\n",
      "  warnings.warn(msg, category=FutureWarning)\n"
     ]
    },
    {
     "name": "stdout",
     "output_type": "stream",
     "text": [
      "n==> Riots:\n",
      "  * Most Correlated Unigrams are: stones, mob, rioters\n",
      "  * Most Correlated Bigrams are: vigilante mob, tear gas, injured clash\n"
     ]
    },
    {
     "name": "stderr",
     "output_type": "stream",
     "text": [
      "D:\\Tools\\Python\\lib\\site-packages\\sklearn\\utils\\deprecation.py:87: FutureWarning: Function get_feature_names is deprecated; get_feature_names is deprecated in 1.0 and will be removed in 1.2. Please use get_feature_names_out instead.\n",
      "  warnings.warn(msg, category=FutureWarning)\n"
     ]
    },
    {
     "name": "stdout",
     "output_type": "stream",
     "text": [
      "n==> Strategic developments:\n",
      "  * Most Correlated Unigrams are: destruction, agreement, looting\n",
      "  * Most Correlated Bigrams are: non violent, property destruction, movement forces\n",
      "n==> Violence against civilians:\n",
      "  * Most Correlated Unigrams are: gunmen, civilians, shot\n",
      "  * Most Correlated Bigrams are: unidentified gunmen, shot killed, shot dead\n"
     ]
    },
    {
     "name": "stderr",
     "output_type": "stream",
     "text": [
      "D:\\Tools\\Python\\lib\\site-packages\\sklearn\\utils\\deprecation.py:87: FutureWarning: Function get_feature_names is deprecated; get_feature_names is deprecated in 1.0 and will be removed in 1.2. Please use get_feature_names_out instead.\n",
      "  warnings.warn(msg, category=FutureWarning)\n"
     ]
    }
   ],
   "source": [
    "# Finding the three most correlated terms with each of the product categories\n",
    "N = 3\n",
    "for EVENT_TYPE, category_id in sorted(category_to_id.items()):\n",
    "  features_chi2 = chi2(features, labels == category_id)\n",
    "  indices = np.argsort(features_chi2[0])\n",
    "  feature_names = np.array(tfidf.get_feature_names())[indices]\n",
    "  unigrams = [v for v in feature_names if len(v.split(' ')) == 1]\n",
    "  bigrams = [v for v in feature_names if len(v.split(' ')) == 2]\n",
    "  print(\"n==> %s:\" %(EVENT_TYPE))\n",
    "  print(\"  * Most Correlated Unigrams are: %s\" %(', '.join(unigrams[-N:])))\n",
    "  print(\"  * Most Correlated Bigrams are: %s\" %(', '.join(bigrams[-N:])))"
   ]
  },
  {
   "cell_type": "code",
   "execution_count": 23,
   "metadata": {
    "id": "L9t5UF_H5Ze-"
   },
   "outputs": [],
   "source": [
    "X = df2['NOTES'] # Collection of documents\n",
    "y = df2['EVENT_TYPE'] # Target or the labels we want to predict (i.e., the 13 different complaints of products)\n",
    "X_train, X_test, y_train, y_test = train_test_split(X, y, \n",
    "                                                    test_size=0.25,\n",
    "                                                    random_state = 0)"
   ]
  },
  {
   "cell_type": "code",
   "execution_count": 24,
   "metadata": {
    "id": "yC2eUwhA5pPk"
   },
   "outputs": [],
   "source": [
    "models = [\n",
    "    LogisticRegression(random_state=0)\n",
    "]"
   ]
  },
  {
   "cell_type": "code",
   "execution_count": 25,
   "metadata": {
    "id": "NOQCCoBu5rVs"
   },
   "outputs": [],
   "source": [
    "CV = 5\n",
    "cv_df = pd.DataFrame(index=range(CV * len(models)))"
   ]
  },
  {
   "cell_type": "code",
   "execution_count": 26,
   "metadata": {
    "id": "boQW7B985tUV"
   },
   "outputs": [
    {
     "name": "stderr",
     "output_type": "stream",
     "text": [
      "D:\\Tools\\Python\\lib\\site-packages\\sklearn\\linear_model\\_logistic.py:814: ConvergenceWarning: lbfgs failed to converge (status=1):\n",
      "STOP: TOTAL NO. of ITERATIONS REACHED LIMIT.\n",
      "\n",
      "Increase the number of iterations (max_iter) or scale the data as shown in:\n",
      "    https://scikit-learn.org/stable/modules/preprocessing.html\n",
      "Please also refer to the documentation for alternative solver options:\n",
      "    https://scikit-learn.org/stable/modules/linear_model.html#logistic-regression\n",
      "  n_iter_i = _check_optimize_result(\n",
      "D:\\Tools\\Python\\lib\\site-packages\\sklearn\\linear_model\\_logistic.py:814: ConvergenceWarning: lbfgs failed to converge (status=1):\n",
      "STOP: TOTAL NO. of ITERATIONS REACHED LIMIT.\n",
      "\n",
      "Increase the number of iterations (max_iter) or scale the data as shown in:\n",
      "    https://scikit-learn.org/stable/modules/preprocessing.html\n",
      "Please also refer to the documentation for alternative solver options:\n",
      "    https://scikit-learn.org/stable/modules/linear_model.html#logistic-regression\n",
      "  n_iter_i = _check_optimize_result(\n",
      "D:\\Tools\\Python\\lib\\site-packages\\sklearn\\linear_model\\_logistic.py:814: ConvergenceWarning: lbfgs failed to converge (status=1):\n",
      "STOP: TOTAL NO. of ITERATIONS REACHED LIMIT.\n",
      "\n",
      "Increase the number of iterations (max_iter) or scale the data as shown in:\n",
      "    https://scikit-learn.org/stable/modules/preprocessing.html\n",
      "Please also refer to the documentation for alternative solver options:\n",
      "    https://scikit-learn.org/stable/modules/linear_model.html#logistic-regression\n",
      "  n_iter_i = _check_optimize_result(\n",
      "D:\\Tools\\Python\\lib\\site-packages\\sklearn\\linear_model\\_logistic.py:814: ConvergenceWarning: lbfgs failed to converge (status=1):\n",
      "STOP: TOTAL NO. of ITERATIONS REACHED LIMIT.\n",
      "\n",
      "Increase the number of iterations (max_iter) or scale the data as shown in:\n",
      "    https://scikit-learn.org/stable/modules/preprocessing.html\n",
      "Please also refer to the documentation for alternative solver options:\n",
      "    https://scikit-learn.org/stable/modules/linear_model.html#logistic-regression\n",
      "  n_iter_i = _check_optimize_result(\n",
      "D:\\Tools\\Python\\lib\\site-packages\\sklearn\\linear_model\\_logistic.py:814: ConvergenceWarning: lbfgs failed to converge (status=1):\n",
      "STOP: TOTAL NO. of ITERATIONS REACHED LIMIT.\n",
      "\n",
      "Increase the number of iterations (max_iter) or scale the data as shown in:\n",
      "    https://scikit-learn.org/stable/modules/preprocessing.html\n",
      "Please also refer to the documentation for alternative solver options:\n",
      "    https://scikit-learn.org/stable/modules/linear_model.html#logistic-regression\n",
      "  n_iter_i = _check_optimize_result(\n"
     ]
    }
   ],
   "source": [
    "entries = []\n",
    "for model in models:\n",
    "  model_name = model.__class__.__name__\n",
    "  accuracies = cross_val_score(model, features, labels, scoring='accuracy', cv=CV)\n",
    "  for fold_idx, accuracy in enumerate(accuracies):\n",
    "    entries.append((model_name, fold_idx, accuracy))\n",
    "cv_df = pd.DataFrame(entries, columns=['model_name', 'fold_idx', 'accuracy'])"
   ]
  },
  {
   "cell_type": "code",
   "execution_count": 27,
   "metadata": {
    "id": "SmRXoVse5wX3"
   },
   "outputs": [
    {
     "data": {
      "text/html": [
       "<div>\n",
       "<style scoped>\n",
       "    .dataframe tbody tr th:only-of-type {\n",
       "        vertical-align: middle;\n",
       "    }\n",
       "\n",
       "    .dataframe tbody tr th {\n",
       "        vertical-align: top;\n",
       "    }\n",
       "\n",
       "    .dataframe thead th {\n",
       "        text-align: right;\n",
       "    }\n",
       "</style>\n",
       "<table border=\"1\" class=\"dataframe\">\n",
       "  <thead>\n",
       "    <tr style=\"text-align: right;\">\n",
       "      <th></th>\n",
       "      <th>Mean Accuracy</th>\n",
       "      <th>Standard deviation</th>\n",
       "    </tr>\n",
       "    <tr>\n",
       "      <th>model_name</th>\n",
       "      <th></th>\n",
       "      <th></th>\n",
       "    </tr>\n",
       "  </thead>\n",
       "  <tbody>\n",
       "    <tr>\n",
       "      <th>LogisticRegression</th>\n",
       "      <td>0.866633</td>\n",
       "      <td>0.004393</td>\n",
       "    </tr>\n",
       "  </tbody>\n",
       "</table>\n",
       "</div>"
      ],
      "text/plain": [
       "                    Mean Accuracy  Standard deviation\n",
       "model_name                                           \n",
       "LogisticRegression       0.866633            0.004393"
      ]
     },
     "execution_count": 27,
     "metadata": {},
     "output_type": "execute_result"
    }
   ],
   "source": [
    "mean_accuracy = cv_df.groupby('model_name').accuracy.mean()\n",
    "std_accuracy = cv_df.groupby('model_name').accuracy.std()\n",
    "\n",
    "acc = pd.concat([mean_accuracy, std_accuracy], axis= 1, \n",
    "          ignore_index=True)\n",
    "acc.columns = ['Mean Accuracy', 'Standard deviation']\n",
    "acc"
   ]
  },
  {
   "cell_type": "code",
   "execution_count": 33,
   "metadata": {},
   "outputs": [
    {
     "data": {
      "image/png": "[encoded data removed]",
      "text/plain": [
       "<Figure size 576x360 with 1 Axes>"
      ]
     },
     "metadata": {
      "needs_background": "light"
     },
     "output_type": "display_data"
    }
   ],
   "source": [
    "plt.figure(figsize=(8,5))\n",
    "sns.boxplot(x='model_name', y='accuracy', \n",
    "            data=cv_df, \n",
    "            color='lightblue', \n",
    "            showmeans=True)\n",
    "plt.title(\"MEAN ACCURACY (cv = 5)n\", size=14);"
   ]
  },
  {
   "cell_type": "code",
   "execution_count": 34,
   "metadata": {},
   "outputs": [],
   "source": [
    "X_train, X_test, y_train, y_test,indices_train,indices_test = train_test_split(features, \n",
    "                                                               labels, \n",
    "                                                               df2.index, test_size=0.25, \n",
    "                                                               random_state=1)\n",
    "model = LinearSVC()\n",
    "model.fit(X_train, y_train)\n",
    "y_pred = model.predict(X_test)"
   ]
  },
  {
   "cell_type": "code",
   "execution_count": 35,
   "metadata": {},
   "outputs": [
    {
     "name": "stdout",
     "output_type": "stream",
     "text": [
      "ttttCLASSIFICATIION METRICSn\n",
      "                            precision    recall  f1-score   support\n",
      "\n",
      "                     Riots       0.83      0.76      0.79       837\n",
      "                   Battles       0.86      0.86      0.86      2151\n",
      "                  Protests       0.94      0.96      0.95      1753\n",
      "Violence against civilians       0.83      0.87      0.85      1830\n",
      "Explosions/Remote violence       0.89      0.90      0.89       704\n",
      "    Strategic developments       0.97      0.68      0.80       225\n",
      "\n",
      "                  accuracy                           0.87      7500\n",
      "                 macro avg       0.89      0.84      0.86      7500\n",
      "              weighted avg       0.87      0.87      0.87      7500\n",
      "\n"
     ]
    }
   ],
   "source": [
    "print('CLASSIFICATIION METRICSn')\n",
    "print(metrics.classification_report(y_test, y_pred, \n",
    "                                    target_names= df2['EVENT_TYPE'].unique()))"
   ]
  },
  {
   "cell_type": "code",
   "execution_count": 37,
   "metadata": {},
   "outputs": [
    {
     "data": {
      "image/png": "[encoded data removed]",
      "text/plain": [
       "<Figure size 576x576 with 2 Axes>"
      ]
     },
     "metadata": {
      "needs_background": "light"
     },
     "output_type": "display_data"
    }
   ],
   "source": [
    "conf_mat = confusion_matrix(y_test, y_pred)\n",
    "fig, ax = plt.subplots(figsize=(8,8))\n",
    "sns.heatmap(conf_mat, annot=True, cmap=\"Blues\", fmt='d',\n",
    "            xticklabels=category_id_df.EVENT_TYPE.values, \n",
    "            yticklabels=category_id_df.EVENT_TYPE.values)\n",
    "plt.ylabel('Actual')\n",
    "plt.xlabel('Predicted')\n",
    "plt.title(\"CONFUSION MATRIX - LinearSVCn\", size=16);"
   ]
  },
  {
   "cell_type": "code",
   "execution_count": 38,
   "metadata": {},
   "outputs": [],
   "source": [
    "#PREDICTION\n",
    "X_train, X_test, y_train, y_test = train_test_split(X, y, \n",
    "                                                    test_size=0.25,\n",
    "                                                    random_state = 0)"
   ]
  },
  {
   "cell_type": "code",
   "execution_count": 39,
   "metadata": {},
   "outputs": [],
   "source": [
    "tfidf = TfidfVectorizer(sublinear_tf=True, min_df=5,\n",
    "                        ngram_range=(1, 2), \n",
    "                        stop_words='english')"
   ]
  },
  {
   "cell_type": "code",
   "execution_count": 40,
   "metadata": {},
   "outputs": [],
   "source": [
    "fitted_vectorizer = tfidf.fit(X_train)\n",
    "tfidf_vectorizer_vectors = fitted_vectorizer.transform(X_train)"
   ]
  },
  {
   "cell_type": "code",
   "execution_count": 41,
   "metadata": {},
   "outputs": [],
   "source": [
    "model = LinearSVC().fit(tfidf_vectorizer_vectors, y_train)"
   ]
  },
  {
   "cell_type": "code",
   "execution_count": 45,
   "metadata": {},
   "outputs": [
    {
     "name": "stdout",
     "output_type": "stream",
     "text": [
      "['Battles']\n"
     ]
    }
   ],
   "source": [
    "note='AMISOM/Somali forces clash with al Shabaab in Kulbiyow sub-district in the Lower Juba region. The clash lasted for several hours; causalities not yet known.'\n",
    "print(model.predict(fitted_vectorizer.transform([note])))"
   ]
  },
  {
   "cell_type": "code",
   "execution_count": 48,
   "metadata": {},
   "outputs": [],
   "source": [
    "#SAVE MODEL\n",
    "filename = 'NLP_TASK1_EVENT_TYPE_CLASSIFICATION_MODEL.sav'\n",
    "pickle.dump(model, open(filename, 'wb'))"
   ]
  },
  {
   "cell_type": "code",
   "execution_count": 51,
   "metadata": {},
   "outputs": [
    {
     "name": "stdout",
     "output_type": "stream",
     "text": [
      "['Battles']\n"
     ]
    }
   ],
   "source": [
    "filename = 'D:/CSE635 - NLP/SocialUnrestPrediction/task1/NLP_TASK1_EVENT_TYPE_CLASSIFICATION_MODEL.sav'\n",
    "loaded_model_event_type_classifier = pickle.load(open(filename, 'rb'))\n",
    "note='AMISOM/Somali forces clash with al Shabaab in Kulbiyow sub-district in the Lower Juba region. The clash lasted for several hours; causalities not yet known.'\n",
    "print(loaded_model_event_type_classifier.predict(fitted_vectorizer.transform([note])))"
   ]
  },
  {
   "cell_type": "code",
   "execution_count": null,
   "metadata": {},
   "outputs": [],
   "source": [
    "#SUB EVENT TYPE CLASSIFIER"
   ]
  },
  {
   "cell_type": "code",
   "execution_count": 52,
   "metadata": {},
   "outputs": [],
   "source": [
    "se_df1 = data[['SUB_EVENT_TYPE', 'NOTES']].copy()"
   ]
  },
  {
   "cell_type": "code",
   "execution_count": 54,
   "metadata": {},
   "outputs": [],
   "source": [
    "se_df1 = se_df1[pd.notnull(se_df1['NOTES'])]"
   ]
  },
  {
   "cell_type": "code",
   "execution_count": 56,
   "metadata": {},
   "outputs": [],
   "source": [
    "se_df1.columns = ['SUB_EVENT_TYPE', 'NOTES']"
   ]
  },
  {
   "cell_type": "code",
   "execution_count": 57,
   "metadata": {},
   "outputs": [
    {
     "name": "stdout",
     "output_type": "stream",
     "text": [
      "(97109, 2)\n"
     ]
    },
    {
     "data": {
      "text/html": [
       "<div>\n",
       "<style scoped>\n",
       "    .dataframe tbody tr th:only-of-type {\n",
       "        vertical-align: middle;\n",
       "    }\n",
       "\n",
       "    .dataframe tbody tr th {\n",
       "        vertical-align: top;\n",
       "    }\n",
       "\n",
       "    .dataframe thead th {\n",
       "        text-align: right;\n",
       "    }\n",
       "</style>\n",
       "<table border=\"1\" class=\"dataframe\">\n",
       "  <thead>\n",
       "    <tr style=\"text-align: right;\">\n",
       "      <th></th>\n",
       "      <th>0</th>\n",
       "      <th>1</th>\n",
       "      <th>2</th>\n",
       "    </tr>\n",
       "  </thead>\n",
       "  <tbody>\n",
       "    <tr>\n",
       "      <th>SUB_EVENT_TYPE</th>\n",
       "      <td>Remote explosive/landmine/IED</td>\n",
       "      <td>Attack</td>\n",
       "      <td>Armed clash</td>\n",
       "    </tr>\n",
       "    <tr>\n",
       "      <th>NOTES</th>\n",
       "      <td>Three people were killed while 27 others injured when a Peshawar-bound train hit a bomb planted by unidentified militants on railway tracks in Tul town in Jacobabad district in Sindh.</td>\n",
       "      <td>Government security forces opened fire at a private residential house in Berdale neighbourhood (Baidoa) in the evening of 03/05. The motive behind the shooting is currently unclear. The house belongs to a local businessman but was not in at the time of the shooting.</td>\n",
       "      <td>Al Shabaab forces attacked government forces backed by Ethiopian forces.</td>\n",
       "    </tr>\n",
       "  </tbody>\n",
       "</table>\n",
       "</div>"
      ],
      "text/plain": [
       "                                                                                                                                                                                                      0  \\\n",
       "SUB_EVENT_TYPE                                                                                                                                                            Remote explosive/landmine/IED   \n",
       "NOTES           Three people were killed while 27 others injured when a Peshawar-bound train hit a bomb planted by unidentified militants on railway tracks in Tul town in Jacobabad district in Sindh.   \n",
       "\n",
       "                                                                                                                                                                                                                                                                                         1  \\\n",
       "SUB_EVENT_TYPE                                                                                                                                                                                                                                                                      Attack   \n",
       "NOTES           Government security forces opened fire at a private residential house in Berdale neighbourhood (Baidoa) in the evening of 03/05. The motive behind the shooting is currently unclear. The house belongs to a local businessman but was not in at the time of the shooting.   \n",
       "\n",
       "                                                                                       2  \n",
       "SUB_EVENT_TYPE                                                               Armed clash  \n",
       "NOTES           Al Shabaab forces attacked government forces backed by Ethiopian forces.  "
      ]
     },
     "execution_count": 57,
     "metadata": {},
     "output_type": "execute_result"
    }
   ],
   "source": [
    "print(se_df1.shape)\n",
    "se_df1.head(3).T"
   ]
  },
  {
   "cell_type": "code",
   "execution_count": 59,
   "metadata": {},
   "outputs": [
    {
     "data": {
      "text/plain": [
       "array([['Remote explosive/landmine/IED'],\n",
       "       ['Attack'],\n",
       "       ['Armed clash'],\n",
       "       ['Agreement'],\n",
       "       ['Violent demonstration'],\n",
       "       ['Peaceful protest'],\n",
       "       ['Mob violence'],\n",
       "       ['Sexual violence'],\n",
       "       ['Protest with intervention'],\n",
       "       ['Arrests'],\n",
       "       ['Grenade'],\n",
       "       ['Abduction/forced disappearance'],\n",
       "       ['Disrupted weapons use'],\n",
       "       ['Government regains territory'],\n",
       "       ['Air/drone strike'],\n",
       "       ['Non-state actor overtakes territory'],\n",
       "       ['Excessive force against protesters'],\n",
       "       ['Shelling/artillery/missile attack'],\n",
       "       ['Suicide bomb'],\n",
       "       ['Headquarters or base established'],\n",
       "       ['Looting/property destruction'],\n",
       "       ['Change to group/activity'],\n",
       "       ['Non-violent transfer of territory'],\n",
       "       ['Other'],\n",
       "       ['Chemical weapon']], dtype=object)"
      ]
     },
     "execution_count": 59,
     "metadata": {},
     "output_type": "execute_result"
    }
   ],
   "source": [
    "pd.DataFrame(se_df1.SUB_EVENT_TYPE.unique()).values"
   ]
  },
  {
   "cell_type": "code",
   "execution_count": 63,
   "metadata": {},
   "outputs": [],
   "source": [
    "se_df2 = se_df1.sample(30000, random_state=1).copy()\n",
    "se_df2['category_id'] = se_df2['SUB_EVENT_TYPE'].factorize()[0]\n",
    "se_category_id_df = se_df2[['SUB_EVENT_TYPE', 'category_id']].drop_duplicates()"
   ]
  },
  {
   "cell_type": "code",
   "execution_count": 64,
   "metadata": {},
   "outputs": [
    {
     "data": {
      "text/html": [
       "<div>\n",
       "<style scoped>\n",
       "    .dataframe tbody tr th:only-of-type {\n",
       "        vertical-align: middle;\n",
       "    }\n",
       "\n",
       "    .dataframe tbody tr th {\n",
       "        vertical-align: top;\n",
       "    }\n",
       "\n",
       "    .dataframe thead th {\n",
       "        text-align: right;\n",
       "    }\n",
       "</style>\n",
       "<table border=\"1\" class=\"dataframe\">\n",
       "  <thead>\n",
       "    <tr style=\"text-align: right;\">\n",
       "      <th></th>\n",
       "      <th>60287</th>\n",
       "      <th>66832</th>\n",
       "      <th>86133</th>\n",
       "    </tr>\n",
       "  </thead>\n",
       "  <tbody>\n",
       "    <tr>\n",
       "      <th>SUB_EVENT_TYPE</th>\n",
       "      <td>Mob violence</td>\n",
       "      <td>Armed clash</td>\n",
       "      <td>Armed clash</td>\n",
       "    </tr>\n",
       "    <tr>\n",
       "      <th>NOTES</th>\n",
       "      <td>Students and police clashed in Medenine. Police resorted to teargas after being assaulted by pupils who threw stones on a car of the security forces.</td>\n",
       "      <td>A serving personnel of the Nigerian Security and Civil Defence Corps (NSCDC) in Apa Local Government Area of Benue State was shot to death by unknown gunmen while at his home. The injuries on the deceaseds body suggest that he may have struggled with his assailants before he was over powered. The reasons for the attack are unknown.</td>\n",
       "      <td>Mayi Mayi Militia (Yakutumba) clashed with FARDC in Fizi. 1 Mayi Mayi &amp; 1 FARDC killed.</td>\n",
       "    </tr>\n",
       "    <tr>\n",
       "      <th>category_id</th>\n",
       "      <td>0</td>\n",
       "      <td>1</td>\n",
       "      <td>1</td>\n",
       "    </tr>\n",
       "  </tbody>\n",
       "</table>\n",
       "</div>"
      ],
      "text/plain": [
       "                                                                                                                                                                60287  \\\n",
       "SUB_EVENT_TYPE                                                                                                                                           Mob violence   \n",
       "NOTES           Students and police clashed in Medenine. Police resorted to teargas after being assaulted by pupils who threw stones on a car of the security forces.   \n",
       "category_id                                                                                                                                                         0   \n",
       "\n",
       "                                                                                                                                                                                                                                                                                                                                                        66832  \\\n",
       "SUB_EVENT_TYPE                                                                                                                                                                                                                                                                                                                                    Armed clash   \n",
       "NOTES           A serving personnel of the Nigerian Security and Civil Defence Corps (NSCDC) in Apa Local Government Area of Benue State was shot to death by unknown gunmen while at his home. The injuries on the deceaseds body suggest that he may have struggled with his assailants before he was over powered. The reasons for the attack are unknown.   \n",
       "category_id                                                                                                                                                                                                                                                                                                                                                 1   \n",
       "\n",
       "                                                                                                  86133  \n",
       "SUB_EVENT_TYPE                                                                              Armed clash  \n",
       "NOTES           Mayi Mayi Militia (Yakutumba) clashed with FARDC in Fizi. 1 Mayi Mayi & 1 FARDC killed.  \n",
       "category_id                                                                                           1  "
      ]
     },
     "execution_count": 64,
     "metadata": {},
     "output_type": "execute_result"
    }
   ],
   "source": [
    "se_df2.head(3).T"
   ]
  },
  {
   "cell_type": "code",
   "execution_count": 65,
   "metadata": {},
   "outputs": [],
   "source": [
    "se_df2['category_id'] = se_df2['SUB_EVENT_TYPE'].factorize()[0]\n",
    "category_id_df = se_df2[['SUB_EVENT_TYPE', 'category_id']].drop_duplicates()"
   ]
  },
  {
   "cell_type": "code",
   "execution_count": 66,
   "metadata": {},
   "outputs": [
    {
     "data": {
      "text/html": [
       "<div>\n",
       "<style scoped>\n",
       "    .dataframe tbody tr th:only-of-type {\n",
       "        vertical-align: middle;\n",
       "    }\n",
       "\n",
       "    .dataframe tbody tr th {\n",
       "        vertical-align: top;\n",
       "    }\n",
       "\n",
       "    .dataframe thead th {\n",
       "        text-align: right;\n",
       "    }\n",
       "</style>\n",
       "<table border=\"1\" class=\"dataframe\">\n",
       "  <thead>\n",
       "    <tr style=\"text-align: right;\">\n",
       "      <th></th>\n",
       "      <th>SUB_EVENT_TYPE</th>\n",
       "      <th>NOTES</th>\n",
       "      <th>category_id</th>\n",
       "    </tr>\n",
       "  </thead>\n",
       "  <tbody>\n",
       "    <tr>\n",
       "      <th>60287</th>\n",
       "      <td>Mob violence</td>\n",
       "      <td>Students and police clashed in Medenine. Police resorted to teargas after being assaulted by pupils who threw stones on a car of the security forces.</td>\n",
       "      <td>0</td>\n",
       "    </tr>\n",
       "    <tr>\n",
       "      <th>66832</th>\n",
       "      <td>Armed clash</td>\n",
       "      <td>A serving personnel of the Nigerian Security and Civil Defence Corps (NSCDC) in Apa Local Government Area of Benue State was shot to death by unknown gunmen while at his home. The injuries on the deceaseds body suggest that he may have struggled with his assailants before he was over powered. The reasons for the attack are unknown.</td>\n",
       "      <td>1</td>\n",
       "    </tr>\n",
       "    <tr>\n",
       "      <th>86133</th>\n",
       "      <td>Armed clash</td>\n",
       "      <td>Mayi Mayi Militia (Yakutumba) clashed with FARDC in Fizi. 1 Mayi Mayi &amp; 1 FARDC killed.</td>\n",
       "      <td>1</td>\n",
       "    </tr>\n",
       "    <tr>\n",
       "      <th>440</th>\n",
       "      <td>Peaceful protest</td>\n",
       "      <td>A large number of Sindh University employees and teachers staged a protest demonstration against the reinstatement of SU VC in Karachi.</td>\n",
       "      <td>2</td>\n",
       "    </tr>\n",
       "    <tr>\n",
       "      <th>85559</th>\n",
       "      <td>Armed clash</td>\n",
       "      <td>Three policemen and a local volunteer were killed in an encounter with the kidnappers of two police guards and the driver of a private security company in Karbogha, Hangu district when they were returning with money from the bank.</td>\n",
       "      <td>1</td>\n",
       "    </tr>\n",
       "  </tbody>\n",
       "</table>\n",
       "</div>"
      ],
      "text/plain": [
       "         SUB_EVENT_TYPE  \\\n",
       "60287      Mob violence   \n",
       "66832       Armed clash   \n",
       "86133       Armed clash   \n",
       "440    Peaceful protest   \n",
       "85559       Armed clash   \n",
       "\n",
       "                                                                                                                                                                                                                                                                                                                                               NOTES  \\\n",
       "60287                                                                                                                                                                                          Students and police clashed in Medenine. Police resorted to teargas after being assaulted by pupils who threw stones on a car of the security forces.   \n",
       "66832  A serving personnel of the Nigerian Security and Civil Defence Corps (NSCDC) in Apa Local Government Area of Benue State was shot to death by unknown gunmen while at his home. The injuries on the deceaseds body suggest that he may have struggled with his assailants before he was over powered. The reasons for the attack are unknown.   \n",
       "86133                                                                                                                                                                                                                                                        Mayi Mayi Militia (Yakutumba) clashed with FARDC in Fizi. 1 Mayi Mayi & 1 FARDC killed.   \n",
       "440                                                                                                                                                                                                          A large number of Sindh University employees and teachers staged a protest demonstration against the reinstatement of SU VC in Karachi.   \n",
       "85559                                                                                                         Three policemen and a local volunteer were killed in an encounter with the kidnappers of two police guards and the driver of a private security company in Karbogha, Hangu district when they were returning with money from the bank.   \n",
       "\n",
       "       category_id  \n",
       "60287            0  \n",
       "66832            1  \n",
       "86133            1  \n",
       "440              2  \n",
       "85559            1  "
      ]
     },
     "execution_count": 66,
     "metadata": {},
     "output_type": "execute_result"
    }
   ],
   "source": [
    "# Dictionaries for future use\n",
    "category_to_id = dict(category_id_df.values)\n",
    "id_to_category = dict(category_id_df[['category_id', 'SUB_EVENT_TYPE']].values)\n",
    "# New dataframe\n",
    "se_df2.head()"
   ]
  },
  {
   "cell_type": "code",
   "execution_count": 67,
   "metadata": {},
   "outputs": [
    {
     "data": {
      "image/png": "[encoded data removed]",
      "text/plain": [
       "<Figure size 576x432 with 1 Axes>"
      ]
     },
     "metadata": {
      "needs_background": "light"
     },
     "output_type": "display_data"
    }
   ],
   "source": [
    "fig = plt.figure(figsize=(8,6))\n",
    "colors = ['grey','grey','grey','grey','grey','grey','grey','grey','grey',\n",
    "    'grey','darkblue','darkblue','darkblue']\n",
    "se_df2.groupby('SUB_EVENT_TYPE').NOTES.count().sort_values().plot.barh(\n",
    "    ylim=0, color=colors, title= 'NUMBER OF COMPLAINTS IN EACH PRODUCT CATEGORYn')\n",
    "plt.xlabel('Number of ocurrences', fontsize = 10);"
   ]
  },
  {
   "cell_type": "code",
   "execution_count": 68,
   "metadata": {},
   "outputs": [
    {
     "name": "stdout",
     "output_type": "stream",
     "text": [
      "Each of the 30000 complaints is represented by 20600 features (TF-IDF score of unigrams and bigrams)\n"
     ]
    }
   ],
   "source": [
    "tfidf = TfidfVectorizer(sublinear_tf=True, min_df=5,\n",
    "                        ngram_range=(1, 2), \n",
    "                        stop_words='english')\n",
    "# We transform each complaint into a vector\n",
    "features = tfidf.fit_transform(se_df2.NOTES).toarray()\n",
    "labels = se_df2.category_id\n",
    "print(\"Each of the %d complaints is represented by %d features (TF-IDF score of unigrams and bigrams)\" %(features.shape))"
   ]
  },
  {
   "cell_type": "code",
   "execution_count": 69,
   "metadata": {},
   "outputs": [
    {
     "name": "stderr",
     "output_type": "stream",
     "text": [
      "D:\\Tools\\Python\\lib\\site-packages\\sklearn\\utils\\deprecation.py:87: FutureWarning: Function get_feature_names is deprecated; get_feature_names is deprecated in 1.0 and will be removed in 1.2. Please use get_feature_names_out instead.\n",
      "  warnings.warn(msg, category=FutureWarning)\n"
     ]
    },
    {
     "name": "stdout",
     "output_type": "stream",
     "text": [
      "n==> Abduction/forced disappearance:\n",
      "  * Most Correlated Unigrams are: released, abducted, kidnapped\n",
      "  * Most Correlated Bigrams are: kidnapped unidentified, civilians captured, civilians capture\n"
     ]
    },
    {
     "name": "stderr",
     "output_type": "stream",
     "text": [
      "D:\\Tools\\Python\\lib\\site-packages\\sklearn\\utils\\deprecation.py:87: FutureWarning: Function get_feature_names is deprecated; get_feature_names is deprecated in 1.0 and will be removed in 1.2. Please use get_feature_names_out instead.\n",
      "  warnings.warn(msg, category=FutureWarning)\n"
     ]
    },
    {
     "name": "stdout",
     "output_type": "stream",
     "text": [
      "n==> Agreement:\n",
      "  * Most Correlated Unigrams are: agreed, surrendered, agreement\n",
      "  * Most Correlated Bigrams are: peace agreement, rebels surrender, surrendered fardc\n"
     ]
    },
    {
     "name": "stderr",
     "output_type": "stream",
     "text": [
      "D:\\Tools\\Python\\lib\\site-packages\\sklearn\\utils\\deprecation.py:87: FutureWarning: Function get_feature_names is deprecated; get_feature_names is deprecated in 1.0 and will be removed in 1.2. Please use get_feature_names_out instead.\n",
      "  warnings.warn(msg, category=FutureWarning)\n"
     ]
    },
    {
     "name": "stdout",
     "output_type": "stream",
     "text": [
      "n==> Air/drone strike:\n",
      "  * Most Correlated Unigrams are: air, airstrike, drone\n",
      "  * Most Correlated Bigrams are: drone strike, saf bomb, conducted airstrike\n"
     ]
    },
    {
     "name": "stderr",
     "output_type": "stream",
     "text": [
      "D:\\Tools\\Python\\lib\\site-packages\\sklearn\\utils\\deprecation.py:87: FutureWarning: Function get_feature_names is deprecated; get_feature_names is deprecated in 1.0 and will be removed in 1.2. Please use get_feature_names_out instead.\n",
      "  warnings.warn(msg, category=FutureWarning)\n"
     ]
    },
    {
     "name": "stdout",
     "output_type": "stream",
     "text": [
      "n==> Armed clash:\n",
      "  * Most Correlated Unigrams are: soldiers, clashes, fighting\n",
      "  * Most Correlated Bigrams are: attacks ethiopian, soldiers killed, militants killed\n"
     ]
    },
    {
     "name": "stderr",
     "output_type": "stream",
     "text": [
      "D:\\Tools\\Python\\lib\\site-packages\\sklearn\\utils\\deprecation.py:87: FutureWarning: Function get_feature_names is deprecated; get_feature_names is deprecated in 1.0 and will be removed in 1.2. Please use get_feature_names_out instead.\n",
      "  warnings.warn(msg, category=FutureWarning)\n"
     ]
    },
    {
     "name": "stdout",
     "output_type": "stream",
     "text": [
      "n==> Arrests:\n",
      "  * Most Correlated Unigrams are: overthrow, arrested, arrests\n",
      "  * Most Correlated Bigrams are: police arrested, arrests security, arrests police\n"
     ]
    },
    {
     "name": "stderr",
     "output_type": "stream",
     "text": [
      "D:\\Tools\\Python\\lib\\site-packages\\sklearn\\utils\\deprecation.py:87: FutureWarning: Function get_feature_names is deprecated; get_feature_names is deprecated in 1.0 and will be removed in 1.2. Please use get_feature_names_out instead.\n",
      "  warnings.warn(msg, category=FutureWarning)\n"
     ]
    },
    {
     "name": "stdout",
     "output_type": "stream",
     "text": [
      "n==> Attack:\n",
      "  * Most Correlated Unigrams are: gunmen, civilians, shot\n",
      "  * Most Correlated Bigrams are: unidentified gunmen, shot killed, shot dead\n"
     ]
    },
    {
     "name": "stderr",
     "output_type": "stream",
     "text": [
      "D:\\Tools\\Python\\lib\\site-packages\\sklearn\\utils\\deprecation.py:87: FutureWarning: Function get_feature_names is deprecated; get_feature_names is deprecated in 1.0 and will be removed in 1.2. Please use get_feature_names_out instead.\n",
      "  warnings.warn(msg, category=FutureWarning)\n"
     ]
    },
    {
     "name": "stdout",
     "output_type": "stream",
     "text": [
      "n==> Change to group/activity:\n",
      "  * Most Correlated Unigrams are: movement, recruitment, measures\n",
      "  * Most Correlated Bigrams are: change armed, security measures, movement forces\n"
     ]
    },
    {
     "name": "stderr",
     "output_type": "stream",
     "text": [
      "D:\\Tools\\Python\\lib\\site-packages\\sklearn\\utils\\deprecation.py:87: FutureWarning: Function get_feature_names is deprecated; get_feature_names is deprecated in 1.0 and will be removed in 1.2. Please use get_feature_names_out instead.\n",
      "  warnings.warn(msg, category=FutureWarning)\n"
     ]
    },
    {
     "name": "stdout",
     "output_type": "stream",
     "text": [
      "n==> Chemical weapon:\n",
      "  * Most Correlated Unigrams are: marrah, poisonous, paralysed\n",
      "  * Most Correlated Bigrams are: forces slm, rebel positions, civilian injuries\n"
     ]
    },
    {
     "name": "stderr",
     "output_type": "stream",
     "text": [
      "D:\\Tools\\Python\\lib\\site-packages\\sklearn\\utils\\deprecation.py:87: FutureWarning: Function get_feature_names is deprecated; get_feature_names is deprecated in 1.0 and will be removed in 1.2. Please use get_feature_names_out instead.\n",
      "  warnings.warn(msg, category=FutureWarning)\n"
     ]
    },
    {
     "name": "stdout",
     "output_type": "stream",
     "text": [
      "n==> Disrupted weapons use:\n",
      "  * Most Correlated Unigrams are: seizure, defused, defusal\n",
      "  * Most Correlated Bigrams are: nepal army, forces defused, weapons seizure\n"
     ]
    },
    {
     "name": "stderr",
     "output_type": "stream",
     "text": [
      "D:\\Tools\\Python\\lib\\site-packages\\sklearn\\utils\\deprecation.py:87: FutureWarning: Function get_feature_names is deprecated; get_feature_names is deprecated in 1.0 and will be removed in 1.2. Please use get_feature_names_out instead.\n",
      "  warnings.warn(msg, category=FutureWarning)\n"
     ]
    },
    {
     "name": "stdout",
     "output_type": "stream",
     "text": [
      "n==> Excessive force against protesters:\n",
      "  * Most Correlated Unigrams are: agenda, grand, protester\n",
      "  * Most Correlated Bigrams are: forces allegedly, allegedly shot, killed protester\n"
     ]
    },
    {
     "name": "stderr",
     "output_type": "stream",
     "text": [
      "D:\\Tools\\Python\\lib\\site-packages\\sklearn\\utils\\deprecation.py:87: FutureWarning: Function get_feature_names is deprecated; get_feature_names is deprecated in 1.0 and will be removed in 1.2. Please use get_feature_names_out instead.\n",
      "  warnings.warn(msg, category=FutureWarning)\n"
     ]
    },
    {
     "name": "stdout",
     "output_type": "stream",
     "text": [
      "n==> Government regains territory:\n",
      "  * Most Correlated Unigrams are: recaptured, regain, regained\n",
      "  * Most Correlated Bigrams are: fardc regained, regain control, regained control\n"
     ]
    },
    {
     "name": "stderr",
     "output_type": "stream",
     "text": [
      "D:\\Tools\\Python\\lib\\site-packages\\sklearn\\utils\\deprecation.py:87: FutureWarning: Function get_feature_names is deprecated; get_feature_names is deprecated in 1.0 and will be removed in 1.2. Please use get_feature_names_out instead.\n",
      "  warnings.warn(msg, category=FutureWarning)\n"
     ]
    },
    {
     "name": "stdout",
     "output_type": "stream",
     "text": [
      "n==> Grenade:\n",
      "  * Most Correlated Unigrams are: hurled, hand, grenade\n",
      "  * Most Correlated Bigrams are: hurled hand, hand grenade, grenade attack\n"
     ]
    },
    {
     "name": "stderr",
     "output_type": "stream",
     "text": [
      "D:\\Tools\\Python\\lib\\site-packages\\sklearn\\utils\\deprecation.py:87: FutureWarning: Function get_feature_names is deprecated; get_feature_names is deprecated in 1.0 and will be removed in 1.2. Please use get_feature_names_out instead.\n",
      "  warnings.warn(msg, category=FutureWarning)\n"
     ]
    },
    {
     "name": "stdout",
     "output_type": "stream",
     "text": [
      "n==> Headquarters or base established:\n",
      "  * Most Correlated Unigrams are: vets, bases, base\n",
      "  * Most Correlated Bigrams are: war veterans, war vets, established base\n"
     ]
    },
    {
     "name": "stderr",
     "output_type": "stream",
     "text": [
      "D:\\Tools\\Python\\lib\\site-packages\\sklearn\\utils\\deprecation.py:87: FutureWarning: Function get_feature_names is deprecated; get_feature_names is deprecated in 1.0 and will be removed in 1.2. Please use get_feature_names_out instead.\n",
      "  warnings.warn(msg, category=FutureWarning)\n"
     ]
    },
    {
     "name": "stdout",
     "output_type": "stream",
     "text": [
      "n==> Looting/property destruction:\n",
      "  * Most Correlated Unigrams are: property, destruction, looting\n",
      "  * Most Correlated Bigrams are: looting suspected, destruction zanu, property destruction\n"
     ]
    },
    {
     "name": "stderr",
     "output_type": "stream",
     "text": [
      "D:\\Tools\\Python\\lib\\site-packages\\sklearn\\utils\\deprecation.py:87: FutureWarning: Function get_feature_names is deprecated; get_feature_names is deprecated in 1.0 and will be removed in 1.2. Please use get_feature_names_out instead.\n",
      "  warnings.warn(msg, category=FutureWarning)\n"
     ]
    },
    {
     "name": "stdout",
     "output_type": "stream",
     "text": [
      "n==> Mob violence:\n",
      "  * Most Correlated Unigrams are: lynched, vigilante, mob\n",
      "  * Most Correlated Bigrams are: angry mob, injured clash, vigilante mob\n"
     ]
    },
    {
     "name": "stderr",
     "output_type": "stream",
     "text": [
      "D:\\Tools\\Python\\lib\\site-packages\\sklearn\\utils\\deprecation.py:87: FutureWarning: Function get_feature_names is deprecated; get_feature_names is deprecated in 1.0 and will be removed in 1.2. Please use get_feature_names_out instead.\n",
      "  warnings.warn(msg, category=FutureWarning)\n"
     ]
    },
    {
     "name": "stdout",
     "output_type": "stream",
     "text": [
      "n==> Non-state actor overtakes territory:\n",
      "  * Most Correlated Unigrams are: captured, garrison, control\n",
      "  * Most Correlated Bigrams are: rebel forces, captured government, mutinied unpaid\n"
     ]
    },
    {
     "name": "stderr",
     "output_type": "stream",
     "text": [
      "D:\\Tools\\Python\\lib\\site-packages\\sklearn\\utils\\deprecation.py:87: FutureWarning: Function get_feature_names is deprecated; get_feature_names is deprecated in 1.0 and will be removed in 1.2. Please use get_feature_names_out instead.\n",
      "  warnings.warn(msg, category=FutureWarning)\n"
     ]
    },
    {
     "name": "stdout",
     "output_type": "stream",
     "text": [
      "n==> Non-violent transfer of territory:\n",
      "  * Most Correlated Unigrams are: control, deployment, vacated\n",
      "  * Most Correlated Bigrams are: took village, somali amisom, took control\n"
     ]
    },
    {
     "name": "stderr",
     "output_type": "stream",
     "text": [
      "D:\\Tools\\Python\\lib\\site-packages\\sklearn\\utils\\deprecation.py:87: FutureWarning: Function get_feature_names is deprecated; get_feature_names is deprecated in 1.0 and will be removed in 1.2. Please use get_feature_names_out instead.\n",
      "  warnings.warn(msg, category=FutureWarning)\n"
     ]
    },
    {
     "name": "stdout",
     "output_type": "stream",
     "text": [
      "n==> Other:\n",
      "  * Most Correlated Unigrams are: non, violent, activity\n",
      "  * Most Correlated Bigrams are: activity police, non violent, violent activity\n"
     ]
    },
    {
     "name": "stderr",
     "output_type": "stream",
     "text": [
      "D:\\Tools\\Python\\lib\\site-packages\\sklearn\\utils\\deprecation.py:87: FutureWarning: Function get_feature_names is deprecated; get_feature_names is deprecated in 1.0 and will be removed in 1.2. Please use get_feature_names_out instead.\n",
      "  warnings.warn(msg, category=FutureWarning)\n"
     ]
    },
    {
     "name": "stdout",
     "output_type": "stream",
     "text": [
      "n==> Peaceful protest:\n",
      "  * Most Correlated Unigrams are: demonstration, staged, protest\n",
      "  * Most Correlated Bigrams are: held protest, protest demonstration, staged protest\n"
     ]
    },
    {
     "name": "stderr",
     "output_type": "stream",
     "text": [
      "D:\\Tools\\Python\\lib\\site-packages\\sklearn\\utils\\deprecation.py:87: FutureWarning: Function get_feature_names is deprecated; get_feature_names is deprecated in 1.0 and will be removed in 1.2. Please use get_feature_names_out instead.\n",
      "  warnings.warn(msg, category=FutureWarning)\n"
     ]
    },
    {
     "name": "stdout",
     "output_type": "stream",
     "text": [
      "n==> Protest with intervention:\n",
      "  * Most Correlated Unigrams are: protesters, arrested, dispersed\n",
      "  * Most Correlated Bigrams are: used water, police detained, police dispersed\n"
     ]
    },
    {
     "name": "stderr",
     "output_type": "stream",
     "text": [
      "D:\\Tools\\Python\\lib\\site-packages\\sklearn\\utils\\deprecation.py:87: FutureWarning: Function get_feature_names is deprecated; get_feature_names is deprecated in 1.0 and will be removed in 1.2. Please use get_feature_names_out instead.\n",
      "  warnings.warn(msg, category=FutureWarning)\n"
     ]
    },
    {
     "name": "stdout",
     "output_type": "stream",
     "text": [
      "n==> Remote explosive/landmine/IED:\n",
      "  * Most Correlated Unigrams are: blast, ied, bomb\n",
      "  * Most Correlated Bigrams are: explosive device, bomb blast, bomb exploded\n"
     ]
    },
    {
     "name": "stderr",
     "output_type": "stream",
     "text": [
      "D:\\Tools\\Python\\lib\\site-packages\\sklearn\\utils\\deprecation.py:87: FutureWarning: Function get_feature_names is deprecated; get_feature_names is deprecated in 1.0 and will be removed in 1.2. Please use get_feature_names_out instead.\n",
      "  warnings.warn(msg, category=FutureWarning)\n"
     ]
    },
    {
     "name": "stdout",
     "output_type": "stream",
     "text": [
      "n==> Sexual violence:\n",
      "  * Most Correlated Unigrams are: rape, rapes, raped\n",
      "  * Most Correlated Bigrams are: women targeted, raped women, targeted girls\n"
     ]
    },
    {
     "name": "stderr",
     "output_type": "stream",
     "text": [
      "D:\\Tools\\Python\\lib\\site-packages\\sklearn\\utils\\deprecation.py:87: FutureWarning: Function get_feature_names is deprecated; get_feature_names is deprecated in 1.0 and will be removed in 1.2. Please use get_feature_names_out instead.\n",
      "  warnings.warn(msg, category=FutureWarning)\n"
     ]
    },
    {
     "name": "stdout",
     "output_type": "stream",
     "text": [
      "n==> Shelling/artillery/missile attack:\n",
      "  * Most Correlated Unigrams are: landed, shell, mortar\n",
      "  * Most Correlated Bigrams are: mortar shells, fired mortar, mortar rounds\n"
     ]
    },
    {
     "name": "stderr",
     "output_type": "stream",
     "text": [
      "D:\\Tools\\Python\\lib\\site-packages\\sklearn\\utils\\deprecation.py:87: FutureWarning: Function get_feature_names is deprecated; get_feature_names is deprecated in 1.0 and will be removed in 1.2. Please use get_feature_names_out instead.\n",
      "  warnings.warn(msg, category=FutureWarning)\n"
     ]
    },
    {
     "name": "stdout",
     "output_type": "stream",
     "text": [
      "n==> Suicide bomb:\n",
      "  * Most Correlated Unigrams are: bombers, bomber, suicide\n",
      "  * Most Correlated Bigrams are: suicide bombers, suicide attack, suicide bomber\n",
      "n==> Violent demonstration:\n",
      "  * Most Correlated Unigrams are: tyres, rioters, riot\n",
      "  * Most Correlated Bigrams are: clashed police, tear gas, service delivery\n"
     ]
    },
    {
     "name": "stderr",
     "output_type": "stream",
     "text": [
      "D:\\Tools\\Python\\lib\\site-packages\\sklearn\\utils\\deprecation.py:87: FutureWarning: Function get_feature_names is deprecated; get_feature_names is deprecated in 1.0 and will be removed in 1.2. Please use get_feature_names_out instead.\n",
      "  warnings.warn(msg, category=FutureWarning)\n"
     ]
    }
   ],
   "source": [
    "# Finding the three most correlated terms with each of the product categories\n",
    "N = 3\n",
    "for SUB_EVENT_TYPE, category_id in sorted(category_to_id.items()):\n",
    "  features_chi2 = chi2(features, labels == category_id)\n",
    "  indices = np.argsort(features_chi2[0])\n",
    "  feature_names = np.array(tfidf.get_feature_names())[indices]\n",
    "  unigrams = [v for v in feature_names if len(v.split(' ')) == 1]\n",
    "  bigrams = [v for v in feature_names if len(v.split(' ')) == 2]\n",
    "  print(\"n==> %s:\" %(SUB_EVENT_TYPE))\n",
    "  print(\"  * Most Correlated Unigrams are: %s\" %(', '.join(unigrams[-N:])))\n",
    "  print(\"  * Most Correlated Bigrams are: %s\" %(', '.join(bigrams[-N:])))"
   ]
  },
  {
   "cell_type": "code",
   "execution_count": 70,
   "metadata": {},
   "outputs": [],
   "source": [
    "X = se_df2['NOTES'] # Collection of documents\n",
    "y = se_df2['SUB_EVENT_TYPE'] # Target or the labels we want to predict (i.e., the 13 different complaints of products)\n",
    "X_train, X_test, y_train, y_test = train_test_split(X, y, \n",
    "                                                    test_size=0.25,\n",
    "                                                    random_state = 0)"
   ]
  },
  {
   "cell_type": "code",
   "execution_count": 71,
   "metadata": {},
   "outputs": [],
   "source": [
    "models = [\n",
    "    LogisticRegression(random_state=0)\n",
    "]"
   ]
  },
  {
   "cell_type": "code",
   "execution_count": 72,
   "metadata": {},
   "outputs": [],
   "source": [
    "CV = 5\n",
    "cv_df = pd.DataFrame(index=range(CV * len(models)))"
   ]
  },
  {
   "cell_type": "code",
   "execution_count": 73,
   "metadata": {
    "scrolled": true
   },
   "outputs": [
    {
     "name": "stderr",
     "output_type": "stream",
     "text": [
      "D:\\Tools\\Python\\lib\\site-packages\\sklearn\\model_selection\\_split.py:676: UserWarning: The least populated class in y has only 3 members, which is less than n_splits=5.\n",
      "  warnings.warn(\n",
      "D:\\Tools\\Python\\lib\\site-packages\\sklearn\\linear_model\\_logistic.py:814: ConvergenceWarning: lbfgs failed to converge (status=1):\n",
      "STOP: TOTAL NO. of ITERATIONS REACHED LIMIT.\n",
      "\n",
      "Increase the number of iterations (max_iter) or scale the data as shown in:\n",
      "    https://scikit-learn.org/stable/modules/preprocessing.html\n",
      "Please also refer to the documentation for alternative solver options:\n",
      "    https://scikit-learn.org/stable/modules/linear_model.html#logistic-regression\n",
      "  n_iter_i = _check_optimize_result(\n",
      "D:\\Tools\\Python\\lib\\site-packages\\sklearn\\linear_model\\_logistic.py:814: ConvergenceWarning: lbfgs failed to converge (status=1):\n",
      "STOP: TOTAL NO. of ITERATIONS REACHED LIMIT.\n",
      "\n",
      "Increase the number of iterations (max_iter) or scale the data as shown in:\n",
      "    https://scikit-learn.org/stable/modules/preprocessing.html\n",
      "Please also refer to the documentation for alternative solver options:\n",
      "    https://scikit-learn.org/stable/modules/linear_model.html#logistic-regression\n",
      "  n_iter_i = _check_optimize_result(\n",
      "D:\\Tools\\Python\\lib\\site-packages\\sklearn\\linear_model\\_logistic.py:814: ConvergenceWarning: lbfgs failed to converge (status=1):\n",
      "STOP: TOTAL NO. of ITERATIONS REACHED LIMIT.\n",
      "\n",
      "Increase the number of iterations (max_iter) or scale the data as shown in:\n",
      "    https://scikit-learn.org/stable/modules/preprocessing.html\n",
      "Please also refer to the documentation for alternative solver options:\n",
      "    https://scikit-learn.org/stable/modules/linear_model.html#logistic-regression\n",
      "  n_iter_i = _check_optimize_result(\n",
      "D:\\Tools\\Python\\lib\\site-packages\\sklearn\\linear_model\\_logistic.py:814: ConvergenceWarning: lbfgs failed to converge (status=1):\n",
      "STOP: TOTAL NO. of ITERATIONS REACHED LIMIT.\n",
      "\n",
      "Increase the number of iterations (max_iter) or scale the data as shown in:\n",
      "    https://scikit-learn.org/stable/modules/preprocessing.html\n",
      "Please also refer to the documentation for alternative solver options:\n",
      "    https://scikit-learn.org/stable/modules/linear_model.html#logistic-regression\n",
      "  n_iter_i = _check_optimize_result(\n",
      "D:\\Tools\\Python\\lib\\site-packages\\sklearn\\linear_model\\_logistic.py:814: ConvergenceWarning: lbfgs failed to converge (status=1):\n",
      "STOP: TOTAL NO. of ITERATIONS REACHED LIMIT.\n",
      "\n",
      "Increase the number of iterations (max_iter) or scale the data as shown in:\n",
      "    https://scikit-learn.org/stable/modules/preprocessing.html\n",
      "Please also refer to the documentation for alternative solver options:\n",
      "    https://scikit-learn.org/stable/modules/linear_model.html#logistic-regression\n",
      "  n_iter_i = _check_optimize_result(\n"
     ]
    }
   ],
   "source": [
    "entries = []\n",
    "for model in models:\n",
    "  model_name = model.__class__.__name__\n",
    "  accuracies = cross_val_score(model, features, labels, scoring='accuracy', cv=CV)\n",
    "  for fold_idx, accuracy in enumerate(accuracies):\n",
    "    entries.append((model_name, fold_idx, accuracy))\n",
    "cv_df = pd.DataFrame(entries, columns=['model_name', 'fold_idx', 'accuracy'])"
   ]
  },
  {
   "cell_type": "code",
   "execution_count": 74,
   "metadata": {},
   "outputs": [
    {
     "data": {
      "text/html": [
       "<div>\n",
       "<style scoped>\n",
       "    .dataframe tbody tr th:only-of-type {\n",
       "        vertical-align: middle;\n",
       "    }\n",
       "\n",
       "    .dataframe tbody tr th {\n",
       "        vertical-align: top;\n",
       "    }\n",
       "\n",
       "    .dataframe thead th {\n",
       "        text-align: right;\n",
       "    }\n",
       "</style>\n",
       "<table border=\"1\" class=\"dataframe\">\n",
       "  <thead>\n",
       "    <tr style=\"text-align: right;\">\n",
       "      <th></th>\n",
       "      <th>Mean Accuracy</th>\n",
       "      <th>Standard deviation</th>\n",
       "    </tr>\n",
       "    <tr>\n",
       "      <th>model_name</th>\n",
       "      <th></th>\n",
       "      <th></th>\n",
       "    </tr>\n",
       "  </thead>\n",
       "  <tbody>\n",
       "    <tr>\n",
       "      <th>LogisticRegression</th>\n",
       "      <td>0.794333</td>\n",
       "      <td>0.003984</td>\n",
       "    </tr>\n",
       "  </tbody>\n",
       "</table>\n",
       "</div>"
      ],
      "text/plain": [
       "                    Mean Accuracy  Standard deviation\n",
       "model_name                                           \n",
       "LogisticRegression       0.794333            0.003984"
      ]
     },
     "execution_count": 74,
     "metadata": {},
     "output_type": "execute_result"
    }
   ],
   "source": [
    "mean_accuracy = cv_df.groupby('model_name').accuracy.mean()\n",
    "std_accuracy = cv_df.groupby('model_name').accuracy.std()\n",
    "\n",
    "acc = pd.concat([mean_accuracy, std_accuracy], axis= 1, \n",
    "          ignore_index=True)\n",
    "acc.columns = ['Mean Accuracy', 'Standard deviation']\n",
    "acc"
   ]
  },
  {
   "cell_type": "code",
   "execution_count": 75,
   "metadata": {},
   "outputs": [
    {
     "data": {
      "image/png": "[encoded data removed]",
      "text/plain": [
       "<Figure size 576x360 with 1 Axes>"
      ]
     },
     "metadata": {
      "needs_background": "light"
     },
     "output_type": "display_data"
    }
   ],
   "source": [
    "plt.figure(figsize=(8,5))\n",
    "sns.boxplot(x='model_name', y='accuracy', \n",
    "            data=cv_df, \n",
    "            color='lightblue', \n",
    "            showmeans=True)\n",
    "plt.title(\"MEAN ACCURACY (cv = 5)n\", size=14);"
   ]
  },
  {
   "cell_type": "code",
   "execution_count": 76,
   "metadata": {},
   "outputs": [],
   "source": [
    "X_train, X_test, y_train, y_test,indices_train,indices_test = train_test_split(features, \n",
    "                                                               labels, \n",
    "                                                               se_df2.index, test_size=0.25, \n",
    "                                                               random_state=1)\n",
    "model = LinearSVC()\n",
    "model.fit(X_train, y_train)\n",
    "y_pred = model.predict(X_test)"
   ]
  },
  {
   "cell_type": "code",
   "execution_count": 77,
   "metadata": {},
   "outputs": [
    {
     "name": "stdout",
     "output_type": "stream",
     "text": [
      "ttttCLASSIFICATIION METRICSn\n",
      "                                     precision    recall  f1-score   support\n",
      "\n",
      "                       Mob violence       0.78      0.62      0.69       409\n",
      "                        Armed clash       0.81      0.85      0.83      2008\n",
      "                   Peaceful protest       0.93      0.97      0.95      1570\n",
      "                             Attack       0.79      0.86      0.82      1694\n",
      "                    Sexual violence       0.97      0.75      0.85        44\n",
      "              Violent demonstration       0.71      0.70      0.71       428\n",
      "      Remote explosive/landmine/IED       0.89      0.92      0.90       309\n",
      "       Looting/property destruction       0.97      0.67      0.79        51\n",
      "                          Agreement       0.95      0.80      0.87        25\n",
      "                            Grenade       0.79      0.90      0.85        94\n",
      "                   Air/drone strike       0.91      0.87      0.89       163\n",
      "          Protest with intervention       0.58      0.39      0.46       116\n",
      "                              Other       1.00      0.89      0.94        19\n",
      "       Government regains territory       0.60      0.42      0.49        72\n",
      "  Shelling/artillery/missile attack       0.84      0.74      0.78        91\n",
      " Excessive force against protesters       0.81      0.39      0.53        67\n",
      "           Change to group/activity       1.00      0.79      0.88        42\n",
      "                       Suicide bomb       0.80      0.78      0.79        46\n",
      "Non-state actor overtakes territory       0.66      0.30      0.41        71\n",
      "     Abduction/forced disappearance       0.76      0.60      0.67        92\n",
      "                            Arrests       0.95      0.68      0.79        28\n",
      "  Non-violent transfer of territory       0.67      0.11      0.18        19\n",
      "   Headquarters or base established       1.00      0.47      0.64        17\n",
      "              Disrupted weapons use       1.00      0.42      0.59        24\n",
      "                    Chemical weapon       0.00      0.00      0.00         1\n",
      "\n",
      "                           accuracy                           0.83      7500\n",
      "                          macro avg       0.81      0.64      0.69      7500\n",
      "                       weighted avg       0.83      0.83      0.82      7500\n",
      "\n"
     ]
    },
    {
     "name": "stderr",
     "output_type": "stream",
     "text": [
      "D:\\Tools\\Python\\lib\\site-packages\\sklearn\\metrics\\_classification.py:1308: UndefinedMetricWarning: Precision and F-score are ill-defined and being set to 0.0 in labels with no predicted samples. Use `zero_division` parameter to control this behavior.\n",
      "  _warn_prf(average, modifier, msg_start, len(result))\n",
      "D:\\Tools\\Python\\lib\\site-packages\\sklearn\\metrics\\_classification.py:1308: UndefinedMetricWarning: Precision and F-score are ill-defined and being set to 0.0 in labels with no predicted samples. Use `zero_division` parameter to control this behavior.\n",
      "  _warn_prf(average, modifier, msg_start, len(result))\n",
      "D:\\Tools\\Python\\lib\\site-packages\\sklearn\\metrics\\_classification.py:1308: UndefinedMetricWarning: Precision and F-score are ill-defined and being set to 0.0 in labels with no predicted samples. Use `zero_division` parameter to control this behavior.\n",
      "  _warn_prf(average, modifier, msg_start, len(result))\n"
     ]
    }
   ],
   "source": [
    "print('ttttCLASSIFICATIION METRICSn')\n",
    "print(metrics.classification_report(y_test, y_pred, \n",
    "                                    target_names= se_df2['SUB_EVENT_TYPE'].unique()))"
   ]
  },
  {
   "cell_type": "code",
   "execution_count": 78,
   "metadata": {},
   "outputs": [
    {
     "data": {
      "image/png": "[encoded data removed]",
      "text/plain": [
       "<Figure size 576x576 with 2 Axes>"
      ]
     },
     "metadata": {
      "needs_background": "light"
     },
     "output_type": "display_data"
    }
   ],
   "source": [
    "conf_mat = confusion_matrix(y_test, y_pred)\n",
    "fig, ax = plt.subplots(figsize=(8,8))\n",
    "sns.heatmap(conf_mat, annot=True, cmap=\"Blues\", fmt='d',\n",
    "            xticklabels=category_id_df.SUB_EVENT_TYPE.values, \n",
    "            yticklabels=category_id_df.SUB_EVENT_TYPE.values)\n",
    "plt.ylabel('Actual')\n",
    "plt.xlabel('Predicted')\n",
    "plt.title(\"CONFUSION MATRIX - LinearSVCn\", size=16);"
   ]
  },
  {
   "cell_type": "code",
   "execution_count": 79,
   "metadata": {},
   "outputs": [],
   "source": [
    "#PREDICTION\n",
    "X_train, X_test, y_train, y_test = train_test_split(X, y, \n",
    "                                                    test_size=0.25,\n",
    "                                                    random_state = 0)"
   ]
  },
  {
   "cell_type": "code",
   "execution_count": 80,
   "metadata": {},
   "outputs": [],
   "source": [
    "tfidf = TfidfVectorizer(sublinear_tf=True, min_df=5,\n",
    "                        ngram_range=(1, 2), \n",
    "                        stop_words='english')"
   ]
  },
  {
   "cell_type": "code",
   "execution_count": 81,
   "metadata": {},
   "outputs": [],
   "source": [
    "fitted_vectorizer = tfidf.fit(X_train)\n",
    "tfidf_vectorizer_vectors = fitted_vectorizer.transform(X_train)"
   ]
  },
  {
   "cell_type": "code",
   "execution_count": 82,
   "metadata": {},
   "outputs": [],
   "source": [
    "model = LinearSVC().fit(tfidf_vectorizer_vectors, y_train)"
   ]
  },
  {
   "cell_type": "code",
   "execution_count": 83,
   "metadata": {},
   "outputs": [
    {
     "name": "stdout",
     "output_type": "stream",
     "text": [
      "['Armed clash']\n"
     ]
    }
   ],
   "source": [
    "note='AMISOM/Somali forces clash with al Shabaab in Kulbiyow sub-district in the Lower Juba region. The clash lasted for several hours; causalities not yet known.'\n",
    "print(model.predict(fitted_vectorizer.transform([note])))"
   ]
  },
  {
   "cell_type": "code",
   "execution_count": 84,
   "metadata": {},
   "outputs": [],
   "source": [
    "#SAVE MODEL\n",
    "filename = 'NLP_TASK1_SUB_EVENT_TYPE_CLASSIFICATION_MODEL.sav'\n",
    "pickle.dump(model, open(filename, 'wb'))"
   ]
  },
  {
   "cell_type": "code",
   "execution_count": 88,
   "metadata": {},
   "outputs": [
    {
     "name": "stdout",
     "output_type": "stream",
     "text": [
      "['Attack']\n"
     ]
    }
   ],
   "source": [
    "filename = 'D:/CSE635 - NLP/SocialUnrestPrediction/task1/NLP_TASK1_SUB_EVENT_TYPE_CLASSIFICATION_MODEL.sav'\n",
    "loaded_model_sub_event_type_classifier = pickle.load(open(filename, 'rb'))\n",
    "note='Al Shabaab members attack and kill two men transporting khat in an area between Baadhaade and Kulbiyow in Badhaade district.'\n",
    "print(loaded_model_sub_event_type_classifier.predict(fitted_vectorizer.transform([note])))"
   ]
  },
  {
   "cell_type": "code",
   "execution_count": 154,
   "metadata": {},
   "outputs": [],
   "source": [
    "EVENT_TYPE=''\n",
    "SUB_EVENT_TYPE=''\n",
    "FATALITIES=10000000\n",
    "LOCATION=''\n",
    "ACTOR1=''\n",
    "INTER1=''\n",
    "ACTOR2=''\n",
    "INTER2=''\n",
    "INTERACTION=''\n",
    "\n"
   ]
  },
  {
   "cell_type": "code",
   "execution_count": 176,
   "metadata": {},
   "outputs": [
    {
     "name": "stdout",
     "output_type": "stream",
     "text": [
      "EVENT TYPE: Riots\n",
      "SUB EVENT TYPE: Violent demonstration\n"
     ]
    }
   ],
   "source": [
    "sub_event_type_filename = 'D:/CSE635 - NLP/SocialUnrestPrediction/task1/NLP_TASK1_SUB_EVENT_TYPE_CLASSIFICATION_MODEL.sav'\n",
    "event_type_filename = 'D:/CSE635 - NLP/SocialUnrestPrediction/task1/NLP_TASK1_EVENT_TYPE_CLASSIFICATION_MODEL.sav'\n",
    "loaded_model_event_type_classifier = pickle.load(open(event_type_filename, 'rb'))\n",
    "loaded_model_sub_event_type_classifier = pickle.load(open(sub_event_type_filename, 'rb'))\n",
    "#note='Al Shabaab members attack and kill two men transporting khat in an area between Baadhaade and Kulbiyow in Badhaade district.'\n",
    "note='On Saturday (24/01) assailants set a private car afire and blasted 16 crude bombs at Malibagh and Shyamoli in the capital.'\n",
    "print('EVENT TYPE:', loaded_model_event_type_classifier.predict(fitted_vectorizer.transform([note]))[0])\n",
    "print('SUB EVENT TYPE:', loaded_model_sub_event_type_classifier.predict(fitted_vectorizer.transform([note]))[0])"
   ]
  },
  {
   "cell_type": "code",
   "execution_count": 156,
   "metadata": {},
   "outputs": [],
   "source": [
    "#NER\n",
    "##!python -m pip install --upgrade pip\n",
    "#!pip install spacy\n",
    "#!python -m spacy download en_core_web_sm\n",
    "#!pip install word2number"
   ]
  },
  {
   "cell_type": "code",
   "execution_count": 157,
   "metadata": {},
   "outputs": [],
   "source": [
    "import spacy\n",
    "from spacy import displacy\n",
    "from word2number import w2n\n",
    "\n",
    "NER = spacy.load(\"en_core_web_sm\")"
   ]
  },
  {
   "cell_type": "code",
   "execution_count": 158,
   "metadata": {},
   "outputs": [
    {
     "name": "stdout",
     "output_type": "stream",
     "text": [
      "Two CARDINAL\n",
      "two CARDINAL\n",
      "non-consecutive days DATE\n",
      "Ebira PRODUCT\n",
      "Bassa kwomu PERSON\n",
      "Ikende ORG\n",
      "\n",
      "Event Type: Battles\n",
      "SUB EVENT TYPE: Armed clash\n",
      "Event date: non-consecutive days\n",
      "Location: \n",
      "FATALITIES: 2\n"
     ]
    }
   ],
   "source": [
    "raw_text='Two are killed and several houses burnt over two non-consecutive days during a clash between the Ebira and Bassa kwomu speaking peoples Ikende.'\n",
    "text1= NER(raw_text)\n",
    "for word in text1.ents:\n",
    "    print(word.text,word.label_)\n",
    "    if word.label_ == 'CARDINAL':\n",
    "        try:\n",
    "            num = word.text\n",
    "            num = w2n.word_to_num(num)\n",
    "            if num < FATALITIES:\n",
    "                FATALITIES = num\n",
    "        except:\n",
    "            print('error')\n",
    "    if word.label_ == 'GPE':\n",
    "        LOCATION = LOCATION + word.text + \" \"\n",
    "#print('Word to Num', w2n.word_to_num(\"hello\"))\n",
    "LOCATION = LOCATION.strip()\n",
    "EVENT_TYPE = loaded_model_event_type_classifier.predict(fitted_vectorizer.transform([raw_text]))[0]\n",
    "SUB_EVENT_TYPE = loaded_model_sub_event_type_classifier.predict(fitted_vectorizer.transform([raw_text]))[0]\n",
    "print('Event Type:', EVENT_TYPE)\n",
    "print('SUB EVENT TYPE:', SUB_EVENT_TYPE)\n",
    "print('Location:', LOCATION)\n",
    "print('FATALITIES:', FATALITIES)"
   ]
  },
  {
   "cell_type": "code",
   "execution_count": null,
   "metadata": {},
   "outputs": [],
   "source": [
    "#INTER1\n",
    "!pip install transformers -q\n",
    "\n",
    "# Load a spacy model and chekc if it has ner\n",
    "import spacy\n",
    "nlp=spacy.load('en_core_web_sm')\n",
    "\n",
    "from transformers import BertModel, BertTokenizerFast\n",
    "import torch\n",
    "import torch.nn as nn\n",
    "from sklearn.datasets import fetch_20newsgroups\n",
    "from pprint import  pprint\n",
    "import re\n",
    "from collections import Counter\n",
    "import pandas as pd\n",
    "\n",
    "device = torch.device('cuda' if torch.cuda.is_available() else 'cpu')\n",
    "\n",
    "nlp.pipe_names\n",
    "\n",
    "#> ['tagger', 'parser', 'ner']\n",
    "\n",
    "\n",
    "\n",
    "import pandas as pd\n",
    "\n",
    "ls\n",
    "\n",
    "train = pd.read_csv('task_1_information_extraction_train.tsv', sep='\\t').dropna(subset = [\"NOTES\", \"INTER1\"])#.sample(frac = 0.1)\n",
    "\n",
    "categories = list(range(1, 9))\n",
    "X_train = train[\"NOTES\"].values\n",
    "Y_train = train[\"INTER1\"].values -1\n",
    "\n",
    "test = pd.read_csv('task_1_information_extraction_valid.tsv', sep='\\t').dropna(subset = [\"NOTES\", \"INTER1\"])\n",
    "\n",
    "\n",
    "X_test = test[\"NOTES\"].values\n",
    "Y_test = test[\"INTER1\"].values-1 \n",
    "\n",
    "\n",
    "#from sklearn.feature_extraction.text import TfidfVectorizer\n",
    "#Vectorizer = TfidfVectorizer()\n",
    "#X = Vectorizer.fit_transform(X)\n",
    "\n",
    "\n",
    "#remove stopwords to change sparsematrix (with 0s)\n",
    "\n",
    "#Y.nunique()\n",
    "\n",
    "\n",
    "\n",
    "tokenizer = BertTokenizerFast.from_pretrained(\"bert-base-uncased\")\n",
    "\n",
    "train_enc = tokenizer.batch_encode_plus(list(X_train), padding=\"longest\", truncation=True, max_length=128, return_tensors=\"pt\")\n",
    "test_enc = tokenizer.batch_encode_plus(list(X_test), padding=\"longest\", truncation=True, max_length=128, return_tensors=\"pt\")\n",
    "\n",
    "train_input_ids, train_type_ids, train_attn_mask = train_enc.input_ids, train_enc.token_type_ids, train_enc.attention_mask\n",
    "test_input_ids, test_type_ids, test_attn_mask = test_enc.input_ids, test_enc.token_type_ids, test_enc.attention_mask\n",
    "\n",
    "from torch.utils.data import TensorDataset, DataLoader, RandomSampler, SequentialSampler\n",
    "\n",
    "# Below we define a function to create train, test & valid dataloaders in Pytorch\n",
    "\n",
    "batch_size = 32\n",
    "\n",
    "def get_dataloader(input_ids, type_ids, attn_mask, y):\n",
    "    data = TensorDataset(input_ids, type_ids, attn_mask, y)\n",
    "    sampler = RandomSampler(data)\n",
    "    dataloader = DataLoader(data, sampler=sampler, batch_size=batch_size)\n",
    "    return dataloader\n",
    "\n",
    "train_datalaoder = get_dataloader(train_input_ids, train_type_ids, train_attn_mask, torch.tensor(Y_train))\n",
    "test_datalaoder = get_dataloader(test_input_ids, test_type_ids, test_attn_mask, torch.tensor(Y_test))\n",
    "\n",
    "class BERTClassifier(nn.Module):\n",
    "  def __init__(self, transformer):\n",
    "    super().__init__()\n",
    "    self.transformer = transformer\n",
    "    self.linear = nn.Linear(768, 8)\n",
    "  \n",
    "  def forward(self, in_ids, type_ids, attn_mask):\n",
    "    op = self.transformer(input_ids=in_ids, attention_mask=attn_mask, \n",
    "                          token_type_ids=type_ids)\n",
    "    \n",
    "    return  self.linear(op[\"pooler_output\"])\n",
    "\n",
    "def count_parameters(model):\n",
    "  return sum(p.numel() for p in model.parameters() if p.requires_grad)\n",
    "\n",
    "transformer = BertModel.from_pretrained(\"bert-base-uncased\")\n",
    "model = BERTClassifier(transformer).to(device)\n",
    "print(f'The model has {count_parameters(model):,} trainable parameters')\n",
    "\n",
    "def train(model, dataloader, optimizer, criterion, clip=1.0):\n",
    "\n",
    "    model.train()\n",
    "\n",
    "    ep_t_loss = 0\n",
    "    batch_num  = 0\n",
    "    pred, tgt = [], []\n",
    "    for ix, batch in tqdm(enumerate(dataloader)):\n",
    "        batch = tuple(t.to(device) for t in batch)\n",
    "        input_ids, type_ids, attn_mask, y = batch\n",
    "        \n",
    "        optimizer.zero_grad()\n",
    "        output = model(input_ids, type_ids, attn_mask)     \n",
    "        loss = criterion(output, y)\n",
    "        loss.backward()\n",
    "\n",
    "        #gradient clipping\n",
    "        torch.nn.utils.clip_grad_norm_(model.parameters(), clip)\n",
    "        optimizer.step()\n",
    "\n",
    "        ep_t_loss += loss.item()\n",
    "        batch_num += 1\n",
    "        pred.extend(torch.argmax(output, -1).tolist())\n",
    "        tgt.extend(y.tolist())\n",
    "\n",
    "    return ep_t_loss/batch_num, metrics.f1_score(tgt, pred, average='macro')\n",
    "\n",
    "# Evaluation function: Calculates loss on the validation data.\n",
    "from sklearn import metrics\n",
    "\n",
    "def evaluate(model, dataloader, criterion):\n",
    "\n",
    "    model.eval()\n",
    "\n",
    "    ep_t_loss = 0\n",
    "    batch_num  = 0\n",
    "    pred, tgt = [], []\n",
    "    for ix, batch in enumerate(dataloader):\n",
    "        batch = tuple(t.to(device) for t in batch)\n",
    "        input_ids, type_ids, attn_mask, y = batch\n",
    "\n",
    "        with torch.no_grad():\n",
    "            output = model(input_ids, type_ids, attn_mask)\n",
    "            \n",
    "            loss = criterion(output, y)\n",
    "\n",
    "            ep_t_loss += loss.item()\n",
    "            batch_num += 1\n",
    "            pred.extend(torch.argmax(output, -1).tolist())\n",
    "            tgt.extend(y.tolist())\n",
    "        \n",
    "    return ep_t_loss/batch_num, metrics.f1_score(tgt, pred, average='macro'), pred, tgt\n",
    "\n",
    "criterion = torch.nn.CrossEntropyLoss()\n",
    "optim = torch.optim.AdamW(model.parameters(), lr = 2e-5)\n",
    "\n",
    "best_valid_loss = float('inf')\n",
    "tot_t_loss, tot_v_loss =[],[]\n",
    "N_EPOCHS = 2\n",
    "\n",
    "import time\n",
    "from tqdm.notebook import tqdm\n",
    "\n",
    "for epoch in tqdm(range(N_EPOCHS)): \n",
    "\n",
    "    tr_l, tr_f1= train(model, train_datalaoder, optim, criterion)\n",
    "    tot_t_loss.append(tr_l)\n",
    "\n",
    "    val_l, val_f1, pred, tgt = evaluate(model, test_datalaoder, criterion)\n",
    "    tot_v_loss.append(val_l)\n",
    "    \n",
    "    if val_l < best_valid_loss:\n",
    "        best_valid_loss = val_l\n",
    "        best_pred, best_tgt = pred, tgt\n",
    "        torch.save(model.state_dict(), 'model_least_loss.pt')\n",
    "        print(\"\\nBest Model Saved !!\")\n",
    "    elif epoch % 3 == 0:\n",
    "        torch.save(model.state_dict(), 'model_checkpoint_'+str(epoch)+'.pt')\n",
    "        print(\"\\Checkpoint Model Saved !!\")\n",
    "    print(\"\\n\")\n",
    "    print(f'Epoch: {epoch+1:02}')\n",
    "    print(f'\\tTrain Total Loss: {tr_l:.3f} | Train F1: {tr_f1:.3f}')\n",
    "    print(f'\\tVal. Total Loss: {val_l:.3f} | Valid F1: {val_f1:.3f}')\n",
    "    print(\"_________________________________________________________________\")\n",
    "\n",
    "print(metrics.classification_report(best_tgt, best_pred))"
   ]
  },
  {
   "cell_type": "code",
   "execution_count": null,
   "metadata": {},
   "outputs": [],
   "source": [
    "#INTER 2\n",
    "\n",
    "!pip install transformers -q\n",
    "\n",
    "# Load a spacy model and chekc if it has ner\n",
    "import spacy\n",
    "nlp=spacy.load('en_core_web_sm')\n",
    "\n",
    "from transformers import BertModel, BertTokenizerFast\n",
    "import torch\n",
    "import torch.nn as nn\n",
    "from sklearn.datasets import fetch_20newsgroups\n",
    "from pprint import  pprint\n",
    "import re\n",
    "from collections import Counter\n",
    "import pandas as pd\n",
    "\n",
    "device = torch.device('cuda' if torch.cuda.is_available() else 'cpu')\n",
    "\n",
    "nlp.pipe_names\n",
    "\n",
    "#> ['tagger', 'parser', 'ner']\n",
    "\n",
    "df_train[\"INTER2\"].value_counts()\n",
    "\n",
    "df_train = pd.read_csv('sample_data/task_1_information_extraction_train.tsv', sep='\\t').dropna(subset = [\"NOTES\", \"INTER2\"])#.sample(frac = 0.1)\n",
    "\n",
    "categories = list(range(1, 9))\n",
    "X_train = df_train[\"NOTES\"].values\n",
    "Y_train = df_train[\"INTER2\"].values \n",
    "\n",
    "df_test = pd.read_csv('sample_data/task_1_information_extraction_valid.tsv', sep='\\t').dropna(subset = [\"NOTES\", \"INTER2\"])\n",
    "\n",
    "\n",
    "X_test = df_test[\"NOTES\"].values\n",
    "Y_test = df_test[\"INTER2\"].values\n",
    "\n",
    "\n",
    "#from sklearn.feature_extraction.text import TfidfVectorizer\n",
    "#Vectorizer = TfidfVectorizer()\n",
    "#X = Vectorizer.fit_transform(X)\n",
    "\n",
    "\n",
    "#remove stopwords to change sparsematrix (with 0s)\n",
    "\n",
    "#Y.nunique()\n",
    "\n",
    "\n",
    "\n",
    "tokenizer = BertTokenizerFast.from_pretrained(\"bert-base-uncased\")\n",
    "\n",
    "train_enc = tokenizer.batch_encode_plus(list(X_train), padding=\"longest\", truncation=True, max_length=128, return_tensors=\"pt\")\n",
    "test_enc = tokenizer.batch_encode_plus(list(X_test), padding=\"longest\", truncation=True, max_length=128, return_tensors=\"pt\")\n",
    "\n",
    "train_input_ids, train_type_ids, train_attn_mask = train_enc.input_ids, train_enc.token_type_ids, train_enc.attention_mask\n",
    "test_input_ids, test_type_ids, test_attn_mask = test_enc.input_ids, test_enc.token_type_ids, test_enc.attention_mask\n",
    "\n",
    "from torch.utils.data import TensorDataset, DataLoader, RandomSampler, SequentialSampler\n",
    "\n",
    "# Below we define a function to create train, test & valid dataloaders in Pytorch\n",
    "\n",
    "batch_size = 32\n",
    "\n",
    "def get_dataloader(input_ids, type_ids, attn_mask, y):\n",
    "    data = TensorDataset(input_ids, type_ids, attn_mask, y)\n",
    "    sampler = RandomSampler(data)\n",
    "    dataloader = DataLoader(data, sampler=sampler, batch_size=batch_size)\n",
    "    return dataloader\n",
    "\n",
    "train_datalaoder = get_dataloader(train_input_ids, train_type_ids, train_attn_mask, torch.tensor(Y_train))\n",
    "test_datalaoder = get_dataloader(test_input_ids, test_type_ids, test_attn_mask, torch.tensor(Y_test))\n",
    "\n",
    "class BERTClassifier(nn.Module):\n",
    "  def __init__(self, transformer):\n",
    "    super().__init__()\n",
    "    self.transformer = transformer\n",
    "    self.linear = nn.Linear(768, 9)\n",
    "  \n",
    "  def forward(self, in_ids, type_ids, attn_mask):\n",
    "    op = self.transformer(input_ids=in_ids, attention_mask=attn_mask, \n",
    "                          token_type_ids=type_ids)\n",
    "    \n",
    "    return  self.linear(op[\"pooler_output\"])\n",
    "\n",
    "def count_parameters(model):\n",
    "  return sum(p.numel() for p in model.parameters() if p.requires_grad)\n",
    "\n",
    "transformer = BertModel.from_pretrained(\"bert-base-uncased\")\n",
    "model = BERTClassifier(transformer).to(device)\n",
    "print(f'The model has {count_parameters(model):,} trainable parameters')\n",
    "\n",
    "def train(model, dataloader, optimizer, criterion, clip=1.0):\n",
    "\n",
    "    model.train()\n",
    "\n",
    "    ep_t_loss = 0\n",
    "    batch_num  = 0\n",
    "    pred, tgt = [], []\n",
    "    for ix, batch in tqdm(enumerate(dataloader)):\n",
    "        batch = tuple(t.to(device) for t in batch)\n",
    "        input_ids, type_ids, attn_mask, y = batch\n",
    "        \n",
    "        optimizer.zero_grad()\n",
    "        output = model(input_ids, type_ids, attn_mask)     \n",
    "        loss = criterion(output, y)\n",
    "        loss.backward()\n",
    "\n",
    "        #gradient clipping\n",
    "        torch.nn.utils.clip_grad_norm_(model.parameters(), clip)\n",
    "        optimizer.step()\n",
    "\n",
    "        ep_t_loss += loss.item()\n",
    "        batch_num += 1\n",
    "        pred.extend(torch.argmax(output, -1).tolist())\n",
    "        tgt.extend(y.tolist())\n",
    "\n",
    "    return ep_t_loss/batch_num, metrics.f1_score(tgt, pred, average='macro')\n",
    "\n",
    "# Evaluation function: Calculates loss on the validation data.\n",
    "from sklearn import metrics\n",
    "\n",
    "def evaluate(model, dataloader, criterion):\n",
    "\n",
    "    model.eval()\n",
    "\n",
    "    ep_t_loss = 0\n",
    "    batch_num  = 0\n",
    "    pred, tgt = [], []\n",
    "    for ix, batch in enumerate(dataloader):\n",
    "        batch = tuple(t.to(device) for t in batch)\n",
    "        input_ids, type_ids, attn_mask, y = batch\n",
    "\n",
    "        with torch.no_grad():\n",
    "            output = model(input_ids, type_ids, attn_mask)\n",
    "            \n",
    "            loss = criterion(output, y)\n",
    "\n",
    "            ep_t_loss += loss.item()\n",
    "            batch_num += 1\n",
    "            pred.extend(torch.argmax(output, -1).tolist())\n",
    "            tgt.extend(y.tolist())\n",
    "        \n",
    "    return ep_t_loss/batch_num, metrics.f1_score(tgt, pred, average='macro'), pred, tgt\n",
    "\n",
    "criterion = torch.nn.CrossEntropyLoss()\n",
    "optim = torch.optim.AdamW(model.parameters(), lr = 2e-5)\n",
    "\n",
    "best_valid_loss = float('inf')\n",
    "tot_t_loss, tot_v_loss =[],[]\n",
    "N_EPOCHS = 2\n",
    "\n",
    "import time\n",
    "from tqdm.notebook import tqdm\n",
    "\n",
    "for epoch in tqdm(range(N_EPOCHS)): \n",
    "\n",
    "    tr_l, tr_f1= train(model, train_datalaoder, optim, criterion)\n",
    "    tot_t_loss.append(tr_l)\n",
    "\n",
    "    val_l, val_f1, pred, tgt = evaluate(model, test_datalaoder, criterion)\n",
    "    tot_v_loss.append(val_l)\n",
    "    \n",
    "    if val_l < best_valid_loss:\n",
    "        best_valid_loss = val_l\n",
    "        best_pred, best_tgt = pred, tgt\n",
    "        torch.save(model.state_dict(), 'sample_data/model_least_loss.pt')\n",
    "        print(\"\\nBest Model Saved !!\")\n",
    "    elif epoch % 3 == 0:\n",
    "        torch.save(model.state_dict(), 'sample_data/model_checkpoint_'+str(epoch)+'.pt')\n",
    "        print(\"\\Checkpoint Model Saved !!\")\n",
    "    print(\"\\n\")\n",
    "    print(f'Epoch: {epoch+1:02}')\n",
    "    print(f'\\tTrain Total Loss: {tr_l:.3f} | Train F1: {tr_f1:.3f}')\n",
    "    print(f'\\tVal. Total Loss: {val_l:.3f} | Valid F1: {val_f1:.3f}')\n",
    "    print(\"_________________________________________________________________\")\n",
    "\n",
    "print(metrics.classification_report(best_tgt, best_pred))"
   ]
  },
  {
   "cell_type": "code",
   "execution_count": null,
   "metadata": {},
   "outputs": [],
   "source": [
    "#INTERACTION\n",
    "\n",
    "!pip install transformers -q\n",
    "\n",
    "# Load a spacy model and chekc if it has ner\n",
    "import spacy\n",
    "nlp=spacy.load('en_core_web_sm')\n",
    "\n",
    "from transformers import BertModel, BertTokenizerFast\n",
    "import torch\n",
    "import torch.nn as nn\n",
    "from sklearn.datasets import fetch_20newsgroups\n",
    "from pprint import  pprint\n",
    "import re\n",
    "from collections import Counter\n",
    "import pandas as pd\n",
    "import numpy as np\n",
    "\n",
    "device = torch.device('cuda' if torch.cuda.is_available() else 'cpu')\n",
    "\n",
    "nlp.pipe_names\n",
    "\n",
    "#> ['tagger', 'parser', 'ner']\n",
    "\n",
    "\n",
    "\n",
    "import pandas as pd\n",
    "\n",
    "\n",
    "train = pd.read_csv('sample_data/task_1_information_extraction_train.tsv', sep='\\t').dropna(subset = [\"NOTES\", \"INTERACTION\"])\n",
    "#.sample(frac = 0.1)\n",
    "\n",
    "categories = list(range(1, 9))\n",
    "X_train = train[\"NOTES\"].values\n",
    "Y_train = train[\"INTERACTION\"]\n",
    "\n",
    "test = pd.read_csv('sample_data/task_1_information_extraction_valid.tsv', sep='\\t').dropna(subset = [\"NOTES\", \"INTERACTION\"])\n",
    "\n",
    "\n",
    "X_test = test[\"NOTES\"].values\n",
    "Y_test = test[\"INTERACTION\"]\n",
    "\n",
    "\n",
    "#from sklearn.feature_extraction.text import TfidfVectorizer\n",
    "#Vectorizer = TfidfVectorizer()\n",
    "#X = Vectorizer.fit_transform(X)\n",
    "\n",
    "\n",
    "#remove stopwords to change sparsematrix (with 0s)\n",
    "\n",
    "train[\"INTERACTION\"].value_counts()\n",
    "\n",
    "class_to_idx = {x: i for i, x in enumerate(set(Y_train))}\n",
    "idx_to_class = {val: key for key, val in class_to_idx.items()}\n",
    "\n",
    "Y_train = Y_train.replace(class_to_idx).values\n",
    "Y_test = Y_test.replace(class_to_idx).values\n",
    "\n",
    "pd.Series(Y_test).value_counts()\n",
    "\n",
    "pd.Series(Y_train).value_counts()\n",
    "\n",
    "len(set(Y_test) - set(Y_train))\n",
    "\n",
    "len(set(Y_train))\n",
    "\n",
    "len(set(Y_test))\n",
    "\n",
    "Y_test.shape\n",
    "\n",
    "pd.Series(Y_train).value_counts()\n",
    "\n",
    "tokenizer = BertTokenizerFast.from_pretrained(\"bert-base-uncased\")\n",
    "\n",
    "train_enc = tokenizer.batch_encode_plus(list(X_train), padding=\"longest\", truncation=True, max_length=128, return_tensors=\"pt\")\n",
    "test_enc = tokenizer.batch_encode_plus(list(X_test), padding=\"longest\", truncation=True, max_length=128, return_tensors=\"pt\")\n",
    "\n",
    "train_input_ids, train_type_ids, train_attn_mask = train_enc.input_ids, train_enc.token_type_ids, train_enc.attention_mask\n",
    "test_input_ids, test_type_ids, test_attn_mask = test_enc.input_ids, test_enc.token_type_ids, test_enc.attention_mask\n",
    "\n",
    "from torch.utils.data import TensorDataset, DataLoader, RandomSampler, SequentialSampler\n",
    "\n",
    "# Below we define a function to create train, test & valid dataloaders in Pytorch\n",
    "\n",
    "batch_size = 32\n",
    "\n",
    "def get_dataloader(input_ids, type_ids, attn_mask, y):\n",
    "    data = TensorDataset(input_ids, type_ids, attn_mask, y)\n",
    "    sampler = RandomSampler(data)\n",
    "    dataloader = DataLoader(data, sampler=sampler, batch_size=batch_size)\n",
    "    return dataloader\n",
    "\n",
    "train_datalaoder = get_dataloader(train_input_ids, train_type_ids, train_attn_mask, torch.tensor(Y_train))\n",
    "test_datalaoder = get_dataloader(test_input_ids, test_type_ids, test_attn_mask, torch.tensor(Y_test))\n",
    "\n",
    "class BERTClassifier(nn.Module):\n",
    "  def __init__(self, transformer):\n",
    "    super().__init__()\n",
    "    self.transformer = transformer\n",
    "    self.linear = nn.Linear(768, len(set(Y_train)))\n",
    "  \n",
    "  def forward(self, in_ids, type_ids, attn_mask):\n",
    "    op = self.transformer(input_ids=in_ids, attention_mask=attn_mask, \n",
    "                          token_type_ids=type_ids)\n",
    "    \n",
    "    return  self.linear(op[\"pooler_output\"])\n",
    "\n",
    "def count_parameters(model):\n",
    "  return sum(p.numel() for p in model.parameters() if p.requires_grad)\n",
    "\n",
    "transformer = BertModel.from_pretrained(\"bert-base-uncased\")\n",
    "model = BERTClassifier(transformer).to(device)\n",
    "print(f'The model has {count_parameters(model):,} trainable parameters')\n",
    "\n",
    "len(train_datalaoder)\n",
    "\n",
    "def train(model, dataloader, optimizer, criterion, clip=1.0):\n",
    "\n",
    "    model.train()\n",
    "\n",
    "    ep_t_loss = 0\n",
    "    batch_num  = 0\n",
    "    pred, tgt = [], []\n",
    "    for ix, batch in tqdm(enumerate(dataloader), total=len(dataloader)):\n",
    "        batch = tuple(t.to(device) for t in batch)\n",
    "        input_ids, type_ids, attn_mask, y = batch\n",
    "        \n",
    "        optimizer.zero_grad()\n",
    "        output = model(input_ids, type_ids, attn_mask)     \n",
    "        loss = criterion(output, y)\n",
    "        loss.backward()\n",
    "\n",
    "        #gradient clipping\n",
    "        torch.nn.utils.clip_grad_norm_(model.parameters(), clip)\n",
    "        optimizer.step()\n",
    "\n",
    "        ep_t_loss += loss.item()\n",
    "        batch_num += 1\n",
    "        pred.extend(torch.argmax(output, -1).tolist())\n",
    "        tgt.extend(y.tolist())\n",
    "\n",
    "    return ep_t_loss/batch_num, metrics.f1_score(tgt, pred, average='macro')\n",
    "\n",
    "# Evaluation function: Calculates loss on the validation data.\n",
    "from sklearn import metrics\n",
    "\n",
    "def evaluate(model, dataloader, criterion):\n",
    "\n",
    "    model.eval()\n",
    "\n",
    "    ep_t_loss = 0\n",
    "    batch_num  = 0\n",
    "    pred, tgt = [], []\n",
    "    for ix, batch in enumerate(dataloader):\n",
    "        batch = tuple(t.to(device) for t in batch)\n",
    "        input_ids, type_ids, attn_mask, y = batch\n",
    "\n",
    "        with torch.no_grad():\n",
    "            output = model(input_ids, type_ids, attn_mask)\n",
    "            \n",
    "            loss = criterion(output, y)\n",
    "\n",
    "            ep_t_loss += loss.item()\n",
    "            batch_num += 1\n",
    "            pred.extend(torch.argmax(output, -1).tolist())\n",
    "            tgt.extend(y.tolist())\n",
    "        \n",
    "    return ep_t_loss/batch_num, metrics.f1_score(tgt, pred, average='macro'), pred, tgt\n",
    "\n",
    "criterion = torch.nn.CrossEntropyLoss()\n",
    "optim = torch.optim.AdamW(model.parameters(), lr = 2e-5)\n",
    "\n",
    "best_valid_loss = float('inf')\n",
    "tot_t_loss, tot_v_loss =[],[]\n",
    "N_EPOCHS = 2\n",
    "\n",
    "import time\n",
    "from tqdm.notebook import tqdm\n",
    "\n",
    "for epoch in range(N_EPOCHS): \n",
    "\n",
    "    tr_l, tr_f1= train(model, train_datalaoder, optim, criterion)\n",
    "    tot_t_loss.append(tr_l)\n",
    "\n",
    "    val_l, val_f1, pred, tgt = evaluate(model, test_datalaoder, criterion)\n",
    "    tot_v_loss.append(val_l)\n",
    "    \n",
    "    if val_l < best_valid_loss:\n",
    "        best_valid_loss = val_l\n",
    "        best_pred, best_tgt = pred, tgt\n",
    "        torch.save(model.state_dict(), 'sample_data/interaction_model_least_loss.pt')\n",
    "        print(\"\\nBest Model Saved !!\")\n",
    "    elif epoch % 3 == 0:\n",
    "        torch.save(model.state_dict(), 'sample_data/interaction_model_checkpoint_'+str(epoch)+'.pt')\n",
    "        print(\"\\Checkpoint Model Saved !!\")\n",
    "    print(\"\\n\")\n",
    "    print(f'Epoch: {epoch+1:02}')\n",
    "    print(f'\\tTrain Total Loss: {tr_l:.3f} | Train F1: {tr_f1:.3f}')\n",
    "    print(f'\\tVal. Total Loss: {val_l:.3f} | Valid F1: {val_f1:.3f}')\n",
    "    print(\"_________________________________________________________________\")\n",
    "\n",
    "print(metrics.classification_report(best_tgt, best_pred))\n",
    "\n",
    "best_tgt_class = [idx_to_class[x] for x in best_tgt]\n",
    "best_pred_class = [idx_to_class[x] for x in best_pred]"
   ]
  },
  {
   "cell_type": "code",
   "execution_count": null,
   "metadata": {},
   "outputs": [],
   "source": [
    "#ACTOR1\n",
    "\n",
    "\n",
    "\n",
    "#!pip install transformers -q\n",
    "\n",
    "# Load a spacy model and chekc if it has ner\n",
    "import spacy\n",
    "nlp=spacy.load('en_core_web_sm')\n",
    "\n",
    "from transformers import BertModel, BertTokenizerFast\n",
    "import torch\n",
    "import torch.nn as nn\n",
    "from sklearn.datasets import fetch_20newsgroups\n",
    "from pprint import  pprint\n",
    "import re\n",
    "from collections import Counter\n",
    "import pandas as pd\n",
    "import numpy as np\n",
    "\n",
    "device = torch.device('cuda' if torch.cuda.is_available() else 'cpu')\n",
    "\n",
    "nlp.pipe_names\n",
    "\n",
    "#> ['tagger', 'parser', 'ner']\n",
    "\n",
    "\n",
    "\n",
    "import pandas as pd\n",
    "\n",
    "train = pd.read_csv('task_1_information_extraction_train.tsv', sep='\\t').dropna(subset = [\"NOTES\", \"ACTOR1\"])\n",
    "#.sample(frac = 0.1)\n",
    "\n",
    "categories = list(range(1, 9))\n",
    "X_train = train[\"NOTES\"].values\n",
    "Y_train = train[\"ACTOR1\"].str.strip()\n",
    "less_common = Y_train.value_counts()\n",
    "less_common = set(less_common[less_common <= 5].index.tolist())\n",
    "Y_train[:] = np.where(Y_train.isin(less_common), 'Other', Y_train)\n",
    "\n",
    "test = pd.read_csv('task_1_information_extraction_valid.tsv', sep='\\t').dropna(subset = [\"NOTES\", \"ACTOR1\"])\n",
    "\n",
    "\n",
    "X_test = test[\"NOTES\"].values\n",
    "Y_test = test[\"ACTOR1\"].str.strip()\n",
    "Y_test[:] = np.where(~Y_test.isin(set(Y_train)), 'Other', Y_test)\n",
    "\n",
    "#from sklearn.feature_extraction.text import TfidfVectorizer\n",
    "#Vectorizer = TfidfVectorizer()\n",
    "#X = Vectorizer.fit_transform(X)\n",
    "\n",
    "\n",
    "#remove stopwords to change sparsematrix (with 0s)\n",
    "\n",
    "class_to_idx = {x: i for i, x in enumerate(set(Y_train))}\n",
    "idx_to_class = {val: key for key, val in class_to_idx.items()}\n",
    "\n",
    "Y_train = Y_train.replace(class_to_idx).values\n",
    "Y_test = Y_test.replace(class_to_idx).values\n",
    "\n",
    "pd.Series(Y_test).value_counts()\n",
    "\n",
    "pd.Series(Y_train).value_counts()\n",
    "\n",
    "len(set(Y_test) - set(Y_train))\n",
    "\n",
    "len(set(Y_train))\n",
    "\n",
    "len(set(Y_test))\n",
    "\n",
    "Y_test.shape\n",
    "\n",
    "pd.Series(Y_train).value_counts()\n",
    "\n",
    "tokenizer = BertTokenizerFast.from_pretrained(\"bert-base-uncased\")\n",
    "\n",
    "train_enc = tokenizer.batch_encode_plus(list(X_train), padding=\"longest\", truncation=True, max_length=128, return_tensors=\"pt\")\n",
    "test_enc = tokenizer.batch_encode_plus(list(X_test), padding=\"longest\", truncation=True, max_length=128, return_tensors=\"pt\")\n",
    "\n",
    "train_input_ids, train_type_ids, train_attn_mask = train_enc.input_ids, train_enc.token_type_ids, train_enc.attention_mask\n",
    "test_input_ids, test_type_ids, test_attn_mask = test_enc.input_ids, test_enc.token_type_ids, test_enc.attention_mask\n",
    "\n",
    "from torch.utils.data import TensorDataset, DataLoader, RandomSampler, SequentialSampler\n",
    "\n",
    "# Below we define a function to create train, test & valid dataloaders in Pytorch\n",
    "\n",
    "batch_size = 32\n",
    "\n",
    "def get_dataloader(input_ids, type_ids, attn_mask, y):\n",
    "    data = TensorDataset(input_ids, type_ids, attn_mask, y)\n",
    "    sampler = RandomSampler(data)\n",
    "    dataloader = DataLoader(data, sampler=sampler, batch_size=batch_size)\n",
    "    return dataloader\n",
    "\n",
    "train_datalaoder = get_dataloader(train_input_ids, train_type_ids, train_attn_mask, torch.tensor(Y_train))\n",
    "test_datalaoder = get_dataloader(test_input_ids, test_type_ids, test_attn_mask, torch.tensor(Y_test))\n",
    "\n",
    "class BERTClassifier(nn.Module):\n",
    "  def __init__(self, transformer):\n",
    "    super().__init__()\n",
    "    self.transformer = transformer\n",
    "    self.linear = nn.Linear(768, len(set(Y_train)))\n",
    "  \n",
    "  def forward(self, in_ids, type_ids, attn_mask):\n",
    "    op = self.transformer(input_ids=in_ids, attention_mask=attn_mask, \n",
    "                          token_type_ids=type_ids)\n",
    "    \n",
    "    return  self.linear(op[\"pooler_output\"])\n",
    "\n",
    "def count_parameters(model):\n",
    "  return sum(p.numel() for p in model.parameters() if p.requires_grad)\n",
    "\n",
    "transformer = BertModel.from_pretrained(\"bert-base-uncased\")\n",
    "model = BERTClassifier(transformer).to(device)\n",
    "print(f'The model has {count_parameters(model):,} trainable parameters')\n",
    "\n",
    "len(train_datalaoder)\n",
    "\n",
    "def train(model, dataloader, optimizer, criterion, clip=1.0):\n",
    "\n",
    "    model.train()\n",
    "\n",
    "    ep_t_loss = 0\n",
    "    batch_num  = 0\n",
    "    pred, tgt = [], []\n",
    "    for ix, batch in tqdm(enumerate(dataloader), total=len(dataloader)):\n",
    "        batch = tuple(t.to(device) for t in batch)\n",
    "        input_ids, type_ids, attn_mask, y = batch\n",
    "        \n",
    "        optimizer.zero_grad()\n",
    "        output = model(input_ids, type_ids, attn_mask)     \n",
    "        loss = criterion(output, y)\n",
    "        loss.backward()\n",
    "\n",
    "        #gradient clipping\n",
    "        torch.nn.utils.clip_grad_norm_(model.parameters(), clip)\n",
    "        optimizer.step()\n",
    "\n",
    "        ep_t_loss += loss.item()\n",
    "        batch_num += 1\n",
    "        pred.extend(torch.argmax(output, -1).tolist())\n",
    "        tgt.extend(y.tolist())\n",
    "\n",
    "    return ep_t_loss/batch_num, metrics.f1_score(tgt, pred, average='macro')\n",
    "\n",
    "# Evaluation function: Calculates loss on the validation data.\n",
    "from sklearn import metrics\n",
    "\n",
    "def evaluate(model, dataloader, criterion):\n",
    "\n",
    "    model.eval()\n",
    "\n",
    "    ep_t_loss = 0\n",
    "    batch_num  = 0\n",
    "    pred, tgt = [], []\n",
    "    for ix, batch in enumerate(dataloader):\n",
    "        batch = tuple(t.to(device) for t in batch)\n",
    "        input_ids, type_ids, attn_mask, y = batch\n",
    "\n",
    "        with torch.no_grad():\n",
    "            output = model(input_ids, type_ids, attn_mask)\n",
    "            \n",
    "            loss = criterion(output, y)\n",
    "\n",
    "            ep_t_loss += loss.item()\n",
    "            batch_num += 1\n",
    "            pred.extend(torch.argmax(output, -1).tolist())\n",
    "            tgt.extend(y.tolist())\n",
    "        \n",
    "    return ep_t_loss/batch_num, metrics.f1_score(tgt, pred, average='macro'), pred, tgt\n",
    "\n",
    "criterion = torch.nn.CrossEntropyLoss()\n",
    "optim = torch.optim.AdamW(model.parameters(), lr = 2e-5)\n",
    "\n",
    "best_valid_loss = float('inf')\n",
    "tot_t_loss, tot_v_loss =[],[]\n",
    "N_EPOCHS = 2\n",
    "\n",
    "import time\n",
    "from tqdm.notebook import tqdm\n",
    "\n",
    "for epoch in range(N_EPOCHS): \n",
    "\n",
    "    tr_l, tr_f1= train(model, train_datalaoder, optim, criterion)\n",
    "    tot_t_loss.append(tr_l)\n",
    "\n",
    "    val_l, val_f1, pred, tgt = evaluate(model, test_datalaoder, criterion)\n",
    "    tot_v_loss.append(val_l)\n",
    "    \n",
    "    if val_l < best_valid_loss:\n",
    "        best_valid_loss = val_l\n",
    "        best_pred, best_tgt = pred, tgt\n",
    "        torch.save(model.state_dict(), 'model_least_loss.pt')\n",
    "        print(\"\\nBest Model Saved !!\")\n",
    "    elif epoch % 3 == 0:\n",
    "        torch.save(model.state_dict(), 'model_checkpoint_'+str(epoch)+'.pt')\n",
    "        print(\"\\Checkpoint Model Saved !!\")\n",
    "    print(\"\\n\")\n",
    "    print(f'Epoch: {epoch+1:02}')\n",
    "    print(f'\\tTrain Total Loss: {tr_l:.3f} | Train F1: {tr_f1:.3f}')\n",
    "    print(f'\\tVal. Total Loss: {val_l:.3f} | Valid F1: {val_f1:.3f}')\n",
    "    print(\"_________________________________________________________________\")\n",
    "\n",
    "print(metrics.classification_report(best_tgt, best_pred))\n",
    "\n",
    "best_tgt_class = [idx_to_class[x] for x in best_tgt]\n",
    "best_pred_class = [idx_to_class[x] for x in best_pred]"
   ]
  },
  {
   "cell_type": "code",
   "execution_count": null,
   "metadata": {},
   "outputs": [],
   "source": [
    "#ACTOR2\n",
    "\n",
    "\n",
    "!pip install transformers -q\n",
    "\n",
    "# Load a spacy model and chekc if it has ner\n",
    "import spacy\n",
    "nlp=spacy.load('en_core_web_sm')\n",
    "\n",
    "from transformers import BertModel, BertTokenizerFast\n",
    "import torch\n",
    "import torch.nn as nn\n",
    "from sklearn.datasets import fetch_20newsgroups\n",
    "from pprint import  pprint\n",
    "import re\n",
    "from collections import Counter\n",
    "import pandas as pd\n",
    "import numpy as np\n",
    "\n",
    "device = torch.device('cuda' if torch.cuda.is_available() else 'cpu')\n",
    "\n",
    "nlp.pipe_names\n",
    "\n",
    "#> ['tagger', 'parser', 'ner']\n",
    "\n",
    "\n",
    "\n",
    "import pandas as pd\n",
    "\n",
    "ls\n",
    "\n",
    "train = pd.read_csv('task_1_information_extraction_train.tsv', sep='\\t').dropna(subset = [\"NOTES\", \"ACTOR2\"])#.sample(frac = 0.1)\n",
    "\n",
    "categories = list(range(1, 9))\n",
    "X_train = train[\"NOTES\"].values\n",
    "Y_train = train[\"ACTOR2\"].str.strip()\n",
    "less_common = Y_train.value_counts()\n",
    "less_common = set(less_common[less_common <= 10].index.tolist())\n",
    "Y_train[:] = np.where(Y_train.isin(less_common), 'Other', Y_train)\n",
    "\n",
    "test = pd.read_csv('task_1_information_extraction_valid.tsv', sep='\\t').dropna(subset = [\"NOTES\", \"ACTOR2\"])\n",
    "\n",
    "\n",
    "X_test = test[\"NOTES\"].values\n",
    "Y_test = test[\"ACTOR2\"].str.strip()\n",
    "Y_test[:] = np.where(~Y_test.isin(set(Y_train)), 'Other', Y_test)\n",
    "\n",
    "#from sklearn.feature_extraction.text import TfidfVectorizer\n",
    "#Vectorizer = TfidfVectorizer()\n",
    "#X = Vectorizer.fit_transform(X)\n",
    "\n",
    "\n",
    "#remove stopwords to change sparsematrix (with 0s)\n",
    "\n",
    "class_to_idx = {x: i for i, x in enumerate(set(Y_train))}\n",
    "idx_to_class = {val: key for key, val in class_to_idx.items()}\n",
    "\n",
    "Y_train = Y_train.replace(class_to_idx).values\n",
    "Y_test = Y_test.replace(class_to_idx).values\n",
    "\n",
    "pd.Series(Y_test).value_counts()\n",
    "\n",
    "pd.Series(Y_train).value_counts()\n",
    "\n",
    "len(set(Y_test) - set(Y_train))\n",
    "\n",
    "len(set(Y_train))\n",
    "\n",
    "len(set(Y_test))\n",
    "\n",
    "Y_test.shape\n",
    "\n",
    "pd.Series(Y_train).value_counts()\n",
    "\n",
    "tokenizer = BertTokenizerFast.from_pretrained(\"bert-base-uncased\")\n",
    "\n",
    "train_enc = tokenizer.batch_encode_plus(list(X_train), padding=\"longest\", truncation=True, max_length=128, return_tensors=\"pt\")\n",
    "test_enc = tokenizer.batch_encode_plus(list(X_test), padding=\"longest\", truncation=True, max_length=128, return_tensors=\"pt\")\n",
    "\n",
    "train_input_ids, train_type_ids, train_attn_mask = train_enc.input_ids, train_enc.token_type_ids, train_enc.attention_mask\n",
    "test_input_ids, test_type_ids, test_attn_mask = test_enc.input_ids, test_enc.token_type_ids, test_enc.attention_mask\n",
    "\n",
    "from torch.utils.data import TensorDataset, DataLoader, RandomSampler, SequentialSampler\n",
    "\n",
    "# Below we define a function to create train, test & valid dataloaders in Pytorch\n",
    "\n",
    "batch_size = 32\n",
    "\n",
    "def get_dataloader(input_ids, type_ids, attn_mask, y):\n",
    "    data = TensorDataset(input_ids, type_ids, attn_mask, y)\n",
    "    sampler = RandomSampler(data)\n",
    "    dataloader = DataLoader(data, sampler=sampler, batch_size=batch_size)\n",
    "    return dataloader\n",
    "\n",
    "train_datalaoder = get_dataloader(train_input_ids, train_type_ids, train_attn_mask, torch.tensor(Y_train))\n",
    "test_datalaoder = get_dataloader(test_input_ids, test_type_ids, test_attn_mask, torch.tensor(Y_test))\n",
    "\n",
    "class BERTClassifier(nn.Module):\n",
    "  def __init__(self, transformer):\n",
    "    super().__init__()\n",
    "    self.transformer = transformer\n",
    "    self.linear = nn.Linear(768, len(set(Y_train)))\n",
    "  \n",
    "  def forward(self, in_ids, type_ids, attn_mask):\n",
    "    op = self.transformer(input_ids=in_ids, attention_mask=attn_mask, \n",
    "                          token_type_ids=type_ids)\n",
    "    \n",
    "    return  self.linear(op[\"pooler_output\"])\n",
    "\n",
    "def count_parameters(model):\n",
    "  return sum(p.numel() for p in model.parameters() if p.requires_grad)\n",
    "\n",
    "transformer = BertModel.from_pretrained(\"bert-base-uncased\")\n",
    "model = BERTClassifier(transformer).to(device)\n",
    "print(f'The model has {count_parameters(model):,} trainable parameters')\n",
    "\n",
    "len(train_datalaoder)\n",
    "\n",
    "def train(model, dataloader, optimizer, criterion, clip=1.0):\n",
    "\n",
    "    model.train()\n",
    "\n",
    "    ep_t_loss = 0\n",
    "    batch_num  = 0\n",
    "    pred, tgt = [], []\n",
    "    for ix, batch in tqdm(enumerate(dataloader), total=len(dataloader)):\n",
    "        batch = tuple(t.to(device) for t in batch)\n",
    "        input_ids, type_ids, attn_mask, y = batch\n",
    "        \n",
    "        optimizer.zero_grad()\n",
    "        output = model(input_ids, type_ids, attn_mask)     \n",
    "        loss = criterion(output, y)\n",
    "        loss.backward()\n",
    "\n",
    "        #gradient clipping\n",
    "        torch.nn.utils.clip_grad_norm_(model.parameters(), clip)\n",
    "        optimizer.step()\n",
    "\n",
    "        ep_t_loss += loss.item()\n",
    "        batch_num += 1\n",
    "        pred.extend(torch.argmax(output, -1).tolist())\n",
    "        tgt.extend(y.tolist())\n",
    "\n",
    "    return ep_t_loss/batch_num, metrics.f1_score(tgt, pred, average='macro')\n",
    "\n",
    "# Evaluation function: Calculates loss on the validation data.\n",
    "from sklearn import metrics\n",
    "\n",
    "def evaluate(model, dataloader, criterion):\n",
    "\n",
    "    model.eval()\n",
    "\n",
    "    ep_t_loss = 0\n",
    "    batch_num  = 0\n",
    "    pred, tgt = [], []\n",
    "    for ix, batch in enumerate(dataloader):\n",
    "        batch = tuple(t.to(device) for t in batch)\n",
    "        input_ids, type_ids, attn_mask, y = batch\n",
    "\n",
    "        with torch.no_grad():\n",
    "            output = model(input_ids, type_ids, attn_mask)\n",
    "            \n",
    "            loss = criterion(output, y)\n",
    "\n",
    "            ep_t_loss += loss.item()\n",
    "            batch_num += 1\n",
    "            pred.extend(torch.argmax(output, -1).tolist())\n",
    "            tgt.extend(y.tolist())\n",
    "        \n",
    "    return ep_t_loss/batch_num, metrics.f1_score(tgt, pred, average='macro'), pred, tgt\n",
    "\n",
    "criterion = torch.nn.CrossEntropyLoss()\n",
    "optim = torch.optim.AdamW(model.parameters(), lr = 2e-5)\n",
    "\n",
    "best_valid_loss = float('inf')\n",
    "tot_t_loss, tot_v_loss =[],[]\n",
    "N_EPOCHS = 2\n",
    "\n",
    "import time\n",
    "from tqdm.notebook import tqdm\n",
    "\n",
    "for epoch in range(N_EPOCHS): \n",
    "\n",
    "    tr_l, tr_f1= train(model, train_datalaoder, optim, criterion)\n",
    "    tot_t_loss.append(tr_l)\n",
    "\n",
    "    val_l, val_f1, pred, tgt = evaluate(model, test_datalaoder, criterion)\n",
    "    tot_v_loss.append(val_l)\n",
    "    \n",
    "    if val_l < best_valid_loss:\n",
    "        best_valid_loss = val_l\n",
    "        best_pred, best_tgt = pred, tgt\n",
    "        torch.save(model.state_dict(), 'model_least_loss.pt')\n",
    "        print(\"\\nBest Model Saved !!\")\n",
    "    elif epoch % 3 == 0:\n",
    "        torch.save(model.state_dict(), 'model_checkpoint_'+str(epoch)+'.pt')\n",
    "        print(\"\\Checkpoint Model Saved !!\")\n",
    "    print(\"\\n\")\n",
    "    print(f'Epoch: {epoch+1:02}')\n",
    "    print(f'\\tTrain Total Loss: {tr_l:.3f} | Train F1: {tr_f1:.3f}')\n",
    "    print(f'\\tVal. Total Loss: {val_l:.3f} | Valid F1: {val_f1:.3f}')\n",
    "    print(\"_________________________________________________________________\")\n",
    "\n",
    "print(metrics.classification_report(best_tgt, best_pred))\n",
    "\n",
    "best_tgt_class = [idx_to_class[x] for x in best_tgt]\n",
    "best_pred_class = [idx_to_class[x] for x in best_pred]"
   ]
  },
  {
   "cell_type": "code",
   "execution_count": null,
   "metadata": {},
   "outputs": [],
   "source": [
    "#LOCATION by CLASSIFICATION \n",
    "\n",
    "!pip install transformers -q\n",
    "\n",
    "# Load a spacy model and chekc if it has ner\n",
    "import spacy\n",
    "nlp=spacy.load('en_core_web_sm')\n",
    "\n",
    "from transformers import BertModel, BertTokenizerFast\n",
    "import torch\n",
    "import torch.nn as nn\n",
    "from sklearn.datasets import fetch_20newsgroups\n",
    "from pprint import  pprint\n",
    "import re\n",
    "from collections import Counter\n",
    "import pandas as pd\n",
    "import numpy as np\n",
    "\n",
    "device = torch.device('cuda' if torch.cuda.is_available() else 'cpu')\n",
    "\n",
    "nlp.pipe_names\n",
    "\n",
    "#> ['tagger', 'parser', 'ner']\n",
    "\n",
    "from google.colab import drive\n",
    "drive.mount('/gdrive')\n",
    "\n",
    "import pandas as pd\n",
    "\n",
    "ls ../gdrive/MyDrive/nlp_task1\n",
    "\n",
    "#train[\"INTERACTION\"].value_counts()\n",
    "\n",
    "train = pd.read_csv('../gdrive/MyDrive/nlp_task1/task_1_information_extraction_train.tsv', sep='\\t').dropna(subset = [\"NOTES\", \"LOCATION\"]).sample(frac = 0.1)\n",
    "\n",
    "categories = list(range(1, 4))\n",
    "X_train = train[\"NOTES\"].values\n",
    "Y_train = train[\"LOCATION\"]\n",
    "\n",
    "test = pd.read_csv('../gdrive/MyDrive/nlp_task1/task_1_information_extraction_valid.tsv', sep='\\t').dropna(subset = [\"NOTES\", \"LOCATION\"]).sample(frac = 0.1)\n",
    "\n",
    "\n",
    "X_test = test[\"NOTES\"].values\n",
    "Y_test = test[\"LOCATION\"]\n",
    "\n",
    "class_to_idx = {x: i for i, x in enumerate(set(Y_train))}\n",
    "idx_to_class = {val: key for key, val in class_to_idx.items()}\n",
    "\n",
    "Y_train = Y_train.replace(class_to_idx).values\n",
    "Y_test = Y_test.replace(class_to_idx).values\n",
    "\n",
    "pd.Series(Y_train).value_counts().sort_index()\n",
    "\n",
    "pd.Series(Y_train).value_counts()\n",
    "\n",
    "len(set(Y_test) - set(Y_train))\n",
    "\n",
    "len(set(Y_train))\n",
    "\n",
    "len(set(Y_test))\n",
    "\n",
    "Y_test.shape\n",
    "\n",
    "pd.Series(Y_train).value_counts()\n",
    "\n",
    "tokenizer = BertTokenizerFast.from_pretrained(\"bert-base-uncased\")\n",
    "\n",
    "train_enc = tokenizer.batch_encode_plus(list(X_train), padding=\"longest\", truncation=True, max_length=128, return_tensors=\"pt\")\n",
    "test_enc = tokenizer.batch_encode_plus(list(X_test), padding=\"longest\", truncation=True, max_length=128, return_tensors=\"pt\")\n",
    "\n",
    "train_input_ids, train_type_ids, train_attn_mask = train_enc.input_ids, train_enc.token_type_ids, train_enc.attention_mask\n",
    "test_input_ids, test_type_ids, test_attn_mask = test_enc.input_ids, test_enc.token_type_ids, test_enc.attention_mask\n",
    "\n",
    "from torch.utils.data import TensorDataset, DataLoader, RandomSampler, SequentialSampler\n",
    "\n",
    "# Below we define a function to create train, test & valid dataloaders in Pytorch\n",
    "\n",
    "batch_size = 32\n",
    "\n",
    "def get_dataloader(input_ids, type_ids, attn_mask, y):\n",
    "    data = TensorDataset(input_ids, type_ids, attn_mask, y)\n",
    "    sampler = RandomSampler(data)\n",
    "    dataloader = DataLoader(data, sampler=sampler, batch_size=batch_size)\n",
    "    return dataloader\n",
    "\n",
    "train_datalaoder = get_dataloader(train_input_ids, train_type_ids, train_attn_mask, torch.tensor(Y_train))\n",
    "test_datalaoder = get_dataloader(test_input_ids, test_type_ids, test_attn_mask, torch.tensor(Y_test))\n",
    "\n",
    "class BERTClassifier(nn.Module):\n",
    "  def __init__(self, transformer):\n",
    "    super().__init__()\n",
    "    self.transformer = transformer\n",
    "    self.linear = nn.Linear(768, len(set(Y_train)))\n",
    "  \n",
    "  def forward(self, in_ids, type_ids, attn_mask):\n",
    "    op = self.transformer(input_ids=in_ids, attention_mask=attn_mask, \n",
    "                          token_type_ids=type_ids)\n",
    "    \n",
    "    return  self.linear(op[\"pooler_output\"])\n",
    "\n",
    "def count_parameters(model):\n",
    "  return sum(p.numel() for p in model.parameters() if p.requires_grad)\n",
    "\n",
    "transformer = BertModel.from_pretrained(\"bert-base-uncased\")\n",
    "model = BERTClassifier(transformer).to(device)\n",
    "print(f'The model has {count_parameters(model):,} trainable parameters')\n",
    "\n",
    "len(train_datalaoder)\n",
    "\n",
    "def train(model, train_dataloader, test_dataloader, optimizer, criterion, clip=1.0):\n",
    "\n",
    "    model.train()\n",
    "\n",
    "    ep_t_loss = 0\n",
    "    batch_num  = 0\n",
    "    pred, tgt = [], []\n",
    "    tr_batch_loss = []\n",
    "    vl_batch_loss = []\n",
    "    tr_batch_f1 = []\n",
    "    vl_batch_f1 = []\n",
    "    for ix, batch in tqdm(enumerate(train_dataloader), total=len(train_dataloader)):\n",
    "        batch = tuple(t.to(device) for t in batch)\n",
    "        input_ids, type_ids, attn_mask, y = batch\n",
    "        \n",
    "        optimizer.zero_grad()\n",
    "        output = model(input_ids, type_ids, attn_mask)     \n",
    "        loss = criterion(output, y)\n",
    "        loss.backward()\n",
    "\n",
    "        #gradient clipping\n",
    "        torch.nn.utils.clip_grad_norm_(model.parameters(), clip)\n",
    "        optimizer.step()\n",
    "\n",
    "        ep_t_loss += loss.item()\n",
    "        batch_num += 1\n",
    "        pred.extend(torch.argmax(output, -1).tolist())\n",
    "        tgt.extend(y.tolist())\n",
    "\n",
    "        if ix%300 == 0:\n",
    "          tr_l, tr_f1, _, _ = evaluate(model, train_dataloader, criterion)\n",
    "          vl_l, vl_f1, _, _ = evaluate(model, test_datalaoder, criterion)\n",
    "          tr_batch_loss.append(tr_l)\n",
    "          vl_batch_loss.append(vl_l)\n",
    "          tr_batch_f1.append(tr_f1)\n",
    "          vl_batch_f1.append(vl_f1)\n",
    "          model.train()\n",
    "    history = {'tr_batch_loss': tr_batch_loss,\n",
    "               'vl_batch_loss': vl_batch_loss,\n",
    "               'tr_batch_f1': tr_batch_f1, \n",
    "               'vl_batch_f1': vl_batch_f1}\n",
    "    return ep_t_loss/batch_num, metrics.f1_score(tgt, pred, average='macro'), history\n",
    "\n",
    "# Evaluation function: Calculates loss on the validation data.\n",
    "from sklearn import metrics\n",
    "\n",
    "def evaluate(model, dataloader, criterion):\n",
    "\n",
    "    model.eval()\n",
    "\n",
    "    ep_t_loss = 0\n",
    "    batch_num  = 0\n",
    "    pred, tgt = [], []\n",
    "    for ix, batch in enumerate(dataloader):\n",
    "        batch = tuple(t.to(device) for t in batch)\n",
    "        input_ids, type_ids, attn_mask, y = batch\n",
    "\n",
    "        with torch.no_grad():\n",
    "            output = model(input_ids, type_ids, attn_mask)\n",
    "            \n",
    "            loss = criterion(output, y)\n",
    "\n",
    "            ep_t_loss += loss.item()\n",
    "            batch_num += 1\n",
    "            pred.extend(torch.argmax(output, -1).tolist())\n",
    "            tgt.extend(y.tolist())\n",
    "        \n",
    "    return ep_t_loss/batch_num, metrics.f1_score(tgt, pred, average='macro'), pred, tgt\n",
    "\n",
    "criterion = torch.nn.CrossEntropyLoss()\n",
    "optim = torch.optim.AdamW(model.parameters(), lr = 2e-5)\n",
    "\n",
    "best_valid_loss = float('inf')\n",
    "tot_t_loss, tot_v_loss =[],[]\n",
    "N_EPOCHS = 2\n",
    "\n",
    "import time\n",
    "from tqdm.notebook import tqdm\n",
    "\n",
    "history_all = []\n",
    "for epoch in range(N_EPOCHS): \n",
    "\n",
    "    tr_l, tr_f1, history = train(model, train_datalaoder, test_datalaoder, optim, criterion)\n",
    "    tot_t_loss.append(tr_l)\n",
    "\n",
    "    val_l, val_f1, pred, tgt = evaluate(model, test_datalaoder, criterion)\n",
    "    tot_v_loss.append(val_l)\n",
    "    history_all.append(history)\n",
    "    \n",
    "    if val_l < best_valid_loss:\n",
    "        best_valid_loss = val_l\n",
    "        best_pred, best_tgt = pred, tgt\n",
    "        torch.save(model.state_dict(), 'model_least_loss.pt')\n",
    "        print(\"\\nBest Model Saved !!\")\n",
    "    elif epoch % 3 == 0:\n",
    "        torch.save(model.state_dict(), 'model_checkpoint_'+str(epoch)+'.pt')\n",
    "        print(\"\\Checkpoint Model Saved !!\")\n",
    "    print(\"\\n\")\n",
    "    print(f'Epoch: {epoch+1:02}')\n",
    "    print(f'\\tTrain Total Loss: {tr_l:.3f} | Train F1: {tr_f1:.3f}')\n",
    "    print(f'\\tVal. Total Loss: {val_l:.3f} | Valid F1: {val_f1:.3f}')\n",
    "    print(\"_________________________________________________________________\")\n",
    "\n",
    "print(metrics.classification_report(best_tgt, best_pred))\n",
    "\n",
    "import seaborn as sns\n",
    "import matplotlib.pyplot as plt\n",
    "\n",
    "plt.figure(figsize=(15,15))\n",
    "sns.heatmap(pd.crosstab(np.array(best_tgt), np.array(best_pred)), annot=True, cmap=sns.color_palette('RdBu_r', 30), fmt='.0f')\n",
    "plt.xlabel('Predicted')\n",
    "plt.ylabel('Actual');\n",
    "\n",
    "best_tgt_class = [idx_to_class[x] for x in best_tgt]\n",
    "best_pred_class = [idx_to_class[x] for x in best_pred]\n",
    "\n",
    "hist = history_all[0].copy()\n",
    "for d in history_all[1:]:\n",
    "  for key, val in d.items():\n",
    "    hist[key].extend(val)\n",
    "\n",
    "plt.figure(figsize=(15,4))\n",
    "plt.subplot(1,2,1)\n",
    "plt.plot(hist['tr_batch_loss'], label='train')\n",
    "plt.plot(hist['vl_batch_loss'], label='valid')\n",
    "plt.title('model loss') \n",
    "plt.ylabel('loss') \n",
    "plt.xlabel('epoch')\n",
    "plt.legend( loc = 'upper left') \n",
    "plt.subplot(1,2,2)\n",
    "plt.plot(hist['tr_batch_f1'], label='train')\n",
    "plt.plot(hist['vl_batch_f1'], label='valid')\n",
    "plt.title('model F1') \n",
    "plt.ylabel('F1') \n",
    "plt.xlabel('epoch')\n",
    "plt.legend( loc = 'upper left') \n",
    "plt.show()\n",
    "\n",
    "\n",
    "\n"
   ]
  }
 ],
 "metadata": {
  "accelerator": "GPU",
  "colab": {
   "collapsed_sections": [],
   "name": "NLPTask1.ipynb",
   "provenance": []
  },
  "kernelspec": {
   "display_name": "Python 3 (ipykernel)",
   "language": "python",
   "name": "python3"
  },
  "language_info": {
   "codemirror_mode": {
    "name": "ipython",
    "version": 3
   },
   "file_extension": ".py",
   "mimetype": "text/x-python",
   "name": "python",
   "nbconvert_exporter": "python",
   "pygments_lexer": "ipython3",
   "version": "3.9.7"
  }
 },
 "nbformat": 4,
 "nbformat_minor": 1
}
